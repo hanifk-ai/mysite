{
  "nbformat": 4,
  "nbformat_minor": 0,
  "metadata": {
    "kernelspec": {
      "display_name": "Python 3.7",
      "language": "python",
      "name": "python3"
    },
    "language_info": {
      "codemirror_mode": {
        "name": "ipython",
        "version": 3
      },
      "file_extension": ".py",
      "mimetype": "text/x-python",
      "name": "python",
      "nbconvert_exporter": "python",
      "pygments_lexer": "ipython3",
      "version": "3.7.9"
    },
    "colab": {
      "name": "Tesla & GameStop Submission Project.ipynb",
      "provenance": [],
      "include_colab_link": true
    }
  },
  "cells": [
    {
      "cell_type": "markdown",
      "metadata": {
        "id": "view-in-github",
        "colab_type": "text"
      },
      "source": [
        "<a href=\"https://colab.research.google.com/github/hanifkamil/mysite/blob/master/Tesla_%26_GameStop_Submission_Project.ipynb\" target=\"_parent\"><img src=\"https://colab.research.google.com/assets/colab-badge.svg\" alt=\"Open In Colab\"/></a>"
      ]
    },
    {
      "cell_type": "markdown",
      "metadata": {
        "collapsed": true,
        "id": "6eLnB3di17m4"
      },
      "source": [
        "<h1>Tesla & GameStop Submission Project</h1>"
      ]
    },
    {
      "cell_type": "markdown",
      "metadata": {
        "id": "VRLIyZAP17nF"
      },
      "source": [
        "<h2>Extracting and Visualizing Stock Data</h2>"
      ]
    },
    {
      "cell_type": "code",
      "metadata": {
        "id": "bdF9HFA117nG",
        "outputId": "adc9a61b-8fc6-4262-dfc9-d7e12b796a5a"
      },
      "source": [
        "!pip install yfinance\n",
        "!pip install pandas\n",
        "!pip install plotly"
      ],
      "execution_count": null,
      "outputs": [
        {
          "output_type": "stream",
          "text": [
            "Requirement already satisfied: yfinance in /opt/conda/envs/Python-3.7-main/lib/python3.7/site-packages (0.1.55)\n",
            "Requirement already satisfied: numpy>=1.15 in /opt/conda/envs/Python-3.7-main/lib/python3.7/site-packages (from yfinance) (1.18.5)\n",
            "Requirement already satisfied: lxml>=4.5.1 in /opt/conda/envs/Python-3.7-main/lib/python3.7/site-packages (from yfinance) (4.5.1)\n",
            "Requirement already satisfied: pandas>=0.24 in /opt/conda/envs/Python-3.7-main/lib/python3.7/site-packages (from yfinance) (1.0.5)\n",
            "Requirement already satisfied: multitasking>=0.0.7 in /opt/conda/envs/Python-3.7-main/lib/python3.7/site-packages (from yfinance) (0.0.9)\n",
            "Requirement already satisfied: requests>=2.20 in /opt/conda/envs/Python-3.7-main/lib/python3.7/site-packages (from yfinance) (2.24.0)\n",
            "Requirement already satisfied: python-dateutil>=2.6.1 in /opt/conda/envs/Python-3.7-main/lib/python3.7/site-packages (from pandas>=0.24->yfinance) (2.8.1)\n",
            "Requirement already satisfied: pytz>=2017.2 in /opt/conda/envs/Python-3.7-main/lib/python3.7/site-packages (from pandas>=0.24->yfinance) (2020.1)\n",
            "Requirement already satisfied: chardet<4,>=3.0.2 in /opt/conda/envs/Python-3.7-main/lib/python3.7/site-packages (from requests>=2.20->yfinance) (3.0.4)\n",
            "Requirement already satisfied: certifi>=2017.4.17 in /opt/conda/envs/Python-3.7-main/lib/python3.7/site-packages (from requests>=2.20->yfinance) (2020.12.5)\n",
            "Requirement already satisfied: urllib3!=1.25.0,!=1.25.1,<1.26,>=1.21.1 in /opt/conda/envs/Python-3.7-main/lib/python3.7/site-packages (from requests>=2.20->yfinance) (1.25.9)\n",
            "Requirement already satisfied: idna<3,>=2.5 in /opt/conda/envs/Python-3.7-main/lib/python3.7/site-packages (from requests>=2.20->yfinance) (2.9)\n",
            "Requirement already satisfied: six>=1.5 in /opt/conda/envs/Python-3.7-main/lib/python3.7/site-packages (from python-dateutil>=2.6.1->pandas>=0.24->yfinance) (1.15.0)\n",
            "Requirement already satisfied: pandas in /opt/conda/envs/Python-3.7-main/lib/python3.7/site-packages (1.0.5)\n",
            "Requirement already satisfied: numpy>=1.13.3 in /opt/conda/envs/Python-3.7-main/lib/python3.7/site-packages (from pandas) (1.18.5)\n",
            "Requirement already satisfied: python-dateutil>=2.6.1 in /opt/conda/envs/Python-3.7-main/lib/python3.7/site-packages (from pandas) (2.8.1)\n",
            "Requirement already satisfied: pytz>=2017.2 in /opt/conda/envs/Python-3.7-main/lib/python3.7/site-packages (from pandas) (2020.1)\n",
            "Requirement already satisfied: six>=1.5 in /opt/conda/envs/Python-3.7-main/lib/python3.7/site-packages (from python-dateutil>=2.6.1->pandas) (1.15.0)\n",
            "Requirement already satisfied: plotly in /opt/conda/envs/Python-3.7-main/lib/python3.7/site-packages (4.8.2)\n",
            "Requirement already satisfied: six in /opt/conda/envs/Python-3.7-main/lib/python3.7/site-packages (from plotly) (1.15.0)\n",
            "Requirement already satisfied: retrying>=1.3.3 in /opt/conda/envs/Python-3.7-main/lib/python3.7/site-packages (from plotly) (1.3.3)\n"
          ],
          "name": "stdout"
        }
      ]
    },
    {
      "cell_type": "code",
      "metadata": {
        "id": "qm8aD5uX17nI"
      },
      "source": [
        "import yfinance as yf\n",
        "import pandas as pd\n",
        "import plotly\n",
        "import plotly.graph_objects as go\n",
        "from plotly.subplots import make_subplots\n",
        "%matplotlib inline\n",
        "from matplotlib import pyplot as plt"
      ],
      "execution_count": null,
      "outputs": []
    },
    {
      "cell_type": "markdown",
      "metadata": {
        "id": "DTFqeCDI17nI"
      },
      "source": [
        "<h3>Question 1 - Extracting Tesla Stock Data Using yfinance</h3>"
      ]
    },
    {
      "cell_type": "code",
      "metadata": {
        "id": "0EE3xtO_17nJ"
      },
      "source": [
        "tesla_data = yf.Ticker(\"TSLA\")"
      ],
      "execution_count": null,
      "outputs": []
    },
    {
      "cell_type": "code",
      "metadata": {
        "id": "GcV96b_617nJ",
        "outputId": "742a86dd-0a37-4195-a8be-185c93e8fbe1"
      },
      "source": [
        "tesla_share_price_data = tesla_data.history(period=\"max\")\n",
        "tesla_share_price_data"
      ],
      "execution_count": null,
      "outputs": [
        {
          "output_type": "execute_result",
          "data": {
            "text/html": [
              "<div>\n",
              "<style scoped>\n",
              "    .dataframe tbody tr th:only-of-type {\n",
              "        vertical-align: middle;\n",
              "    }\n",
              "\n",
              "    .dataframe tbody tr th {\n",
              "        vertical-align: top;\n",
              "    }\n",
              "\n",
              "    .dataframe thead th {\n",
              "        text-align: right;\n",
              "    }\n",
              "</style>\n",
              "<table border=\"1\" class=\"dataframe\">\n",
              "  <thead>\n",
              "    <tr style=\"text-align: right;\">\n",
              "      <th></th>\n",
              "      <th>Open</th>\n",
              "      <th>High</th>\n",
              "      <th>Low</th>\n",
              "      <th>Close</th>\n",
              "      <th>Volume</th>\n",
              "      <th>Dividends</th>\n",
              "      <th>Stock Splits</th>\n",
              "    </tr>\n",
              "    <tr>\n",
              "      <th>Date</th>\n",
              "      <th></th>\n",
              "      <th></th>\n",
              "      <th></th>\n",
              "      <th></th>\n",
              "      <th></th>\n",
              "      <th></th>\n",
              "      <th></th>\n",
              "    </tr>\n",
              "  </thead>\n",
              "  <tbody>\n",
              "    <tr>\n",
              "      <th>2010-06-29</th>\n",
              "      <td>3.800000</td>\n",
              "      <td>5.000000</td>\n",
              "      <td>3.508000</td>\n",
              "      <td>4.778000</td>\n",
              "      <td>93831500</td>\n",
              "      <td>0</td>\n",
              "      <td>0.0</td>\n",
              "    </tr>\n",
              "    <tr>\n",
              "      <th>2010-06-30</th>\n",
              "      <td>5.158000</td>\n",
              "      <td>6.084000</td>\n",
              "      <td>4.660000</td>\n",
              "      <td>4.766000</td>\n",
              "      <td>85935500</td>\n",
              "      <td>0</td>\n",
              "      <td>0.0</td>\n",
              "    </tr>\n",
              "    <tr>\n",
              "      <th>2010-07-01</th>\n",
              "      <td>5.000000</td>\n",
              "      <td>5.184000</td>\n",
              "      <td>4.054000</td>\n",
              "      <td>4.392000</td>\n",
              "      <td>41094000</td>\n",
              "      <td>0</td>\n",
              "      <td>0.0</td>\n",
              "    </tr>\n",
              "    <tr>\n",
              "      <th>2010-07-02</th>\n",
              "      <td>4.600000</td>\n",
              "      <td>4.620000</td>\n",
              "      <td>3.742000</td>\n",
              "      <td>3.840000</td>\n",
              "      <td>25699000</td>\n",
              "      <td>0</td>\n",
              "      <td>0.0</td>\n",
              "    </tr>\n",
              "    <tr>\n",
              "      <th>2010-07-06</th>\n",
              "      <td>4.000000</td>\n",
              "      <td>4.000000</td>\n",
              "      <td>3.166000</td>\n",
              "      <td>3.222000</td>\n",
              "      <td>34334500</td>\n",
              "      <td>0</td>\n",
              "      <td>0.0</td>\n",
              "    </tr>\n",
              "    <tr>\n",
              "      <th>...</th>\n",
              "      <td>...</td>\n",
              "      <td>...</td>\n",
              "      <td>...</td>\n",
              "      <td>...</td>\n",
              "      <td>...</td>\n",
              "      <td>...</td>\n",
              "      <td>...</td>\n",
              "    </tr>\n",
              "    <tr>\n",
              "      <th>2021-02-22</th>\n",
              "      <td>762.640015</td>\n",
              "      <td>768.500000</td>\n",
              "      <td>710.200012</td>\n",
              "      <td>714.500000</td>\n",
              "      <td>37011700</td>\n",
              "      <td>0</td>\n",
              "      <td>0.0</td>\n",
              "    </tr>\n",
              "    <tr>\n",
              "      <th>2021-02-23</th>\n",
              "      <td>662.130005</td>\n",
              "      <td>713.609985</td>\n",
              "      <td>619.000000</td>\n",
              "      <td>698.840027</td>\n",
              "      <td>66397000</td>\n",
              "      <td>0</td>\n",
              "      <td>0.0</td>\n",
              "    </tr>\n",
              "    <tr>\n",
              "      <th>2021-02-24</th>\n",
              "      <td>711.849976</td>\n",
              "      <td>745.000000</td>\n",
              "      <td>694.169983</td>\n",
              "      <td>742.020020</td>\n",
              "      <td>36677100</td>\n",
              "      <td>0</td>\n",
              "      <td>0.0</td>\n",
              "    </tr>\n",
              "    <tr>\n",
              "      <th>2021-02-25</th>\n",
              "      <td>726.150024</td>\n",
              "      <td>737.210022</td>\n",
              "      <td>670.580017</td>\n",
              "      <td>682.219971</td>\n",
              "      <td>38619900</td>\n",
              "      <td>0</td>\n",
              "      <td>0.0</td>\n",
              "    </tr>\n",
              "    <tr>\n",
              "      <th>2021-02-26</th>\n",
              "      <td>700.000000</td>\n",
              "      <td>706.700012</td>\n",
              "      <td>659.510010</td>\n",
              "      <td>675.500000</td>\n",
              "      <td>41011300</td>\n",
              "      <td>0</td>\n",
              "      <td>0.0</td>\n",
              "    </tr>\n",
              "  </tbody>\n",
              "</table>\n",
              "<p>2685 rows × 7 columns</p>\n",
              "</div>"
            ],
            "text/plain": [
              "                  Open        High         Low       Close    Volume  \\\n",
              "Date                                                                   \n",
              "2010-06-29    3.800000    5.000000    3.508000    4.778000  93831500   \n",
              "2010-06-30    5.158000    6.084000    4.660000    4.766000  85935500   \n",
              "2010-07-01    5.000000    5.184000    4.054000    4.392000  41094000   \n",
              "2010-07-02    4.600000    4.620000    3.742000    3.840000  25699000   \n",
              "2010-07-06    4.000000    4.000000    3.166000    3.222000  34334500   \n",
              "...                ...         ...         ...         ...       ...   \n",
              "2021-02-22  762.640015  768.500000  710.200012  714.500000  37011700   \n",
              "2021-02-23  662.130005  713.609985  619.000000  698.840027  66397000   \n",
              "2021-02-24  711.849976  745.000000  694.169983  742.020020  36677100   \n",
              "2021-02-25  726.150024  737.210022  670.580017  682.219971  38619900   \n",
              "2021-02-26  700.000000  706.700012  659.510010  675.500000  41011300   \n",
              "\n",
              "            Dividends  Stock Splits  \n",
              "Date                                 \n",
              "2010-06-29          0           0.0  \n",
              "2010-06-30          0           0.0  \n",
              "2010-07-01          0           0.0  \n",
              "2010-07-02          0           0.0  \n",
              "2010-07-06          0           0.0  \n",
              "...               ...           ...  \n",
              "2021-02-22          0           0.0  \n",
              "2021-02-23          0           0.0  \n",
              "2021-02-24          0           0.0  \n",
              "2021-02-25          0           0.0  \n",
              "2021-02-26          0           0.0  \n",
              "\n",
              "[2685 rows x 7 columns]"
            ]
          },
          "metadata": {
            "tags": []
          },
          "execution_count": 103
        }
      ]
    },
    {
      "cell_type": "code",
      "metadata": {
        "id": "jLLv5FLX17nK"
      },
      "source": [
        "tesla_share_price_data.reset_index(inplace=True)"
      ],
      "execution_count": null,
      "outputs": []
    },
    {
      "cell_type": "code",
      "metadata": {
        "id": "XorGhfb017nK",
        "outputId": "7262aa47-c3e0-4617-d698-a94b5b714735"
      },
      "source": [
        "tesla_share_price_data.head()"
      ],
      "execution_count": null,
      "outputs": [
        {
          "output_type": "execute_result",
          "data": {
            "text/html": [
              "<div>\n",
              "<style scoped>\n",
              "    .dataframe tbody tr th:only-of-type {\n",
              "        vertical-align: middle;\n",
              "    }\n",
              "\n",
              "    .dataframe tbody tr th {\n",
              "        vertical-align: top;\n",
              "    }\n",
              "\n",
              "    .dataframe thead th {\n",
              "        text-align: right;\n",
              "    }\n",
              "</style>\n",
              "<table border=\"1\" class=\"dataframe\">\n",
              "  <thead>\n",
              "    <tr style=\"text-align: right;\">\n",
              "      <th></th>\n",
              "      <th>Date</th>\n",
              "      <th>Open</th>\n",
              "      <th>High</th>\n",
              "      <th>Low</th>\n",
              "      <th>Close</th>\n",
              "      <th>Volume</th>\n",
              "      <th>Dividends</th>\n",
              "      <th>Stock Splits</th>\n",
              "    </tr>\n",
              "  </thead>\n",
              "  <tbody>\n",
              "    <tr>\n",
              "      <th>0</th>\n",
              "      <td>2010-06-29</td>\n",
              "      <td>3.800</td>\n",
              "      <td>5.000</td>\n",
              "      <td>3.508</td>\n",
              "      <td>4.778</td>\n",
              "      <td>93831500</td>\n",
              "      <td>0</td>\n",
              "      <td>0.0</td>\n",
              "    </tr>\n",
              "    <tr>\n",
              "      <th>1</th>\n",
              "      <td>2010-06-30</td>\n",
              "      <td>5.158</td>\n",
              "      <td>6.084</td>\n",
              "      <td>4.660</td>\n",
              "      <td>4.766</td>\n",
              "      <td>85935500</td>\n",
              "      <td>0</td>\n",
              "      <td>0.0</td>\n",
              "    </tr>\n",
              "    <tr>\n",
              "      <th>2</th>\n",
              "      <td>2010-07-01</td>\n",
              "      <td>5.000</td>\n",
              "      <td>5.184</td>\n",
              "      <td>4.054</td>\n",
              "      <td>4.392</td>\n",
              "      <td>41094000</td>\n",
              "      <td>0</td>\n",
              "      <td>0.0</td>\n",
              "    </tr>\n",
              "    <tr>\n",
              "      <th>3</th>\n",
              "      <td>2010-07-02</td>\n",
              "      <td>4.600</td>\n",
              "      <td>4.620</td>\n",
              "      <td>3.742</td>\n",
              "      <td>3.840</td>\n",
              "      <td>25699000</td>\n",
              "      <td>0</td>\n",
              "      <td>0.0</td>\n",
              "    </tr>\n",
              "    <tr>\n",
              "      <th>4</th>\n",
              "      <td>2010-07-06</td>\n",
              "      <td>4.000</td>\n",
              "      <td>4.000</td>\n",
              "      <td>3.166</td>\n",
              "      <td>3.222</td>\n",
              "      <td>34334500</td>\n",
              "      <td>0</td>\n",
              "      <td>0.0</td>\n",
              "    </tr>\n",
              "  </tbody>\n",
              "</table>\n",
              "</div>"
            ],
            "text/plain": [
              "        Date   Open   High    Low  Close    Volume  Dividends  Stock Splits\n",
              "0 2010-06-29  3.800  5.000  3.508  4.778  93831500          0           0.0\n",
              "1 2010-06-30  5.158  6.084  4.660  4.766  85935500          0           0.0\n",
              "2 2010-07-01  5.000  5.184  4.054  4.392  41094000          0           0.0\n",
              "3 2010-07-02  4.600  4.620  3.742  3.840  25699000          0           0.0\n",
              "4 2010-07-06  4.000  4.000  3.166  3.222  34334500          0           0.0"
            ]
          },
          "metadata": {
            "tags": []
          },
          "execution_count": 106
        }
      ]
    },
    {
      "cell_type": "code",
      "metadata": {
        "id": "WIUnwGA-17nL",
        "outputId": "1593ef49-6654-4ce9-d08e-054ef0f7e4ea"
      },
      "source": [
        "tesla_share_price_data.plot(x=\"Date\", y=\"Open\")"
      ],
      "execution_count": null,
      "outputs": [
        {
          "output_type": "execute_result",
          "data": {
            "text/plain": [
              "<matplotlib.axes._subplots.AxesSubplot at 0x7f21345ced50>"
            ]
          },
          "metadata": {
            "tags": []
          },
          "execution_count": 107
        },
        {
          "output_type": "display_data",
          "data": {
            "image/png": "[encoded data removed]",
            "text/plain": [
              "<Figure size 432x288 with 1 Axes>"
            ]
          },
          "metadata": {
            "tags": [],
            "needs_background": "light"
          }
        }
      ]
    },
    {
      "cell_type": "code",
      "metadata": {
        "id": "ESPvnyv317nL",
        "outputId": "37d2ba0f-fc4e-4185-d9c4-4e581d302174"
      },
      "source": [
        "tesla_data.dividends"
      ],
      "execution_count": null,
      "outputs": [
        {
          "output_type": "execute_result",
          "data": {
            "text/plain": [
              "Series([], Name: Dividends, dtype: int64)"
            ]
          },
          "metadata": {
            "tags": []
          },
          "execution_count": 108
        }
      ]
    },
    {
      "cell_type": "code",
      "metadata": {
        "id": "vGQ-6slz17nM",
        "outputId": "a5a6db94-a983-4da6-c739-e272b4a4bf28"
      },
      "source": [
        "tesla_data.dividends.plot()"
      ],
      "execution_count": null,
      "outputs": [
        {
          "output_type": "execute_result",
          "data": {
            "text/plain": [
              "<matplotlib.axes._subplots.AxesSubplot at 0x7f212d07cad0>"
            ]
          },
          "metadata": {
            "tags": []
          },
          "execution_count": 109
        },
        {
          "output_type": "display_data",
          "data": {
            "image/png": "[encoded data removed]",
            "text/plain": [
              "<Figure size 432x288 with 1 Axes>"
            ]
          },
          "metadata": {
            "tags": [],
            "needs_background": "light"
          }
        }
      ]
    },
    {
      "cell_type": "markdown",
      "metadata": {
        "id": "v0XUfn4S17nM"
      },
      "source": [
        "<h2>Question 5: Plot Tesla Stock Graph</h2>"
      ]
    },
    {
      "cell_type": "code",
      "metadata": {
        "scrolled": true,
        "id": "EhOOyPYc17nM",
        "outputId": "148b971b-7814-48ef-e319-294880e8d26f"
      },
      "source": [
        "tesla_share_price_data['Volume'].plot(label='Tesla',\n",
        "    figsize=(8,4),title='Plot Tesla Stock Graph');\n",
        "plt.legend();\n",
        "plt.show()"
      ],
      "execution_count": null,
      "outputs": [
        {
          "output_type": "display_data",
          "data": {
            "image/png": "[encoded data removed]",
            "text/plain": [
              "<Figure size 576x288 with 1 Axes>"
            ]
          },
          "metadata": {
            "tags": [],
            "needs_background": "light"
          }
        }
      ]
    },
    {
      "cell_type": "markdown",
      "metadata": {
        "id": "kMXtHg6517nN"
      },
      "source": [
        "<h1>================================================</h1>"
      ]
    },
    {
      "cell_type": "code",
      "metadata": {
        "id": "CF-QEUON17nN",
        "outputId": "36d6e069-67f1-495d-e72b-675c82e50e60"
      },
      "source": [
        "!pip install requests\n",
        "!pip install bs4"
      ],
      "execution_count": null,
      "outputs": [
        {
          "output_type": "stream",
          "text": [
            "Requirement already satisfied: requests in /opt/conda/envs/Python-3.7-main/lib/python3.7/site-packages (2.24.0)\n",
            "Requirement already satisfied: chardet<4,>=3.0.2 in /opt/conda/envs/Python-3.7-main/lib/python3.7/site-packages (from requests) (3.0.4)\n",
            "Requirement already satisfied: urllib3!=1.25.0,!=1.25.1,<1.26,>=1.21.1 in /opt/conda/envs/Python-3.7-main/lib/python3.7/site-packages (from requests) (1.25.9)\n",
            "Requirement already satisfied: idna<3,>=2.5 in /opt/conda/envs/Python-3.7-main/lib/python3.7/site-packages (from requests) (2.9)\n",
            "Requirement already satisfied: certifi>=2017.4.17 in /opt/conda/envs/Python-3.7-main/lib/python3.7/site-packages (from requests) (2020.12.5)\n",
            "Requirement already satisfied: bs4 in /opt/conda/envs/Python-3.7-main/lib/python3.7/site-packages (0.0.1)\n",
            "Requirement already satisfied: beautifulsoup4 in /opt/conda/envs/Python-3.7-main/lib/python3.7/site-packages (from bs4) (4.9.1)\n",
            "Requirement already satisfied: soupsieve>1.2 in /opt/conda/envs/Python-3.7-main/lib/python3.7/site-packages (from beautifulsoup4->bs4) (2.0.1)\n"
          ],
          "name": "stdout"
        }
      ]
    },
    {
      "cell_type": "code",
      "metadata": {
        "id": "AOG-g0Ts17nN"
      },
      "source": [
        "import numpy as np\n",
        "import requests\n",
        "from bs4 import BeautifulSoup"
      ],
      "execution_count": null,
      "outputs": []
    },
    {
      "cell_type": "markdown",
      "metadata": {
        "id": "rUXXoEeU17nO"
      },
      "source": [
        "<h3>Question 2 - Extracting Tesla Revenue Data Using Webscraping</h3>"
      ]
    },
    {
      "cell_type": "code",
      "metadata": {
        "id": "ZDvKO96P17nO"
      },
      "source": [
        "url='https://finance.yahoo.com/quote/TSLA/history?p=TSLA'"
      ],
      "execution_count": null,
      "outputs": []
    },
    {
      "cell_type": "code",
      "metadata": {
        "id": "-ViYhdP_17nO"
      },
      "source": [
        "tesla_revenue  = requests.get(url).text"
      ],
      "execution_count": null,
      "outputs": []
    },
    {
      "cell_type": "code",
      "metadata": {
        "id": "UeJ_Px1517nO"
      },
      "source": [
        "soup = BeautifulSoup(tesla_revenue,\"html5lib\")"
      ],
      "execution_count": null,
      "outputs": []
    },
    {
      "cell_type": "code",
      "metadata": {
        "id": "LDBFvdP117nP"
      },
      "source": [
        "table = soup.find_all('table')"
      ],
      "execution_count": null,
      "outputs": []
    },
    {
      "cell_type": "code",
      "metadata": {
        "id": "C__UEJ6J17nP",
        "outputId": "80872af7-0d54-4409-8b8f-1d70b4a059b9"
      },
      "source": [
        "len(table)"
      ],
      "execution_count": null,
      "outputs": [
        {
          "output_type": "execute_result",
          "data": {
            "text/plain": [
              "1"
            ]
          },
          "metadata": {
            "tags": []
          },
          "execution_count": 139
        }
      ]
    },
    {
      "cell_type": "code",
      "metadata": {
        "id": "U9NdOdPJ17nQ"
      },
      "source": [
        "tesla_revenue = pd.DataFrame(columns=[\"Date\", \"Open\", \"High\", \"Low\", \"Close\", \"Volume\"])\n",
        "\n",
        "for row in soup.find(\"tbody\").find_all(\"tr\"):\n",
        "    col = row.find_all(\"td\")\n",
        "    date =col[0].text\n",
        "    Open =col[1].text\n",
        "    high =col[2].text\n",
        "    low =col[3].text\n",
        "    close =col[4].text\n",
        "    adj_close =col[4].text\n",
        "    volume =col[5].text\n",
        "    \n",
        "    tesla_revenue = tesla_revenue.append({\"Date\":date, \"Open\":Open, \"High\":high, \"Low\":low, \"Close\":close, \"Adj Close\":adj_close, \"Volume\":volume}, ignore_index=True)"
      ],
      "execution_count": null,
      "outputs": []
    },
    {
      "cell_type": "code",
      "metadata": {
        "id": "NZl3UNQT17nR",
        "outputId": "d4e053e6-0a04-4a33-de69-a5ef09dfc4f1"
      },
      "source": [
        "tesla_revenue.tail()"
      ],
      "execution_count": null,
      "outputs": [
        {
          "output_type": "execute_result",
          "data": {
            "text/html": [
              "<div>\n",
              "<style scoped>\n",
              "    .dataframe tbody tr th:only-of-type {\n",
              "        vertical-align: middle;\n",
              "    }\n",
              "\n",
              "    .dataframe tbody tr th {\n",
              "        vertical-align: top;\n",
              "    }\n",
              "\n",
              "    .dataframe thead th {\n",
              "        text-align: right;\n",
              "    }\n",
              "</style>\n",
              "<table border=\"1\" class=\"dataframe\">\n",
              "  <thead>\n",
              "    <tr style=\"text-align: right;\">\n",
              "      <th></th>\n",
              "      <th>index</th>\n",
              "      <th>Date</th>\n",
              "      <th>Open</th>\n",
              "      <th>High</th>\n",
              "      <th>Low</th>\n",
              "      <th>Close</th>\n",
              "      <th>Volume</th>\n",
              "      <th>Adj Close</th>\n",
              "    </tr>\n",
              "  </thead>\n",
              "  <tbody>\n",
              "    <tr>\n",
              "      <th>95</th>\n",
              "      <td>95</td>\n",
              "      <td>Oct 09, 2020</td>\n",
              "      <td>430.13</td>\n",
              "      <td>434.59</td>\n",
              "      <td>426.46</td>\n",
              "      <td>434.00</td>\n",
              "      <td>434.00</td>\n",
              "      <td>434.00</td>\n",
              "    </tr>\n",
              "    <tr>\n",
              "      <th>96</th>\n",
              "      <td>96</td>\n",
              "      <td>Oct 08, 2020</td>\n",
              "      <td>438.44</td>\n",
              "      <td>439.00</td>\n",
              "      <td>425.30</td>\n",
              "      <td>425.92</td>\n",
              "      <td>425.92</td>\n",
              "      <td>425.92</td>\n",
              "    </tr>\n",
              "    <tr>\n",
              "      <th>97</th>\n",
              "      <td>97</td>\n",
              "      <td>Oct 07, 2020</td>\n",
              "      <td>419.87</td>\n",
              "      <td>429.90</td>\n",
              "      <td>413.85</td>\n",
              "      <td>425.30</td>\n",
              "      <td>425.30</td>\n",
              "      <td>425.30</td>\n",
              "    </tr>\n",
              "    <tr>\n",
              "      <th>98</th>\n",
              "      <td>98</td>\n",
              "      <td>Oct 06, 2020</td>\n",
              "      <td>423.79</td>\n",
              "      <td>428.78</td>\n",
              "      <td>406.05</td>\n",
              "      <td>413.98</td>\n",
              "      <td>413.98</td>\n",
              "      <td>413.98</td>\n",
              "    </tr>\n",
              "    <tr>\n",
              "      <th>99</th>\n",
              "      <td>99</td>\n",
              "      <td>Oct 05, 2020</td>\n",
              "      <td>423.35</td>\n",
              "      <td>433.64</td>\n",
              "      <td>419.33</td>\n",
              "      <td>425.68</td>\n",
              "      <td>425.68</td>\n",
              "      <td>425.68</td>\n",
              "    </tr>\n",
              "  </tbody>\n",
              "</table>\n",
              "</div>"
            ],
            "text/plain": [
              "    index          Date    Open    High     Low   Close  Volume Adj Close\n",
              "95     95  Oct 09, 2020  430.13  434.59  426.46  434.00  434.00    434.00\n",
              "96     96  Oct 08, 2020  438.44  439.00  425.30  425.92  425.92    425.92\n",
              "97     97  Oct 07, 2020  419.87  429.90  413.85  425.30  425.30    425.30\n",
              "98     98  Oct 06, 2020  423.79  428.78  406.05  413.98  413.98    413.98\n",
              "99     99  Oct 05, 2020  423.35  433.64  419.33  425.68  425.68    425.68"
            ]
          },
          "metadata": {
            "tags": []
          },
          "execution_count": 145
        }
      ]
    },
    {
      "cell_type": "markdown",
      "metadata": {
        "id": "CGVyP2hB17nS"
      },
      "source": [
        "<h3>Tesla Revenue Dashboard</h3>"
      ]
    },
    {
      "cell_type": "code",
      "metadata": {
        "id": "EyFwrNSV17nS",
        "outputId": "aed78d57-0c09-4059-e177-593f1ee5b11c"
      },
      "source": [
        "tesla_revenue.assign(dummy = 1).groupby(\n",
        "  ['Date','Volume']\n",
        ").size().to_frame().unstack().plot(kind='bar',stacked=True,legend=False)\n",
        "\n",
        "plt.title('Tesla Revenue Data Dashboard')\n",
        "\n",
        "# other it'll show up as 'dummy' \n",
        "plt.xlabel('Volume')\n",
        "\n",
        "# disable ticks in the x axis\n",
        "plt.xticks([])\n",
        "\n",
        "# fix the legend\n",
        "current_handles, _ = plt.gca().get_legend_handles_labels()\n",
        "reversed_handles = reversed(current_handles)\n",
        "\n",
        "labels = reversed(tesla_revenue['Volume'].unique())\n",
        "\n",
        "plt.legend(reversed_handles,labels,loc='lower right')\n",
        "plt.show()"
      ],
      "execution_count": null,
      "outputs": [
        {
          "output_type": "display_data",
          "data": {
            "image/png": "[encoded data removed]",
            "text/plain": [
              "<Figure size 432x288 with 1 Axes>"
            ]
          },
          "metadata": {
            "tags": [],
            "needs_background": "light"
          }
        }
      ]
    },
    {
      "cell_type": "markdown",
      "metadata": {
        "id": "HcmLc3hr17nS"
      },
      "source": [
        "<h1>================================================</h1>"
      ]
    },
    {
      "cell_type": "code",
      "metadata": {
        "id": "SqjrMTnR17nT"
      },
      "source": [
        "import yfinance as yf"
      ],
      "execution_count": null,
      "outputs": []
    },
    {
      "cell_type": "markdown",
      "metadata": {
        "id": "B6jDjBto17nT"
      },
      "source": [
        "<h3>Question 3 - Extracting GameStop Stock Data Using yfinance</h3>"
      ]
    },
    {
      "cell_type": "code",
      "metadata": {
        "id": "MrLECztX17nT"
      },
      "source": [
        "gme_data = yf.Ticker(\"GME\")"
      ],
      "execution_count": null,
      "outputs": []
    },
    {
      "cell_type": "code",
      "metadata": {
        "id": "rGlHZ5LL17nT",
        "outputId": "c7681296-4994-481b-9fca-7eda77b8c159"
      },
      "source": [
        "gme_share_price_data = gme_data.history(period=\"max\")\n",
        "gme_share_price_data"
      ],
      "execution_count": null,
      "outputs": [
        {
          "output_type": "execute_result",
          "data": {
            "text/html": [
              "<div>\n",
              "<style scoped>\n",
              "    .dataframe tbody tr th:only-of-type {\n",
              "        vertical-align: middle;\n",
              "    }\n",
              "\n",
              "    .dataframe tbody tr th {\n",
              "        vertical-align: top;\n",
              "    }\n",
              "\n",
              "    .dataframe thead th {\n",
              "        text-align: right;\n",
              "    }\n",
              "</style>\n",
              "<table border=\"1\" class=\"dataframe\">\n",
              "  <thead>\n",
              "    <tr style=\"text-align: right;\">\n",
              "      <th></th>\n",
              "      <th>Open</th>\n",
              "      <th>High</th>\n",
              "      <th>Low</th>\n",
              "      <th>Close</th>\n",
              "      <th>Volume</th>\n",
              "      <th>Dividends</th>\n",
              "      <th>Stock Splits</th>\n",
              "    </tr>\n",
              "    <tr>\n",
              "      <th>Date</th>\n",
              "      <th></th>\n",
              "      <th></th>\n",
              "      <th></th>\n",
              "      <th></th>\n",
              "      <th></th>\n",
              "      <th></th>\n",
              "      <th></th>\n",
              "    </tr>\n",
              "  </thead>\n",
              "  <tbody>\n",
              "    <tr>\n",
              "      <th>2002-02-13</th>\n",
              "      <td>6.480513</td>\n",
              "      <td>6.773399</td>\n",
              "      <td>6.413183</td>\n",
              "      <td>6.766666</td>\n",
              "      <td>19054000</td>\n",
              "      <td>0.0</td>\n",
              "      <td>0.0</td>\n",
              "    </tr>\n",
              "    <tr>\n",
              "      <th>2002-02-14</th>\n",
              "      <td>6.850831</td>\n",
              "      <td>6.864296</td>\n",
              "      <td>6.682506</td>\n",
              "      <td>6.733003</td>\n",
              "      <td>2755400</td>\n",
              "      <td>0.0</td>\n",
              "      <td>0.0</td>\n",
              "    </tr>\n",
              "    <tr>\n",
              "      <th>2002-02-15</th>\n",
              "      <td>6.733001</td>\n",
              "      <td>6.749833</td>\n",
              "      <td>6.632006</td>\n",
              "      <td>6.699336</td>\n",
              "      <td>2097400</td>\n",
              "      <td>0.0</td>\n",
              "      <td>0.0</td>\n",
              "    </tr>\n",
              "    <tr>\n",
              "      <th>2002-02-19</th>\n",
              "      <td>6.665671</td>\n",
              "      <td>6.665671</td>\n",
              "      <td>6.312189</td>\n",
              "      <td>6.430017</td>\n",
              "      <td>1852600</td>\n",
              "      <td>0.0</td>\n",
              "      <td>0.0</td>\n",
              "    </tr>\n",
              "    <tr>\n",
              "      <th>2002-02-20</th>\n",
              "      <td>6.463681</td>\n",
              "      <td>6.648838</td>\n",
              "      <td>6.413183</td>\n",
              "      <td>6.648838</td>\n",
              "      <td>1723200</td>\n",
              "      <td>0.0</td>\n",
              "      <td>0.0</td>\n",
              "    </tr>\n",
              "    <tr>\n",
              "      <th>...</th>\n",
              "      <td>...</td>\n",
              "      <td>...</td>\n",
              "      <td>...</td>\n",
              "      <td>...</td>\n",
              "      <td>...</td>\n",
              "      <td>...</td>\n",
              "      <td>...</td>\n",
              "    </tr>\n",
              "    <tr>\n",
              "      <th>2021-02-22</th>\n",
              "      <td>46.689999</td>\n",
              "      <td>48.509998</td>\n",
              "      <td>42.400002</td>\n",
              "      <td>46.000000</td>\n",
              "      <td>19338400</td>\n",
              "      <td>0.0</td>\n",
              "      <td>0.0</td>\n",
              "    </tr>\n",
              "    <tr>\n",
              "      <th>2021-02-23</th>\n",
              "      <td>44.970001</td>\n",
              "      <td>46.230000</td>\n",
              "      <td>40.000000</td>\n",
              "      <td>44.970001</td>\n",
              "      <td>7516000</td>\n",
              "      <td>0.0</td>\n",
              "      <td>0.0</td>\n",
              "    </tr>\n",
              "    <tr>\n",
              "      <th>2021-02-24</th>\n",
              "      <td>44.700001</td>\n",
              "      <td>91.709999</td>\n",
              "      <td>44.700001</td>\n",
              "      <td>91.709999</td>\n",
              "      <td>76315700</td>\n",
              "      <td>0.0</td>\n",
              "      <td>0.0</td>\n",
              "    </tr>\n",
              "    <tr>\n",
              "      <th>2021-02-25</th>\n",
              "      <td>169.559998</td>\n",
              "      <td>184.679993</td>\n",
              "      <td>101.000000</td>\n",
              "      <td>108.730003</td>\n",
              "      <td>149282400</td>\n",
              "      <td>0.0</td>\n",
              "      <td>0.0</td>\n",
              "    </tr>\n",
              "    <tr>\n",
              "      <th>2021-02-26</th>\n",
              "      <td>117.459999</td>\n",
              "      <td>142.899994</td>\n",
              "      <td>86.000000</td>\n",
              "      <td>101.739998</td>\n",
              "      <td>91963000</td>\n",
              "      <td>0.0</td>\n",
              "      <td>0.0</td>\n",
              "    </tr>\n",
              "  </tbody>\n",
              "</table>\n",
              "<p>4793 rows × 7 columns</p>\n",
              "</div>"
            ],
            "text/plain": [
              "                  Open        High         Low       Close     Volume  \\\n",
              "Date                                                                    \n",
              "2002-02-13    6.480513    6.773399    6.413183    6.766666   19054000   \n",
              "2002-02-14    6.850831    6.864296    6.682506    6.733003    2755400   \n",
              "2002-02-15    6.733001    6.749833    6.632006    6.699336    2097400   \n",
              "2002-02-19    6.665671    6.665671    6.312189    6.430017    1852600   \n",
              "2002-02-20    6.463681    6.648838    6.413183    6.648838    1723200   \n",
              "...                ...         ...         ...         ...        ...   \n",
              "2021-02-22   46.689999   48.509998   42.400002   46.000000   19338400   \n",
              "2021-02-23   44.970001   46.230000   40.000000   44.970001    7516000   \n",
              "2021-02-24   44.700001   91.709999   44.700001   91.709999   76315700   \n",
              "2021-02-25  169.559998  184.679993  101.000000  108.730003  149282400   \n",
              "2021-02-26  117.459999  142.899994   86.000000  101.739998   91963000   \n",
              "\n",
              "            Dividends  Stock Splits  \n",
              "Date                                 \n",
              "2002-02-13        0.0           0.0  \n",
              "2002-02-14        0.0           0.0  \n",
              "2002-02-15        0.0           0.0  \n",
              "2002-02-19        0.0           0.0  \n",
              "2002-02-20        0.0           0.0  \n",
              "...               ...           ...  \n",
              "2021-02-22        0.0           0.0  \n",
              "2021-02-23        0.0           0.0  \n",
              "2021-02-24        0.0           0.0  \n",
              "2021-02-25        0.0           0.0  \n",
              "2021-02-26        0.0           0.0  \n",
              "\n",
              "[4793 rows x 7 columns]"
            ]
          },
          "metadata": {
            "tags": []
          },
          "execution_count": 127
        }
      ]
    },
    {
      "cell_type": "code",
      "metadata": {
        "id": "cyrYl4oq17nT"
      },
      "source": [
        "gme_share_price_data.reset_index(inplace=True)"
      ],
      "execution_count": null,
      "outputs": []
    },
    {
      "cell_type": "code",
      "metadata": {
        "id": "5JXJvyKA17nU",
        "outputId": "c0ed1ec7-642f-46a0-b35a-55335ba01def"
      },
      "source": [
        "gme_share_price_data.head()"
      ],
      "execution_count": null,
      "outputs": [
        {
          "output_type": "execute_result",
          "data": {
            "text/html": [
              "<div>\n",
              "<style scoped>\n",
              "    .dataframe tbody tr th:only-of-type {\n",
              "        vertical-align: middle;\n",
              "    }\n",
              "\n",
              "    .dataframe tbody tr th {\n",
              "        vertical-align: top;\n",
              "    }\n",
              "\n",
              "    .dataframe thead th {\n",
              "        text-align: right;\n",
              "    }\n",
              "</style>\n",
              "<table border=\"1\" class=\"dataframe\">\n",
              "  <thead>\n",
              "    <tr style=\"text-align: right;\">\n",
              "      <th></th>\n",
              "      <th>Date</th>\n",
              "      <th>Open</th>\n",
              "      <th>High</th>\n",
              "      <th>Low</th>\n",
              "      <th>Close</th>\n",
              "      <th>Volume</th>\n",
              "      <th>Dividends</th>\n",
              "      <th>Stock Splits</th>\n",
              "    </tr>\n",
              "  </thead>\n",
              "  <tbody>\n",
              "    <tr>\n",
              "      <th>0</th>\n",
              "      <td>2002-02-13</td>\n",
              "      <td>6.480513</td>\n",
              "      <td>6.773399</td>\n",
              "      <td>6.413183</td>\n",
              "      <td>6.766666</td>\n",
              "      <td>19054000</td>\n",
              "      <td>0.0</td>\n",
              "      <td>0.0</td>\n",
              "    </tr>\n",
              "    <tr>\n",
              "      <th>1</th>\n",
              "      <td>2002-02-14</td>\n",
              "      <td>6.850831</td>\n",
              "      <td>6.864296</td>\n",
              "      <td>6.682506</td>\n",
              "      <td>6.733003</td>\n",
              "      <td>2755400</td>\n",
              "      <td>0.0</td>\n",
              "      <td>0.0</td>\n",
              "    </tr>\n",
              "    <tr>\n",
              "      <th>2</th>\n",
              "      <td>2002-02-15</td>\n",
              "      <td>6.733001</td>\n",
              "      <td>6.749833</td>\n",
              "      <td>6.632006</td>\n",
              "      <td>6.699336</td>\n",
              "      <td>2097400</td>\n",
              "      <td>0.0</td>\n",
              "      <td>0.0</td>\n",
              "    </tr>\n",
              "    <tr>\n",
              "      <th>3</th>\n",
              "      <td>2002-02-19</td>\n",
              "      <td>6.665671</td>\n",
              "      <td>6.665671</td>\n",
              "      <td>6.312189</td>\n",
              "      <td>6.430017</td>\n",
              "      <td>1852600</td>\n",
              "      <td>0.0</td>\n",
              "      <td>0.0</td>\n",
              "    </tr>\n",
              "    <tr>\n",
              "      <th>4</th>\n",
              "      <td>2002-02-20</td>\n",
              "      <td>6.463681</td>\n",
              "      <td>6.648838</td>\n",
              "      <td>6.413183</td>\n",
              "      <td>6.648838</td>\n",
              "      <td>1723200</td>\n",
              "      <td>0.0</td>\n",
              "      <td>0.0</td>\n",
              "    </tr>\n",
              "  </tbody>\n",
              "</table>\n",
              "</div>"
            ],
            "text/plain": [
              "        Date      Open      High       Low     Close    Volume  Dividends  \\\n",
              "0 2002-02-13  6.480513  6.773399  6.413183  6.766666  19054000        0.0   \n",
              "1 2002-02-14  6.850831  6.864296  6.682506  6.733003   2755400        0.0   \n",
              "2 2002-02-15  6.733001  6.749833  6.632006  6.699336   2097400        0.0   \n",
              "3 2002-02-19  6.665671  6.665671  6.312189  6.430017   1852600        0.0   \n",
              "4 2002-02-20  6.463681  6.648838  6.413183  6.648838   1723200        0.0   \n",
              "\n",
              "   Stock Splits  \n",
              "0           0.0  \n",
              "1           0.0  \n",
              "2           0.0  \n",
              "3           0.0  \n",
              "4           0.0  "
            ]
          },
          "metadata": {
            "tags": []
          },
          "execution_count": 130
        }
      ]
    },
    {
      "cell_type": "code",
      "metadata": {
        "id": "jbIhAU5917nU",
        "outputId": "eb5b16d0-3eaa-4157-9ef1-6b86334135ff"
      },
      "source": [
        "gme_share_price_data.plot(x=\"Date\", y=\"Open\")"
      ],
      "execution_count": null,
      "outputs": [
        {
          "output_type": "execute_result",
          "data": {
            "text/plain": [
              "<matplotlib.axes._subplots.AxesSubplot at 0x7f2134e9d290>"
            ]
          },
          "metadata": {
            "tags": []
          },
          "execution_count": 131
        },
        {
          "output_type": "display_data",
          "data": {
            "image/png": "[encoded data removed]",
            "text/plain": [
              "<Figure size 432x288 with 1 Axes>"
            ]
          },
          "metadata": {
            "tags": [],
            "needs_background": "light"
          }
        }
      ]
    },
    {
      "cell_type": "code",
      "metadata": {
        "id": "gHWmRCHu17nU",
        "outputId": "9963b905-fb89-4358-99ef-4af749f5422c"
      },
      "source": [
        "gme_data.dividends"
      ],
      "execution_count": null,
      "outputs": [
        {
          "output_type": "execute_result",
          "data": {
            "text/plain": [
              "Date\n",
              "2012-02-16    0.150\n",
              "2012-05-24    0.150\n",
              "2012-08-24    0.250\n",
              "2012-11-26    0.250\n",
              "2013-03-01    0.275\n",
              "2013-05-31    0.275\n",
              "2013-08-29    0.275\n",
              "2013-12-02    0.275\n",
              "2014-03-13    0.330\n",
              "2014-06-02    0.330\n",
              "2014-08-29    0.330\n",
              "2014-11-21    0.330\n",
              "2015-03-13    0.360\n",
              "2015-06-08    0.360\n",
              "2015-09-04    0.360\n",
              "2015-12-01    0.360\n",
              "2016-03-04    0.370\n",
              "2016-06-06    0.370\n",
              "2016-09-07    0.370\n",
              "2016-11-29    0.370\n",
              "2017-03-10    0.380\n",
              "2017-06-05    0.380\n",
              "2017-09-07    0.380\n",
              "2017-11-30    0.380\n",
              "2018-03-02    0.380\n",
              "2018-06-11    0.380\n",
              "2018-09-17    0.380\n",
              "2018-12-10    0.380\n",
              "2019-03-14    0.380\n",
              "Name: Dividends, dtype: float64"
            ]
          },
          "metadata": {
            "tags": []
          },
          "execution_count": 132
        }
      ]
    },
    {
      "cell_type": "code",
      "metadata": {
        "id": "I1PYJmtM17nU",
        "outputId": "f7c139cf-c9ff-4273-f3fa-eaba7baf0b75"
      },
      "source": [
        "gme_data.dividends.plot()"
      ],
      "execution_count": null,
      "outputs": [
        {
          "output_type": "execute_result",
          "data": {
            "text/plain": [
              "<matplotlib.axes._subplots.AxesSubplot at 0x7f212c8d4a90>"
            ]
          },
          "metadata": {
            "tags": []
          },
          "execution_count": 133
        },
        {
          "output_type": "display_data",
          "data": {
            "image/png": "[encoded data removed]",
            "text/plain": [
              "<Figure size 432x288 with 1 Axes>"
            ]
          },
          "metadata": {
            "tags": [],
            "needs_background": "light"
          }
        }
      ]
    },
    {
      "cell_type": "markdown",
      "metadata": {
        "id": "BO1HU91P17nV"
      },
      "source": [
        "<h3>Question 6: Plot GameStop Stock Graph</h3>"
      ]
    },
    {
      "cell_type": "code",
      "metadata": {
        "id": "P-uDzaEa17nV",
        "outputId": "f3c56b1e-6431-456b-b3be-69a14a7544c6"
      },
      "source": [
        "gme_share_price_data['Volume'].plot(label='GameStop',\n",
        "    figsize=(8,4),title='GameStop Stock Data');\n",
        "plt.legend();\n",
        "plt.show()"
      ],
      "execution_count": null,
      "outputs": [
        {
          "output_type": "display_data",
          "data": {
            "image/png": "[encoded data removed]",
            "text/plain": [
              "<Figure size 576x288 with 1 Axes>"
            ]
          },
          "metadata": {
            "tags": [],
            "needs_background": "light"
          }
        }
      ]
    },
    {
      "cell_type": "markdown",
      "metadata": {
        "id": "LzVXgSO217nV"
      },
      "source": [
        "<h1>================================================</h1>"
      ]
    },
    {
      "cell_type": "code",
      "metadata": {
        "id": "4sE4VAGP17nV"
      },
      "source": [
        "import requests\n",
        "from bs4 import BeautifulSoup"
      ],
      "execution_count": null,
      "outputs": []
    },
    {
      "cell_type": "markdown",
      "metadata": {
        "id": "LomW7I4Y17nW"
      },
      "source": [
        "<h3>Question 4 - Extracting GameStop Revenue Data Using Webscraping</h3>"
      ]
    },
    {
      "cell_type": "code",
      "metadata": {
        "id": "Rt6BsEhC17nW"
      },
      "source": [
        "url='https://finance.yahoo.com/quote/GME/history?p=GME'"
      ],
      "execution_count": null,
      "outputs": []
    },
    {
      "cell_type": "code",
      "metadata": {
        "id": "zB8BdL7h17nW"
      },
      "source": [
        "gme_revenue  = requests.get(url).text"
      ],
      "execution_count": null,
      "outputs": []
    },
    {
      "cell_type": "code",
      "metadata": {
        "id": "rn6DSxAa17nW"
      },
      "source": [
        "soup = BeautifulSoup(gme_revenue,\"html5lib\")"
      ],
      "execution_count": null,
      "outputs": []
    },
    {
      "cell_type": "code",
      "metadata": {
        "id": "9_NXwAqN17nW"
      },
      "source": [
        "table = soup.find_all('table')"
      ],
      "execution_count": null,
      "outputs": []
    },
    {
      "cell_type": "code",
      "metadata": {
        "id": "5eVFLhwX17nX",
        "outputId": "79b89cf4-188a-4903-959c-ca8b23119931"
      },
      "source": [
        "len(table)"
      ],
      "execution_count": null,
      "outputs": [
        {
          "output_type": "execute_result",
          "data": {
            "text/plain": [
              "1"
            ]
          },
          "metadata": {
            "tags": []
          },
          "execution_count": 151
        }
      ]
    },
    {
      "cell_type": "code",
      "metadata": {
        "id": "UK_xZVds17nX"
      },
      "source": [
        "gme_revenue = pd.DataFrame(columns=[\"Date\", \"Open\", \"High\", \"Low\", \"Close\", \"Volume\"])\n",
        "\n",
        "for row in soup.find(\"tbody\").find_all(\"tr\"):\n",
        "    col = row.find_all(\"td\")\n",
        "    date =col[0].text\n",
        "    Open =col[1].text\n",
        "    high =col[2].text\n",
        "    low =col[3].text\n",
        "    close =col[4].text\n",
        "    adj_close =col[4].text\n",
        "    volume =col[5].text\n",
        "    \n",
        "    gme_revenue = gme_revenue.append({\"Date\":date, \"Open\":Open, \"High\":high, \"Low\":low, \"Close\":close, \"Adj Close\":adj_close, \"Volume\":volume}, ignore_index=True)"
      ],
      "execution_count": null,
      "outputs": []
    },
    {
      "cell_type": "code",
      "metadata": {
        "id": "HsdWRHmq17nX",
        "outputId": "2dabc69b-7716-4860-a463-56610898c258"
      },
      "source": [
        "gme_revenue.tail()"
      ],
      "execution_count": null,
      "outputs": [
        {
          "output_type": "execute_result",
          "data": {
            "text/html": [
              "<div>\n",
              "<style scoped>\n",
              "    .dataframe tbody tr th:only-of-type {\n",
              "        vertical-align: middle;\n",
              "    }\n",
              "\n",
              "    .dataframe tbody tr th {\n",
              "        vertical-align: top;\n",
              "    }\n",
              "\n",
              "    .dataframe thead th {\n",
              "        text-align: right;\n",
              "    }\n",
              "</style>\n",
              "<table border=\"1\" class=\"dataframe\">\n",
              "  <thead>\n",
              "    <tr style=\"text-align: right;\">\n",
              "      <th></th>\n",
              "      <th>index</th>\n",
              "      <th>Date</th>\n",
              "      <th>Open</th>\n",
              "      <th>High</th>\n",
              "      <th>Low</th>\n",
              "      <th>Close</th>\n",
              "      <th>Volume</th>\n",
              "      <th>Adj Close</th>\n",
              "    </tr>\n",
              "  </thead>\n",
              "  <tbody>\n",
              "    <tr>\n",
              "      <th>95</th>\n",
              "      <td>95</td>\n",
              "      <td>Oct 09, 2020</td>\n",
              "      <td>12.83</td>\n",
              "      <td>14.80</td>\n",
              "      <td>11.90</td>\n",
              "      <td>12.02</td>\n",
              "      <td>12.02</td>\n",
              "      <td>12.02</td>\n",
              "    </tr>\n",
              "    <tr>\n",
              "      <th>96</th>\n",
              "      <td>96</td>\n",
              "      <td>Oct 08, 2020</td>\n",
              "      <td>9.54</td>\n",
              "      <td>13.64</td>\n",
              "      <td>9.19</td>\n",
              "      <td>13.49</td>\n",
              "      <td>13.49</td>\n",
              "      <td>13.49</td>\n",
              "    </tr>\n",
              "    <tr>\n",
              "      <th>97</th>\n",
              "      <td>97</td>\n",
              "      <td>Oct 07, 2020</td>\n",
              "      <td>9.23</td>\n",
              "      <td>9.56</td>\n",
              "      <td>9.17</td>\n",
              "      <td>9.36</td>\n",
              "      <td>9.36</td>\n",
              "      <td>9.36</td>\n",
              "    </tr>\n",
              "    <tr>\n",
              "      <th>98</th>\n",
              "      <td>98</td>\n",
              "      <td>Oct 06, 2020</td>\n",
              "      <td>9.56</td>\n",
              "      <td>9.84</td>\n",
              "      <td>9.10</td>\n",
              "      <td>9.13</td>\n",
              "      <td>9.13</td>\n",
              "      <td>9.13</td>\n",
              "    </tr>\n",
              "    <tr>\n",
              "      <th>99</th>\n",
              "      <td>99</td>\n",
              "      <td>Oct 05, 2020</td>\n",
              "      <td>9.44</td>\n",
              "      <td>9.59</td>\n",
              "      <td>9.25</td>\n",
              "      <td>9.46</td>\n",
              "      <td>9.46</td>\n",
              "      <td>9.46</td>\n",
              "    </tr>\n",
              "  </tbody>\n",
              "</table>\n",
              "</div>"
            ],
            "text/plain": [
              "    index          Date   Open   High    Low  Close Volume Adj Close\n",
              "95     95  Oct 09, 2020  12.83  14.80  11.90  12.02  12.02     12.02\n",
              "96     96  Oct 08, 2020   9.54  13.64   9.19  13.49  13.49     13.49\n",
              "97     97  Oct 07, 2020   9.23   9.56   9.17   9.36   9.36      9.36\n",
              "98     98  Oct 06, 2020   9.56   9.84   9.10   9.13   9.13      9.13\n",
              "99     99  Oct 05, 2020   9.44   9.59   9.25   9.46   9.46      9.46"
            ]
          },
          "metadata": {
            "tags": []
          },
          "execution_count": 158
        }
      ]
    },
    {
      "cell_type": "markdown",
      "metadata": {
        "id": "qE9cEKD_17nX"
      },
      "source": [
        "<h3>GameStop Revenue Dashboard</h3>"
      ]
    },
    {
      "cell_type": "code",
      "metadata": {
        "id": "vNCPSlQX17nY",
        "outputId": "44cd7933-c852-4af4-8515-ec7b84dd2b36"
      },
      "source": [
        "gme_revenue.assign(dummy = 1).groupby(\n",
        "  ['Date','Volume']\n",
        ").size().to_frame().unstack().plot(kind='bar',stacked=True,legend=False)\n",
        "\n",
        "plt.title('GameStop Revenue Data Dashboard')\n",
        "\n",
        "# other it'll show up as 'dummy' \n",
        "plt.xlabel('Volume')\n",
        "\n",
        "# disable ticks in the x axis\n",
        "plt.xticks([])\n",
        "\n",
        "# fix the legend\n",
        "current_handles, _ = plt.gca().get_legend_handles_labels()\n",
        "reversed_handles = reversed(current_handles)\n",
        "\n",
        "labels = reversed(tesla_revenue['Volume'].unique())\n",
        "\n",
        "plt.legend(reversed_handles,labels,loc='lower right')\n",
        "plt.show()"
      ],
      "execution_count": null,
      "outputs": [
        {
          "output_type": "display_data",
          "data": {
            "image/png": "[encoded data removed]",
            "text/plain": [
              "<Figure size 432x288 with 1 Axes>"
            ]
          },
          "metadata": {
            "tags": [],
            "needs_background": "light"
          }
        }
      ]
    },
    {
      "cell_type": "markdown",
      "metadata": {
        "id": "QJnv8T1T17nY"
      },
      "source": [
        "<h1>================================================</h1>"
      ]
    }
  ]
}