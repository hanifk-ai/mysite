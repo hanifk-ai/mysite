{
  "nbformat": 4,
  "nbformat_minor": 0,
  "metadata": {
    "colab": {
      "name": "Week3Day2_Hanif Muhammad Kamil.ipynb",
      "provenance": [],
      "collapsed_sections": []
    },
    "kernelspec": {
      "display_name": "Python 3",
      "language": "python",
      "name": "python3"
    },
    "language_info": {
      "codemirror_mode": {
        "name": "ipython",
        "version": 3
      },
      "file_extension": ".py",
      "mimetype": "text/x-python",
      "name": "python",
      "nbconvert_exporter": "python",
      "pygments_lexer": "ipython3",
      "version": "3.8.3"
    }
  },
  "cells": [
    {
      "cell_type": "markdown",
      "metadata": {
        "id": "YZRijlU6D78G"
      },
      "source": [
        "Soal no *1*\n",
        "\n",
        "Lengkapi code dibawah sesuai dengan expected result."
      ]
    },
    {
      "cell_type": "code",
      "metadata": {
        "id": "d1y3UO4uD-8b"
      },
      "source": [
        "# import Library \n",
        "import datetime\n",
        "import functools\n",
        "import logging\n",
        "\n",
        "\n",
        "import pandas as pd\n",
        "import numpy as np\n",
        "\n",
        "\n",
        "import matplotlib as mpl\n",
        "import matplotlib.pyplot as plt\n",
        "from matplotlib.ticker import FixedLocator, FixedFormatter\n",
        "import matplotlib.artist as martist\n",
        "import matplotlib.cbook as cbook\n",
        "import matplotlib.lines as mlines\n",
        "import matplotlib.scale as mscale\n",
        "import matplotlib.text as mtext\n",
        "import matplotlib.transforms as mtransforms\n",
        "import matplotlib.units as munits\n",
        "import matplotlib.ticker as mticker\n",
        "import os\n",
        "import warnings\n",
        "with warnings.catch_warnings():\n",
        "    warnings.filterwarnings(\"error\")"
      ],
      "execution_count": null,
      "outputs": []
    },
    {
      "cell_type": "code",
      "metadata": {
        "id": "4nPsJ_5ac1vj",
        "outputId": "7ed814a7-d525-43a1-dcd0-e1a240aa88a2"
      },
      "source": [
        "pd.__version__"
      ],
      "execution_count": null,
      "outputs": [
        {
          "output_type": "execute_result",
          "data": {
            "text/plain": [
              "'1.1.4'"
            ]
          },
          "metadata": {
            "tags": []
          },
          "execution_count": 67
        }
      ]
    },
    {
      "cell_type": "code",
      "metadata": {
        "id": "MZjhFlqHc1vm",
        "outputId": "2ac2ae3e-b6fb-447d-a7dc-14e900279560"
      },
      "source": [
        "mpl.__version__"
      ],
      "execution_count": null,
      "outputs": [
        {
          "output_type": "execute_result",
          "data": {
            "text/plain": [
              "'3.3.3'"
            ]
          },
          "metadata": {
            "tags": []
          },
          "execution_count": 68
        }
      ]
    },
    {
      "cell_type": "code",
      "metadata": {
        "id": "ovsqHH6cFAXe"
      },
      "source": [
        "# Mendefinisikan path data lengkapi sesuai path masing-masing yaitu:\n",
        "os.chdir(\"D:\\dataset\")\n",
        "data1 = pd.read_csv('CustomerOrders.csv',encoding ='latin1')"
      ],
      "execution_count": null,
      "outputs": []
    },
    {
      "cell_type": "code",
      "metadata": {
        "id": "wIglrz0lFwDM",
        "outputId": "7690faa3-43aa-4d3d-d286-238e6f3f3a0e"
      },
      "source": [
        "# Lengkapi code untuk menampilkan data\n",
        "data1"
      ],
      "execution_count": null,
      "outputs": [
        {
          "output_type": "execute_result",
          "data": {
            "text/html": [
              "<div>\n",
              "<style scoped>\n",
              "    .dataframe tbody tr th:only-of-type {\n",
              "        vertical-align: middle;\n",
              "    }\n",
              "\n",
              "    .dataframe tbody tr th {\n",
              "        vertical-align: top;\n",
              "    }\n",
              "\n",
              "    .dataframe thead th {\n",
              "        text-align: right;\n",
              "    }\n",
              "</style>\n",
              "<table border=\"1\" class=\"dataframe\">\n",
              "  <thead>\n",
              "    <tr style=\"text-align: right;\">\n",
              "      <th></th>\n",
              "      <th>CustomerKey</th>\n",
              "      <th>FirstName</th>\n",
              "      <th>LastName</th>\n",
              "      <th>MaritalStatus</th>\n",
              "      <th>Gender</th>\n",
              "      <th>YearlyIncome</th>\n",
              "      <th>Education</th>\n",
              "      <th>Occupation</th>\n",
              "      <th>City</th>\n",
              "      <th>StateProvince</th>\n",
              "      <th>Country</th>\n",
              "      <th>NumberOfOrders</th>\n",
              "      <th>TotalQuantity</th>\n",
              "      <th>TotalAmount</th>\n",
              "    </tr>\n",
              "  </thead>\n",
              "  <tbody>\n",
              "    <tr>\n",
              "      <th>0</th>\n",
              "      <td>11000</td>\n",
              "      <td>Jon</td>\n",
              "      <td>Yang</td>\n",
              "      <td>M</td>\n",
              "      <td>M</td>\n",
              "      <td>$90,000.00</td>\n",
              "      <td>Bachelors</td>\n",
              "      <td>Professional</td>\n",
              "      <td>Rockhampton</td>\n",
              "      <td>Queensland</td>\n",
              "      <td>Australia</td>\n",
              "      <td>8</td>\n",
              "      <td>8</td>\n",
              "      <td>$8,248.99</td>\n",
              "    </tr>\n",
              "    <tr>\n",
              "      <th>1</th>\n",
              "      <td>11001</td>\n",
              "      <td>Eugene</td>\n",
              "      <td>Huang</td>\n",
              "      <td>S</td>\n",
              "      <td>M</td>\n",
              "      <td>$60,000.00</td>\n",
              "      <td>Bachelors</td>\n",
              "      <td>Professional</td>\n",
              "      <td>Seaford</td>\n",
              "      <td>Victoria</td>\n",
              "      <td>Australia</td>\n",
              "      <td>11</td>\n",
              "      <td>11</td>\n",
              "      <td>$6,383.88</td>\n",
              "    </tr>\n",
              "    <tr>\n",
              "      <th>2</th>\n",
              "      <td>11002</td>\n",
              "      <td>Ruben</td>\n",
              "      <td>Torres</td>\n",
              "      <td>M</td>\n",
              "      <td>M</td>\n",
              "      <td>$60,000.00</td>\n",
              "      <td>Bachelors</td>\n",
              "      <td>Professional</td>\n",
              "      <td>Hobart</td>\n",
              "      <td>Tasmania</td>\n",
              "      <td>Australia</td>\n",
              "      <td>4</td>\n",
              "      <td>4</td>\n",
              "      <td>$8,114.04</td>\n",
              "    </tr>\n",
              "    <tr>\n",
              "      <th>3</th>\n",
              "      <td>11003</td>\n",
              "      <td>Christy</td>\n",
              "      <td>Zhu</td>\n",
              "      <td>S</td>\n",
              "      <td>F</td>\n",
              "      <td>$70,000.00</td>\n",
              "      <td>Bachelors</td>\n",
              "      <td>Professional</td>\n",
              "      <td>North Ryde</td>\n",
              "      <td>New South Wales</td>\n",
              "      <td>Australia</td>\n",
              "      <td>9</td>\n",
              "      <td>9</td>\n",
              "      <td>$8,139.29</td>\n",
              "    </tr>\n",
              "    <tr>\n",
              "      <th>4</th>\n",
              "      <td>11004</td>\n",
              "      <td>Elizabeth</td>\n",
              "      <td>Johnson</td>\n",
              "      <td>S</td>\n",
              "      <td>F</td>\n",
              "      <td>$80,000.00</td>\n",
              "      <td>Bachelors</td>\n",
              "      <td>Professional</td>\n",
              "      <td>Wollongong</td>\n",
              "      <td>New South Wales</td>\n",
              "      <td>Australia</td>\n",
              "      <td>6</td>\n",
              "      <td>6</td>\n",
              "      <td>$8,196.01</td>\n",
              "    </tr>\n",
              "    <tr>\n",
              "      <th>...</th>\n",
              "      <td>...</td>\n",
              "      <td>...</td>\n",
              "      <td>...</td>\n",
              "      <td>...</td>\n",
              "      <td>...</td>\n",
              "      <td>...</td>\n",
              "      <td>...</td>\n",
              "      <td>...</td>\n",
              "      <td>...</td>\n",
              "      <td>...</td>\n",
              "      <td>...</td>\n",
              "      <td>...</td>\n",
              "      <td>...</td>\n",
              "      <td>...</td>\n",
              "    </tr>\n",
              "    <tr>\n",
              "      <th>18479</th>\n",
              "      <td>29479</td>\n",
              "      <td>Tommy</td>\n",
              "      <td>Tang</td>\n",
              "      <td>M</td>\n",
              "      <td>M</td>\n",
              "      <td>$30,000.00</td>\n",
              "      <td>Graduate Degree</td>\n",
              "      <td>Clerical</td>\n",
              "      <td>Versailles</td>\n",
              "      <td>Yveline</td>\n",
              "      <td>France</td>\n",
              "      <td>1</td>\n",
              "      <td>1</td>\n",
              "      <td>$2,049.10</td>\n",
              "    </tr>\n",
              "    <tr>\n",
              "      <th>18480</th>\n",
              "      <td>29480</td>\n",
              "      <td>Nina</td>\n",
              "      <td>Raji</td>\n",
              "      <td>S</td>\n",
              "      <td>F</td>\n",
              "      <td>$30,000.00</td>\n",
              "      <td>Graduate Degree</td>\n",
              "      <td>Clerical</td>\n",
              "      <td>London</td>\n",
              "      <td>England</td>\n",
              "      <td>United Kingdom</td>\n",
              "      <td>5</td>\n",
              "      <td>5</td>\n",
              "      <td>$2,442.03</td>\n",
              "    </tr>\n",
              "    <tr>\n",
              "      <th>18481</th>\n",
              "      <td>29481</td>\n",
              "      <td>Ivan</td>\n",
              "      <td>Suri</td>\n",
              "      <td>S</td>\n",
              "      <td>M</td>\n",
              "      <td>$30,000.00</td>\n",
              "      <td>Graduate Degree</td>\n",
              "      <td>Clerical</td>\n",
              "      <td>Hof</td>\n",
              "      <td>Bayern</td>\n",
              "      <td>Germany</td>\n",
              "      <td>1</td>\n",
              "      <td>1</td>\n",
              "      <td>$3,374.99</td>\n",
              "    </tr>\n",
              "    <tr>\n",
              "      <th>18482</th>\n",
              "      <td>29482</td>\n",
              "      <td>Clayton</td>\n",
              "      <td>Zhang</td>\n",
              "      <td>M</td>\n",
              "      <td>M</td>\n",
              "      <td>$30,000.00</td>\n",
              "      <td>Bachelors</td>\n",
              "      <td>Clerical</td>\n",
              "      <td>Saint Ouen</td>\n",
              "      <td>Charente-Maritime</td>\n",
              "      <td>France</td>\n",
              "      <td>1</td>\n",
              "      <td>1</td>\n",
              "      <td>$2,049.10</td>\n",
              "    </tr>\n",
              "    <tr>\n",
              "      <th>18483</th>\n",
              "      <td>29483</td>\n",
              "      <td>JÃ©sus</td>\n",
              "      <td>Navarro</td>\n",
              "      <td>M</td>\n",
              "      <td>M</td>\n",
              "      <td>$30,000.00</td>\n",
              "      <td>Bachelors</td>\n",
              "      <td>Clerical</td>\n",
              "      <td>Paris La Defense</td>\n",
              "      <td>Hauts de Seine</td>\n",
              "      <td>France</td>\n",
              "      <td>1</td>\n",
              "      <td>1</td>\n",
              "      <td>$2,049.10</td>\n",
              "    </tr>\n",
              "  </tbody>\n",
              "</table>\n",
              "<p>18484 rows × 14 columns</p>\n",
              "</div>"
            ],
            "text/plain": [
              "       CustomerKey  FirstName LastName MaritalStatus Gender YearlyIncome  \\\n",
              "0            11000        Jon     Yang             M      M   $90,000.00   \n",
              "1            11001     Eugene    Huang             S      M   $60,000.00   \n",
              "2            11002      Ruben   Torres             M      M   $60,000.00   \n",
              "3            11003    Christy      Zhu             S      F   $70,000.00   \n",
              "4            11004  Elizabeth  Johnson             S      F   $80,000.00   \n",
              "...            ...        ...      ...           ...    ...          ...   \n",
              "18479        29479      Tommy     Tang             M      M   $30,000.00   \n",
              "18480        29480       Nina     Raji             S      F   $30,000.00   \n",
              "18481        29481       Ivan     Suri             S      M   $30,000.00   \n",
              "18482        29482    Clayton    Zhang             M      M   $30,000.00   \n",
              "18483        29483     JÃ©sus  Navarro             M      M   $30,000.00   \n",
              "\n",
              "             Education    Occupation              City      StateProvince  \\\n",
              "0            Bachelors  Professional       Rockhampton         Queensland   \n",
              "1            Bachelors  Professional           Seaford           Victoria   \n",
              "2            Bachelors  Professional            Hobart           Tasmania   \n",
              "3            Bachelors  Professional        North Ryde    New South Wales   \n",
              "4            Bachelors  Professional        Wollongong    New South Wales   \n",
              "...                ...           ...               ...                ...   \n",
              "18479  Graduate Degree      Clerical        Versailles            Yveline   \n",
              "18480  Graduate Degree      Clerical            London            England   \n",
              "18481  Graduate Degree      Clerical               Hof             Bayern   \n",
              "18482        Bachelors      Clerical        Saint Ouen  Charente-Maritime   \n",
              "18483        Bachelors      Clerical  Paris La Defense     Hauts de Seine   \n",
              "\n",
              "              Country  NumberOfOrders  TotalQuantity TotalAmount  \n",
              "0           Australia               8              8   $8,248.99  \n",
              "1           Australia              11             11   $6,383.88  \n",
              "2           Australia               4              4   $8,114.04  \n",
              "3           Australia               9              9   $8,139.29  \n",
              "4           Australia               6              6   $8,196.01  \n",
              "...               ...             ...            ...         ...  \n",
              "18479          France               1              1   $2,049.10  \n",
              "18480  United Kingdom               5              5   $2,442.03  \n",
              "18481         Germany               1              1   $3,374.99  \n",
              "18482          France               1              1   $2,049.10  \n",
              "18483          France               1              1   $2,049.10  \n",
              "\n",
              "[18484 rows x 14 columns]"
            ]
          },
          "metadata": {
            "tags": []
          },
          "execution_count": 70
        }
      ]
    },
    {
      "cell_type": "code",
      "metadata": {
        "id": "GGdfTit1F54Z",
        "outputId": "0a8aa22c-3476-401e-8072-640adf9fd3b1"
      },
      "source": [
        "# Lengkapi kode untuk mendefinisikan component figure dan axes\n",
        "fix = plt.figure()\n",
        "ax  = plt.axes()"
      ],
      "execution_count": null,
      "outputs": [
        {
          "output_type": "display_data",
          "data": {
            "image/png": "[encoded data removed]",
            "text/plain": [
              "<Figure size 432x288 with 1 Axes>"
            ]
          },
          "metadata": {
            "tags": [],
            "needs_background": "light"
          }
        }
      ]
    },
    {
      "cell_type": "code",
      "metadata": {
        "colab": {
          "base_uri": "https://localhost:8080/",
          "height": 246
        },
        "id": "mJiaFUFSGFLO",
        "outputId": "6e435787-1c39-44e7-886c-336b2f6ece4a"
      },
      "source": [
        "data = data1[\"Country\"].value_counts()\n",
        "category = data.index \n",
        "frequency = data.values \n",
        "\n",
        "\n",
        "fig, ax = plt.subplots() \n",
        "\n",
        "# lengkapi code berikut\n",
        "ax.plot(category, frequency, color='g') \n",
        "ax.set_xticklabels(category, rotation=90) \n",
        "\n",
        "plt.show()"
      ],
      "execution_count": null,
      "outputs": [
        {
          "output_type": "stream",
          "text": [
            "<ipython-input-72-af70845bb273>:10: UserWarning: FixedFormatter should only be used together with FixedLocator\n",
            "  ax.set_xticklabels(category, rotation=90)\n"
          ],
          "name": "stderr"
        },
        {
          "output_type": "display_data",
          "data": {
            "image/png": "[encoded data removed]",
            "text/plain": [
              "<Figure size 432x288 with 1 Axes>"
            ]
          },
          "metadata": {
            "tags": [],
            "needs_background": "light"
          }
        }
      ]
    },
    {
      "cell_type": "code",
      "metadata": {
        "id": "ORdJKqdiGJ_Z",
        "outputId": "bb0339cd-dc12-4501-e0dc-ecb49638ce72"
      },
      "source": [
        "data = data1[\"Country\"].value_counts()\n",
        "category = data.index \n",
        "frequency = data.values \n",
        "\n",
        "\n",
        "fig, ax = plt.subplots() \n",
        "ax.plot(category, frequency, color='r', marker='o') \n",
        "ax.set_xticklabels(category, rotation=90) \n",
        "plt.show()"
      ],
      "execution_count": null,
      "outputs": [
        {
          "output_type": "stream",
          "text": [
            "<ipython-input-39-a561799960d4>:8: UserWarning: FixedFormatter should only be used together with FixedLocator\n",
            "  ax.set_xticklabels(category, rotation=90)\n"
          ],
          "name": "stderr"
        },
        {
          "output_type": "display_data",
          "data": {
            "image/png": "[encoded data removed]",
            "text/plain": [
              "<Figure size 432x288 with 1 Axes>"
            ]
          },
          "metadata": {
            "tags": [],
            "needs_background": "light"
          }
        }
      ]
    },
    {
      "cell_type": "markdown",
      "metadata": {
        "id": "t9uF2GIZGRXp"
      },
      "source": [
        "Soal 2 \n",
        "\n",
        "\n",
        "Buatlah sebuah 1 plot chart yang menampilkan sebuah informasi penting dari data. dengan syarat warna pada line chart adalah biru, marker nya persegi, kemudian save file dengan nama \"report_saya\" dan download file dalam bentuk PNG. "
      ]
    },
    {
      "cell_type": "code",
      "metadata": {
        "colab": {
          "base_uri": "https://localhost:8080/",
          "height": 246
        },
        "id": "r2Vove_iSIQs",
        "outputId": "9662c7ab-8160-4450-b3c9-fe5362650f84"
      },
      "source": [
        "data2 = data1[\"Occupation\"].value_counts()\n",
        "category = data2.index \n",
        "frequency = data2.values \n",
        "\n",
        "\n",
        "fig, ax = plt.subplots() \n",
        "# Mendefiniskan fungsi penamaan \n",
        "plt.title('Line Chart Occupation')\n",
        "plt.xlabel('Occupation')\n",
        "plt.ylabel('Jumlah')\n",
        "\n",
        "# lengkapi code berikut\n",
        "ax.plot(category, frequency, color='b', marker='s') \n",
        "ax.set_xticklabels(category, rotation=90) \n",
        "plt.savefig('report_saya.png')\n",
        "plt.show()"
      ],
      "execution_count": null,
      "outputs": [
        {
          "output_type": "stream",
          "text": [
            "<ipython-input-8-8288bed286f6>:14: UserWarning: FixedFormatter should only be used together with FixedLocator\n",
            "  ax.set_xticklabels(category, rotation=90)\n"
          ],
          "name": "stderr"
        },
        {
          "output_type": "display_data",
          "data": {
            "image/png": "[encoded data removed]",
            "text/plain": [
              "<Figure size 432x288 with 1 Axes>"
            ]
          },
          "metadata": {
            "tags": [],
            "needs_background": "light"
          }
        }
      ]
    }
  ]
}