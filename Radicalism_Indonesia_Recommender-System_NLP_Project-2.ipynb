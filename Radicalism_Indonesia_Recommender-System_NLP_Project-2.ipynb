{
 "cells": [
  {
   "cell_type": "code",
   "execution_count": 76,
   "id": "0ed572c8-8f80-4165-842a-03170c4fcfcd",
   "metadata": {},
   "outputs": [
    {
     "name": "stdout",
     "output_type": "stream",
     "text": [
      "The watermark extension is already loaded. To reload it, use:\n",
      "  %reload_ext watermark\n",
      "The autoreload extension is already loaded. To reload it, use:\n",
      "  %reload_ext autoreload\n",
      "Author: Hanif\n",
      "\n",
      "Python implementation: CPython\n",
      "Python version       : 3.8.10\n",
      "IPython version      : 7.29.0\n",
      "\n",
      "numpy     : 1.19.5\n",
      "pandas    : 1.3.4\n",
      "matplotlib: 3.5.0\n",
      "plotly    : 5.4.0\n",
      "gensim    : 3.8.3\n",
      "nltk      : 3.4.5\n",
      "sklearn   : 0.0\n",
      "\n",
      "Windows-10-10.0.19043-SP0\n",
      "Num of GPUs available:  0\n"
     ]
    },
    {
     "name": "stderr",
     "output_type": "stream",
     "text": [
      "[nltk_data] Downloading package punkt to C:\\Users\\Hanif Kamil.DESKTOP-\n",
      "[nltk_data]     PIS7G8D\\AppData\\Roaming\\nltk_data...\n",
      "[nltk_data]   Package punkt is already up-to-date!\n"
     ]
    },
    {
     "name": "stdout",
     "output_type": "stream",
     "text": [
      "[name: \"/device:CPU:0\"\n",
      "device_type: \"CPU\"\n",
      "memory_limit: 268435456\n",
      "locality {\n",
      "}\n",
      "incarnation: 4075030315630788408\n",
      "]\n"
     ]
    }
   ],
   "source": [
    "%matplotlib inline\n",
    "%load_ext watermark\n",
    "%load_ext autoreload\n",
    "%autoreload 2\n",
    "%config InlineBackend.figure_format = 'retina'\n",
    "\n",
    "import datetime\n",
    "import platform\n",
    "import pandas as pd\n",
    "import numpy as np\n",
    "import scipy as sp\n",
    "import sklearn\n",
    "import sys\n",
    "from tqdm import tqdm\n",
    "import seaborn as sns\n",
    "import nltk\n",
    "from nltk.stem import WordNetLemmatizer\n",
    "from nltk.stem import WordNetLemmatizer as lemm, SnowballStemmer as stemm\n",
    "from nltk.stem.porter import *\n",
    "from nltk.corpus import stopwords\n",
    "from nltk.tokenize import word_tokenize\n",
    "from nltk.stem.snowball import SnowballStemmer\n",
    "nltk.download('punkt')\n",
    "import gensim\n",
    "from gensim.models.coherencemodel import CoherenceModel\n",
    "from gensim.models import ldamodel\n",
    "from gensim.models.ldamodel import LdaModel\n",
    "from gensim.models import Phrases\n",
    "from gensim.models.wrappers import LdaMallet\n",
    "import gensim.corpora;\n",
    "from gensim.corpora.dictionary import Dictionary\n",
    "from gensim import corpora, models\n",
    "from gensim.utils import simple_preprocess\n",
    "from gensim.models import FastText\n",
    "from gensim.models import Word2Vec\n",
    "import pyLDAvis.gensim; pyLDAvis.enable_notebook()\n",
    "import plotly.express as px\n",
    "import matplotlib.pyplot as plt\n",
    "import matplotlib.colors as mcolors\n",
    "from wordcloud import WordCloud, STOPWORDS, ImageColorGenerator\n",
    "from sklearn.decomposition import LatentDirichletAllocation\n",
    "from statsmodels.tsa.stattools import grangercausalitytests\n",
    "from operator import itemgetter\n",
    "from sklearn.decomposition import LatentDirichletAllocation, TruncatedSVD\n",
    "from sklearn.feature_extraction.text import CountVectorizer, TfidfTransformer, TfidfVectorizer\n",
    "from sklearn.preprocessing import normalize\n",
    "from sklearn.utils import check_random_state\n",
    "from sklearn.decomposition._online_lda_fast import _dirichlet_expectation_2d\n",
    "from sklearn.cluster import KMeans\n",
    "from sklearn.cluster import MiniBatchKMeans\n",
    "from sklearn.metrics.pairwise import cosine_similarity\n",
    "import pyLDAvis.sklearn\n",
    "from Sastrawi.StopWordRemover.StopWordRemoverFactory import StopWordRemoverFactory, StopWordRemover, ArrayDictionary\n",
    "from Sastrawi.Stemmer.StemmerFactory import StemmerFactory\n",
    "import tensorflow.compat.v1 as tf\n",
    "import tensorflow_hub as hub\n",
    "from tensorflow import keras\n",
    "from tensorflow.keras.models import Sequential\n",
    "from tensorflow.python.client import device_lib\n",
    "from keras.layers import Dense, LSTM\n",
    "import pickle, string, re, time, os, io\n",
    "from pprint import pprint\n",
    "import base64\n",
    "from io import BytesIO\n",
    "import warnings\n",
    "warnings.filterwarnings('ignore')\n",
    "sns.set_context('poster')\n",
    "\n",
    "%watermark -a 'Hanif' -d -t -v -p numpy,pandas,matplotlib,plotly,gensim,nltk,sklearn\n",
    "system_info = platform.platform()\n",
    "print(system_info)\n",
    "print(\"Num of GPUs available: \", len(tf.test.gpu_device_name()))\n",
    "print(device_lib.list_local_devices())"
   ]
  },
  {
   "cell_type": "code",
   "execution_count": 77,
   "id": "19a2029a-9834-40f2-bf84-74ddef797d3f",
   "metadata": {},
   "outputs": [
    {
     "data": {
      "text/html": [
       "<div>\n",
       "<style scoped>\n",
       "    .dataframe tbody tr th:only-of-type {\n",
       "        vertical-align: middle;\n",
       "    }\n",
       "\n",
       "    .dataframe tbody tr th {\n",
       "        vertical-align: top;\n",
       "    }\n",
       "\n",
       "    .dataframe thead th {\n",
       "        text-align: right;\n",
       "    }\n",
       "</style>\n",
       "<table border=\"1\" class=\"dataframe\">\n",
       "  <thead>\n",
       "    <tr style=\"text-align: right;\">\n",
       "      <th></th>\n",
       "      <th>tweet id</th>\n",
       "      <th>name</th>\n",
       "      <th>username</th>\n",
       "      <th>tweet text</th>\n",
       "      <th>reference type</th>\n",
       "      <th>reference id</th>\n",
       "      <th>created at</th>\n",
       "      <th>like</th>\n",
       "      <th>quote</th>\n",
       "      <th>reply</th>\n",
       "      <th>retweet</th>\n",
       "      <th>tweet url</th>\n",
       "      <th>mentions</th>\n",
       "      <th>hashtags</th>\n",
       "    </tr>\n",
       "  </thead>\n",
       "  <tbody>\n",
       "    <tr>\n",
       "      <th>0</th>\n",
       "      <td>1467687742356131847</td>\n",
       "      <td>sigarantang</td>\n",
       "      <td>endinburhanudin</td>\n",
       "      <td>@alisyarief Yang disebut teroris ia komplotan ...</td>\n",
       "      <td>replied_to</td>\n",
       "      <td>1.467646e+18</td>\n",
       "      <td>2021-12-06T02:50:00.000Z</td>\n",
       "      <td>0</td>\n",
       "      <td>0</td>\n",
       "      <td>0</td>\n",
       "      <td>0</td>\n",
       "      <td>https://twitter.com/endinburhanudin/status/146...</td>\n",
       "      <td>@alisyarief</td>\n",
       "      <td>NaN</td>\n",
       "    </tr>\n",
       "    <tr>\n",
       "      <th>1</th>\n",
       "      <td>1467687491243184130</td>\n",
       "      <td>TEDJA WOELOENG</td>\n",
       "      <td>TedjaWoeloeng</td>\n",
       "      <td>Pak @prabowo, hanya pada bapaklah saya berhara...</td>\n",
       "      <td>original</td>\n",
       "      <td>NaN</td>\n",
       "      <td>2021-12-06T02:49:00.000Z</td>\n",
       "      <td>1</td>\n",
       "      <td>0</td>\n",
       "      <td>0</td>\n",
       "      <td>0</td>\n",
       "      <td>https://twitter.com/TedjaWoeloeng/status/14676...</td>\n",
       "      <td>@prabowo</td>\n",
       "      <td>NaN</td>\n",
       "    </tr>\n",
       "    <tr>\n",
       "      <th>2</th>\n",
       "      <td>1467687322586005508</td>\n",
       "      <td>Alap² Lautan Teduh</td>\n",
       "      <td>Alap2T</td>\n",
       "      <td>@s_soediro Kok darahnya ga mendidih yaa ?\\r\\nM...</td>\n",
       "      <td>replied_to</td>\n",
       "      <td>1.467656e+18</td>\n",
       "      <td>2021-12-06T02:48:20.000Z</td>\n",
       "      <td>0</td>\n",
       "      <td>0</td>\n",
       "      <td>0</td>\n",
       "      <td>0</td>\n",
       "      <td>https://twitter.com/Alap2T/status/146768732258...</td>\n",
       "      <td>@s_soediro</td>\n",
       "      <td>NaN</td>\n",
       "    </tr>\n",
       "    <tr>\n",
       "      <th>3</th>\n",
       "      <td>1467687235919101954</td>\n",
       "      <td>juragan ikan</td>\n",
       "      <td>kaki_fluffy</td>\n",
       "      <td>@THEKAMPRET10 lah 🤣 gak merasa sweeping salah?...</td>\n",
       "      <td>replied_to</td>\n",
       "      <td>1.467666e+18</td>\n",
       "      <td>2021-12-06T02:48:00.000Z</td>\n",
       "      <td>0</td>\n",
       "      <td>0</td>\n",
       "      <td>0</td>\n",
       "      <td>0</td>\n",
       "      <td>https://twitter.com/kaki_fluffy/status/1467687...</td>\n",
       "      <td>@THEKAMPRET10</td>\n",
       "      <td>NaN</td>\n",
       "    </tr>\n",
       "    <tr>\n",
       "      <th>4</th>\n",
       "      <td>1467686839121186819</td>\n",
       "      <td>juragan ikan</td>\n",
       "      <td>kaki_fluffy</td>\n",
       "      <td>@wir0_ketandan @THEKAMPRET10 @elfariidd @y03_n...</td>\n",
       "      <td>replied_to</td>\n",
       "      <td>1.467672e+18</td>\n",
       "      <td>2021-12-06T02:46:25.000Z</td>\n",
       "      <td>0</td>\n",
       "      <td>0</td>\n",
       "      <td>0</td>\n",
       "      <td>0</td>\n",
       "      <td>https://twitter.com/kaki_fluffy/status/1467686...</td>\n",
       "      <td>@wir0_ketandan,@THEKAMPRET10,@elfariidd,@y03_n4n4</td>\n",
       "      <td>NaN</td>\n",
       "    </tr>\n",
       "  </tbody>\n",
       "</table>\n",
       "</div>"
      ],
      "text/plain": [
       "              tweet id                name         username  \\\n",
       "0  1467687742356131847         sigarantang  endinburhanudin   \n",
       "1  1467687491243184130      TEDJA WOELOENG    TedjaWoeloeng   \n",
       "2  1467687322586005508  Alap² Lautan Teduh           Alap2T   \n",
       "3  1467687235919101954        juragan ikan      kaki_fluffy   \n",
       "4  1467686839121186819        juragan ikan      kaki_fluffy   \n",
       "\n",
       "                                          tweet text reference type  \\\n",
       "0  @alisyarief Yang disebut teroris ia komplotan ...     replied_to   \n",
       "1  Pak @prabowo, hanya pada bapaklah saya berhara...       original   \n",
       "2  @s_soediro Kok darahnya ga mendidih yaa ?\\r\\nM...     replied_to   \n",
       "3  @THEKAMPRET10 lah 🤣 gak merasa sweeping salah?...     replied_to   \n",
       "4  @wir0_ketandan @THEKAMPRET10 @elfariidd @y03_n...     replied_to   \n",
       "\n",
       "   reference id                created at  like  quote  reply  retweet  \\\n",
       "0  1.467646e+18  2021-12-06T02:50:00.000Z     0      0      0        0   \n",
       "1           NaN  2021-12-06T02:49:00.000Z     1      0      0        0   \n",
       "2  1.467656e+18  2021-12-06T02:48:20.000Z     0      0      0        0   \n",
       "3  1.467666e+18  2021-12-06T02:48:00.000Z     0      0      0        0   \n",
       "4  1.467672e+18  2021-12-06T02:46:25.000Z     0      0      0        0   \n",
       "\n",
       "                                           tweet url  \\\n",
       "0  https://twitter.com/endinburhanudin/status/146...   \n",
       "1  https://twitter.com/TedjaWoeloeng/status/14676...   \n",
       "2  https://twitter.com/Alap2T/status/146768732258...   \n",
       "3  https://twitter.com/kaki_fluffy/status/1467687...   \n",
       "4  https://twitter.com/kaki_fluffy/status/1467686...   \n",
       "\n",
       "                                            mentions hashtags  \n",
       "0                                        @alisyarief      NaN  \n",
       "1                                           @prabowo      NaN  \n",
       "2                                         @s_soediro      NaN  \n",
       "3                                      @THEKAMPRET10      NaN  \n",
       "4  @wir0_ketandan,@THEKAMPRET10,@elfariidd,@y03_n4n4      NaN  "
      ]
     },
     "execution_count": 77,
     "metadata": {},
     "output_type": "execute_result"
    }
   ],
   "source": [
    "# # Loading the data\n",
    "start = time.time()\n",
    "df = pd.read_csv(\"E:/dataset/indonesian_tweet_about_teroris.csv\", error_bad_lines=True)\n",
    "start\n",
    "df.head()"
   ]
  },
  {
   "cell_type": "code",
   "execution_count": 78,
   "id": "a75cdf48-7648-4b29-abf1-9d9229747df0",
   "metadata": {},
   "outputs": [
    {
     "name": "stdout",
     "output_type": "stream",
     "text": [
      "<class 'pandas.core.frame.DataFrame'>\n",
      "RangeIndex: 77580 entries, 0 to 77579\n",
      "Data columns (total 14 columns):\n",
      " #   Column          Non-Null Count  Dtype  \n",
      "---  ------          --------------  -----  \n",
      " 0   tweet id        77580 non-null  int64  \n",
      " 1   name            77578 non-null  object \n",
      " 2   username        77580 non-null  object \n",
      " 3   tweet text      77580 non-null  object \n",
      " 4   reference type  77580 non-null  object \n",
      " 5   reference id    56393 non-null  float64\n",
      " 6   created at      77580 non-null  object \n",
      " 7   like            77580 non-null  int64  \n",
      " 8   quote           77580 non-null  int64  \n",
      " 9   reply           77580 non-null  int64  \n",
      " 10  retweet         77580 non-null  int64  \n",
      " 11  tweet url       77580 non-null  object \n",
      " 12  mentions        49594 non-null  object \n",
      " 13  hashtags        15143 non-null  object \n",
      "dtypes: float64(1), int64(5), object(8)\n",
      "memory usage: 8.3+ MB\n"
     ]
    }
   ],
   "source": [
    "df.info()"
   ]
  },
  {
   "cell_type": "code",
   "execution_count": 82,
   "id": "c1e50ddd-8a79-4e71-97a4-bb87df80460f",
   "metadata": {},
   "outputs": [
    {
     "data": {
      "image/png": "[encoded data removed]",
      "text/plain": [
       "<Figure size 720x576 with 6 Axes>"
      ]
     },
     "metadata": {
      "image/png": {
       "height": 510,
       "width": 657
      },
      "needs_background": "light"
     },
     "output_type": "display_data"
    }
   ],
   "source": [
    "df.hist(figsize=(10,8))\n",
    "plt.show()"
   ]
  },
  {
   "cell_type": "code",
   "execution_count": 71,
   "id": "4d4edad5-0fa9-4864-b19e-31a498646c6f",
   "metadata": {},
   "outputs": [],
   "source": [
    "df['text'] = df['tweet text']"
   ]
  },
  {
   "cell_type": "code",
   "execution_count": 72,
   "id": "afce466b-57db-44e1-b935-05d9aad2a323",
   "metadata": {},
   "outputs": [
    {
     "name": "stdout",
     "output_type": "stream",
     "text": [
      "<class 'pandas.core.frame.DataFrame'>\n",
      "Int64Index: 15143 entries, 56920 to 77564\n",
      "Data columns (total 4 columns):\n",
      " #   Column    Non-Null Count  Dtype \n",
      "---  ------    --------------  ----- \n",
      " 0   name      15143 non-null  object\n",
      " 1   like      15143 non-null  int64 \n",
      " 2   text      15143 non-null  object\n",
      " 3   hashtags  15143 non-null  object\n",
      "dtypes: int64(1), object(3)\n",
      "memory usage: 591.5+ KB\n"
     ]
    }
   ],
   "source": [
    "df = df[['name', 'like', 'text', 'hashtags']]\n",
    "df.text.fillna('', inplace=True)\n",
    "df['text'] = df['text'].map(str) + ' ' + df['hashtags']\n",
    "df.dropna(inplace=True)\n",
    "df = df.sort_values(by=['like'], ascending=False)\n",
    "df.info()"
   ]
  },
  {
   "cell_type": "code",
   "execution_count": 73,
   "id": "73a0d608-ac5b-452d-9dc2-12d255bf57ef",
   "metadata": {},
   "outputs": [
    {
     "data": {
      "text/html": [
       "<div>\n",
       "<style scoped>\n",
       "    .dataframe tbody tr th:only-of-type {\n",
       "        vertical-align: middle;\n",
       "    }\n",
       "\n",
       "    .dataframe tbody tr th {\n",
       "        vertical-align: top;\n",
       "    }\n",
       "\n",
       "    .dataframe thead th {\n",
       "        text-align: right;\n",
       "    }\n",
       "</style>\n",
       "<table border=\"1\" class=\"dataframe\">\n",
       "  <thead>\n",
       "    <tr style=\"text-align: right;\">\n",
       "      <th></th>\n",
       "      <th>name</th>\n",
       "      <th>like</th>\n",
       "      <th>text</th>\n",
       "      <th>hashtags</th>\n",
       "    </tr>\n",
       "  </thead>\n",
       "  <tbody>\n",
       "    <tr>\n",
       "      <th>56920</th>\n",
       "      <td>MUSTOFA NAHRAWARDAYA</td>\n",
       "      <td>3834</td>\n",
       "      <td>Kalau dia niat dirinya mau jadi teroris, pasti...</td>\n",
       "      <td>dukungMUI</td>\n",
       "    </tr>\n",
       "    <tr>\n",
       "      <th>14195</th>\n",
       "      <td>Denny siregar</td>\n",
       "      <td>3642</td>\n",
       "      <td>Ketika tagar #bubarkanDensus marak, gua udah n...</td>\n",
       "      <td>bubarkanDensus</td>\n",
       "    </tr>\n",
       "    <tr>\n",
       "      <th>53540</th>\n",
       "      <td>Hilmi Firdausi</td>\n",
       "      <td>3431</td>\n",
       "      <td>Saking kesalnya buzzer sama sy gegara tagar #d...</td>\n",
       "      <td>dukungMUI</td>\n",
       "    </tr>\n",
       "    <tr>\n",
       "      <th>60710</th>\n",
       "      <td>KM3</td>\n",
       "      <td>2928</td>\n",
       "      <td>Ditangkap trus dicap teroris.\\r\\nSetelah 6 bul...</td>\n",
       "      <td>dukungMUI</td>\n",
       "    </tr>\n",
       "    <tr>\n",
       "      <th>45779</th>\n",
       "      <td>Habib_Nabiel_Almusawa</td>\n",
       "      <td>2711</td>\n",
       "      <td>Smg ALLAAH menjaga para Ulama &amp;amp; Majelis ny...</td>\n",
       "      <td>kamibersamaMUI</td>\n",
       "    </tr>\n",
       "    <tr>\n",
       "      <th>...</th>\n",
       "      <td>...</td>\n",
       "      <td>...</td>\n",
       "      <td>...</td>\n",
       "      <td>...</td>\n",
       "    </tr>\n",
       "    <tr>\n",
       "      <th>28729</th>\n",
       "      <td>Sektor.cisurupan</td>\n",
       "      <td>0</td>\n",
       "      <td>Polri Tangkap 3 Tersangka Yang Terlibat Pendan...</td>\n",
       "      <td>PolriCepatResponsif</td>\n",
       "    </tr>\n",
       "    <tr>\n",
       "      <th>28738</th>\n",
       "      <td>eskuwel</td>\n",
       "      <td>0</td>\n",
       "      <td>Nah bahkan Ketiganya diduga berperan dalam lem...</td>\n",
       "      <td>PolriCepatResponsif</td>\n",
       "    </tr>\n",
       "    <tr>\n",
       "      <th>28739</th>\n",
       "      <td>polresserangkota</td>\n",
       "      <td>0</td>\n",
       "      <td>Polri Ungkap Keterlibatan Tersangka Pada Penda...</td>\n",
       "      <td>PolriCepatResponsif</td>\n",
       "    </tr>\n",
       "    <tr>\n",
       "      <th>28740</th>\n",
       "      <td>Gian</td>\n",
       "      <td>0</td>\n",
       "      <td>POLRI AMANKAN 3 TERSANGKA YANG TERLIBAT PENDAN...</td>\n",
       "      <td>PolriCepatResponsif</td>\n",
       "    </tr>\n",
       "    <tr>\n",
       "      <th>77564</th>\n",
       "      <td>BERITA9</td>\n",
       "      <td>0</td>\n",
       "      <td>Polri: Jaringan Teroris JI di Lampung dan Jati...</td>\n",
       "      <td>Berita9</td>\n",
       "    </tr>\n",
       "  </tbody>\n",
       "</table>\n",
       "<p>15143 rows × 4 columns</p>\n",
       "</div>"
      ],
      "text/plain": [
       "                        name  like  \\\n",
       "56920   MUSTOFA NAHRAWARDAYA  3834   \n",
       "14195          Denny siregar  3642   \n",
       "53540         Hilmi Firdausi  3431   \n",
       "60710                    KM3  2928   \n",
       "45779  Habib_Nabiel_Almusawa  2711   \n",
       "...                      ...   ...   \n",
       "28729       Sektor.cisurupan     0   \n",
       "28738                eskuwel     0   \n",
       "28739       polresserangkota     0   \n",
       "28740                   Gian     0   \n",
       "77564                BERITA9     0   \n",
       "\n",
       "                                                    text             hashtags  \n",
       "56920  Kalau dia niat dirinya mau jadi teroris, pasti...            dukungMUI  \n",
       "14195  Ketika tagar #bubarkanDensus marak, gua udah n...       bubarkanDensus  \n",
       "53540  Saking kesalnya buzzer sama sy gegara tagar #d...            dukungMUI  \n",
       "60710  Ditangkap trus dicap teroris.\\r\\nSetelah 6 bul...            dukungMUI  \n",
       "45779  Smg ALLAAH menjaga para Ulama &amp; Majelis ny...       kamibersamaMUI  \n",
       "...                                                  ...                  ...  \n",
       "28729  Polri Tangkap 3 Tersangka Yang Terlibat Pendan...  PolriCepatResponsif  \n",
       "28738  Nah bahkan Ketiganya diduga berperan dalam lem...  PolriCepatResponsif  \n",
       "28739  Polri Ungkap Keterlibatan Tersangka Pada Penda...  PolriCepatResponsif  \n",
       "28740  POLRI AMANKAN 3 TERSANGKA YANG TERLIBAT PENDAN...  PolriCepatResponsif  \n",
       "77564  Polri: Jaringan Teroris JI di Lampung dan Jati...              Berita9  \n",
       "\n",
       "[15143 rows x 4 columns]"
      ]
     },
     "execution_count": 73,
     "metadata": {},
     "output_type": "execute_result"
    }
   ],
   "source": [
    "df"
   ]
  },
  {
   "cell_type": "code",
   "execution_count": 12,
   "id": "30915a7c-7c31-4675-b0fd-9dfffbe0db79",
   "metadata": {},
   "outputs": [
    {
     "data": {
      "text/plain": [
       "15143"
      ]
     },
     "execution_count": 12,
     "metadata": {},
     "output_type": "execute_result"
    }
   ],
   "source": [
    "def normalize_document(doc):\n",
    "    # lower case and remove special characters\\whitespaces\n",
    "    doc = re.sub(r'[^a-zA-Z0-9\\s]', '', doc, re.I|re.A)\n",
    "    doc = doc.lower()\n",
    "    doc = doc.strip()\n",
    "    # tokenize document\n",
    "    tokens = nltk.word_tokenize(doc)\n",
    "    #filter stopwords out of document\n",
    "    filtered_tokens = [token for token in tokens if token not in stopwords.words('indonesian')]\n",
    "    # re-create document from filtered tokens\n",
    "    doc = ' '.join(filtered_tokens)\n",
    "    return doc\n",
    "\n",
    "normalize_corpus = np.vectorize(normalize_document)\n",
    "\n",
    "norm_corpus = normalize_corpus(list(df['text']))\n",
    "len(norm_corpus)"
   ]
  },
  {
   "cell_type": "code",
   "execution_count": 14,
   "id": "b501bdfd-cea1-49cb-b341-92d3072d5cfc",
   "metadata": {},
   "outputs": [
    {
     "data": {
      "text/plain": [
       "(15143, 23625)"
      ]
     },
     "execution_count": 14,
     "metadata": {},
     "output_type": "execute_result"
    }
   ],
   "source": [
    "tfidf = TfidfVectorizer(ngram_range=(1, 2), min_df=2)\n",
    "tfidf_matrix = tfidf.fit_transform(norm_corpus)\n",
    "tfidf_matrix.shape"
   ]
  },
  {
   "cell_type": "code",
   "execution_count": 15,
   "id": "dd198bdf-8b29-4025-b2eb-3c6de0405a6f",
   "metadata": {},
   "outputs": [
    {
     "data": {
      "text/html": [
       "<div>\n",
       "<style scoped>\n",
       "    .dataframe tbody tr th:only-of-type {\n",
       "        vertical-align: middle;\n",
       "    }\n",
       "\n",
       "    .dataframe tbody tr th {\n",
       "        vertical-align: top;\n",
       "    }\n",
       "\n",
       "    .dataframe thead th {\n",
       "        text-align: right;\n",
       "    }\n",
       "</style>\n",
       "<table border=\"1\" class=\"dataframe\">\n",
       "  <thead>\n",
       "    <tr style=\"text-align: right;\">\n",
       "      <th></th>\n",
       "      <th>0</th>\n",
       "      <th>1</th>\n",
       "      <th>2</th>\n",
       "      <th>3</th>\n",
       "      <th>4</th>\n",
       "      <th>5</th>\n",
       "      <th>6</th>\n",
       "      <th>7</th>\n",
       "      <th>8</th>\n",
       "      <th>9</th>\n",
       "      <th>...</th>\n",
       "      <th>15133</th>\n",
       "      <th>15134</th>\n",
       "      <th>15135</th>\n",
       "      <th>15136</th>\n",
       "      <th>15137</th>\n",
       "      <th>15138</th>\n",
       "      <th>15139</th>\n",
       "      <th>15140</th>\n",
       "      <th>15141</th>\n",
       "      <th>15142</th>\n",
       "    </tr>\n",
       "  </thead>\n",
       "  <tbody>\n",
       "    <tr>\n",
       "      <th>0</th>\n",
       "      <td>1.000000</td>\n",
       "      <td>0.000998</td>\n",
       "      <td>0.027187</td>\n",
       "      <td>0.042610</td>\n",
       "      <td>0.003978</td>\n",
       "      <td>0.030601</td>\n",
       "      <td>0.024445</td>\n",
       "      <td>0.027491</td>\n",
       "      <td>0.057341</td>\n",
       "      <td>0.001482</td>\n",
       "      <td>...</td>\n",
       "      <td>0.003499</td>\n",
       "      <td>0.003499</td>\n",
       "      <td>0.002895</td>\n",
       "      <td>0.001820</td>\n",
       "      <td>0.003460</td>\n",
       "      <td>0.002003</td>\n",
       "      <td>0.001984</td>\n",
       "      <td>0.001633</td>\n",
       "      <td>0.004000</td>\n",
       "      <td>0.002367</td>\n",
       "    </tr>\n",
       "    <tr>\n",
       "      <th>1</th>\n",
       "      <td>0.000998</td>\n",
       "      <td>1.000000</td>\n",
       "      <td>0.021558</td>\n",
       "      <td>0.000588</td>\n",
       "      <td>0.008641</td>\n",
       "      <td>0.036203</td>\n",
       "      <td>0.000483</td>\n",
       "      <td>0.007658</td>\n",
       "      <td>0.000792</td>\n",
       "      <td>0.006987</td>\n",
       "      <td>...</td>\n",
       "      <td>0.001077</td>\n",
       "      <td>0.001077</td>\n",
       "      <td>0.000891</td>\n",
       "      <td>0.009389</td>\n",
       "      <td>0.001065</td>\n",
       "      <td>0.010335</td>\n",
       "      <td>0.000610</td>\n",
       "      <td>0.000503</td>\n",
       "      <td>0.001231</td>\n",
       "      <td>0.000728</td>\n",
       "    </tr>\n",
       "    <tr>\n",
       "      <th>2</th>\n",
       "      <td>0.027187</td>\n",
       "      <td>0.021558</td>\n",
       "      <td>1.000000</td>\n",
       "      <td>0.032817</td>\n",
       "      <td>0.026145</td>\n",
       "      <td>0.109750</td>\n",
       "      <td>0.001083</td>\n",
       "      <td>0.035910</td>\n",
       "      <td>0.044163</td>\n",
       "      <td>0.008342</td>\n",
       "      <td>...</td>\n",
       "      <td>0.002414</td>\n",
       "      <td>0.002414</td>\n",
       "      <td>0.001997</td>\n",
       "      <td>0.001256</td>\n",
       "      <td>0.002387</td>\n",
       "      <td>0.001382</td>\n",
       "      <td>0.001368</td>\n",
       "      <td>0.001127</td>\n",
       "      <td>0.002759</td>\n",
       "      <td>0.001633</td>\n",
       "    </tr>\n",
       "    <tr>\n",
       "      <th>3</th>\n",
       "      <td>0.042610</td>\n",
       "      <td>0.000588</td>\n",
       "      <td>0.032817</td>\n",
       "      <td>1.000000</td>\n",
       "      <td>0.000559</td>\n",
       "      <td>0.052018</td>\n",
       "      <td>0.000926</td>\n",
       "      <td>0.046731</td>\n",
       "      <td>0.098435</td>\n",
       "      <td>0.000874</td>\n",
       "      <td>...</td>\n",
       "      <td>0.002064</td>\n",
       "      <td>0.002064</td>\n",
       "      <td>0.001708</td>\n",
       "      <td>0.014570</td>\n",
       "      <td>0.002041</td>\n",
       "      <td>0.001182</td>\n",
       "      <td>0.001170</td>\n",
       "      <td>0.000964</td>\n",
       "      <td>0.002359</td>\n",
       "      <td>0.001396</td>\n",
       "    </tr>\n",
       "    <tr>\n",
       "      <th>4</th>\n",
       "      <td>0.003978</td>\n",
       "      <td>0.008641</td>\n",
       "      <td>0.026145</td>\n",
       "      <td>0.000559</td>\n",
       "      <td>1.000000</td>\n",
       "      <td>0.000529</td>\n",
       "      <td>0.000459</td>\n",
       "      <td>0.022865</td>\n",
       "      <td>0.000752</td>\n",
       "      <td>0.020862</td>\n",
       "      <td>...</td>\n",
       "      <td>0.010498</td>\n",
       "      <td>0.010498</td>\n",
       "      <td>0.026613</td>\n",
       "      <td>0.010391</td>\n",
       "      <td>0.010381</td>\n",
       "      <td>0.011437</td>\n",
       "      <td>0.010853</td>\n",
       "      <td>0.004901</td>\n",
       "      <td>0.012001</td>\n",
       "      <td>0.000692</td>\n",
       "    </tr>\n",
       "  </tbody>\n",
       "</table>\n",
       "<p>5 rows × 15143 columns</p>\n",
       "</div>"
      ],
      "text/plain": [
       "      0         1         2         3         4         5         6      \\\n",
       "0  1.000000  0.000998  0.027187  0.042610  0.003978  0.030601  0.024445   \n",
       "1  0.000998  1.000000  0.021558  0.000588  0.008641  0.036203  0.000483   \n",
       "2  0.027187  0.021558  1.000000  0.032817  0.026145  0.109750  0.001083   \n",
       "3  0.042610  0.000588  0.032817  1.000000  0.000559  0.052018  0.000926   \n",
       "4  0.003978  0.008641  0.026145  0.000559  1.000000  0.000529  0.000459   \n",
       "\n",
       "      7         8         9      ...     15133     15134     15135     15136  \\\n",
       "0  0.027491  0.057341  0.001482  ...  0.003499  0.003499  0.002895  0.001820   \n",
       "1  0.007658  0.000792  0.006987  ...  0.001077  0.001077  0.000891  0.009389   \n",
       "2  0.035910  0.044163  0.008342  ...  0.002414  0.002414  0.001997  0.001256   \n",
       "3  0.046731  0.098435  0.000874  ...  0.002064  0.002064  0.001708  0.014570   \n",
       "4  0.022865  0.000752  0.020862  ...  0.010498  0.010498  0.026613  0.010391   \n",
       "\n",
       "      15137     15138     15139     15140     15141     15142  \n",
       "0  0.003460  0.002003  0.001984  0.001633  0.004000  0.002367  \n",
       "1  0.001065  0.010335  0.000610  0.000503  0.001231  0.000728  \n",
       "2  0.002387  0.001382  0.001368  0.001127  0.002759  0.001633  \n",
       "3  0.002041  0.001182  0.001170  0.000964  0.002359  0.001396  \n",
       "4  0.010381  0.011437  0.010853  0.004901  0.012001  0.000692  \n",
       "\n",
       "[5 rows x 15143 columns]"
      ]
     },
     "execution_count": 15,
     "metadata": {},
     "output_type": "execute_result"
    }
   ],
   "source": [
    "doc_sim = cosine_similarity(tfidf_matrix)\n",
    "doc_sim_df = pd.DataFrame(doc_sim)\n",
    "doc_sim_df.head()"
   ]
  },
  {
   "cell_type": "code",
   "execution_count": 16,
   "id": "e06497ae-d54c-4051-aac6-c7e4aa87911b",
   "metadata": {},
   "outputs": [
    {
     "data": {
      "text/plain": [
       "(array(['dukungMUI', 'bubarkanDensus', 'dukungMUI', ...,\n",
       "        'PolriCepatResponsif', 'PolriCepatResponsif', 'Berita9'],\n",
       "       dtype=object),\n",
       " (15143,))"
      ]
     },
     "execution_count": 16,
     "metadata": {},
     "output_type": "execute_result"
    }
   ],
   "source": [
    "radicalism_list = df['hashtags'].values\n",
    "radicalism_list, radicalism_list.shape"
   ]
  },
  {
   "cell_type": "code",
   "execution_count": 17,
   "id": "da7894fd-4d26-452b-b8aa-bafa69ab3aca",
   "metadata": {},
   "outputs": [
    {
     "data": {
      "text/plain": [
       "115"
      ]
     },
     "execution_count": 17,
     "metadata": {},
     "output_type": "execute_result"
    }
   ],
   "source": [
    "radicalism_idx = np.where(radicalism_list == 'Reuni212')[0][0]\n",
    "radicalism_idx"
   ]
  },
  {
   "cell_type": "code",
   "execution_count": 18,
   "id": "b03db679-c0ca-497a-8da1-f222d27979b8",
   "metadata": {},
   "outputs": [
    {
     "data": {
      "text/plain": [
       "array([0.00167034, 0.00051409, 0.00115233, ..., 0.00084176, 0.00206103,\n",
       "       0.00121951])"
      ]
     },
     "execution_count": 18,
     "metadata": {},
     "output_type": "execute_result"
    }
   ],
   "source": [
    "radicalism_similarities = doc_sim_df.iloc[radicalism_idx].values\n",
    "radicalism_similarities"
   ]
  },
  {
   "cell_type": "code",
   "execution_count": 19,
   "id": "1c1108c2-7241-4705-81f8-db3087f6c567",
   "metadata": {},
   "outputs": [
    {
     "data": {
      "text/plain": [
       "array([ 884, 5698, 5571, 5681,  150], dtype=int64)"
      ]
     },
     "execution_count": 19,
     "metadata": {},
     "output_type": "execute_result"
    }
   ],
   "source": [
    "similar_radicalism_idxs = np.argsort(-radicalism_similarities)[1:6]\n",
    "similar_radicalism_idxs"
   ]
  },
  {
   "cell_type": "code",
   "execution_count": 20,
   "id": "6220599d-f17d-474d-b01a-fe4b61f0c5f4",
   "metadata": {},
   "outputs": [
    {
     "data": {
      "text/plain": [
       "array(['Reuni212', 'Reuni212', 'Reuni212', 'Reuni212', 'Reuni212'],\n",
       "      dtype=object)"
      ]
     },
     "execution_count": 20,
     "metadata": {},
     "output_type": "execute_result"
    }
   ],
   "source": [
    "similar_radicalism = radicalism_list[similar_radicalism_idxs]\n",
    "similar_radicalism"
   ]
  },
  {
   "cell_type": "code",
   "execution_count": 21,
   "id": "3ab803a9-119c-4d79-86e2-7cbf71fdb300",
   "metadata": {},
   "outputs": [],
   "source": [
    "def radicalism_recommender(radicalism_title, radicalism=radicalism_list, doc_sims=doc_sim_df):\n",
    "    # find movie id\n",
    "    radicalism_idx = np.where(radicalism == radicalism_title)[0][0]\n",
    "    # get movie similarities\n",
    "    radicalism_similarities = doc_sims.iloc[radicalism_idx].values\n",
    "    # get top 5 similar movie IDs\n",
    "    similar_radicalism_idxs = np.argsort(-radicalism_similarities)[1:6]\n",
    "    # get top 5 movies\n",
    "    similar_radicalism = radicalism[similar_radicalism_idxs]\n",
    "    # return the top 5 movies\n",
    "    return similar_radicalism"
   ]
  },
  {
   "cell_type": "code",
   "execution_count": 22,
   "id": "42df2e55-14a9-4936-ac52-40c1dccdb3f3",
   "metadata": {},
   "outputs": [],
   "source": [
    "popular_radicalism = ['Reuni212', 'AksiSuperDamai212', 'bubarkanMUI', 'BubarknReuniKadrun212', 'saudarateroris',\n",
    "                      'PapuaIndonesia', 'MUISarangTeroris', 'KamiBersamaDensus88', \n",
    "                      'dukungMUI', 'MUIbersamaDensus', 'PDIPPengkhianatPancasila', 'BaharBinSmith', \n",
    "                      'PolriCepatResponsifn', 'Teroris', 'Densus88HarusDibubarkan', 'AniesDipusaranTokohTeroris',  \n",
    "                      'PKIGayaBaru', 'BuzzeRpSahabatTeroris', 'aniesbaswedan','Islamophobia']"
   ]
  },
  {
   "cell_type": "code",
   "execution_count": 23,
   "id": "02ffc824-7cac-4cd9-997e-98fbf7b80b4b",
   "metadata": {},
   "outputs": [
    {
     "name": "stdout",
     "output_type": "stream",
     "text": [
      "Popular: Reuni212\n",
      "Top 5 recommended popular hashtags: ['Reuni212' 'Reuni212' 'Reuni212' 'Reuni212' 'Reuni212']\n",
      "\n",
      "Popular: AksiSuperDamai212\n",
      "Top 5 recommended popular hashtags: ['AksiSuperDamai212' 'AksiSuperDamai212' 'AksiSuperDamai212'\n",
      " 'cocotmudiam,matamubuta,cocotmurusak,matamumlotot' 'AksiSuperDamai212']\n",
      "\n",
      "Popular: bubarkanMUI\n",
      "Top 5 recommended popular hashtags: ['bubarkanMUI' 'bubarkanMUI' 'OrdeBobrok,OrdeBobrok'\n",
      " 'bubarkanMUI,BubarkanMUISarangTeroris' 'bubarkanMUI']\n",
      "\n",
      "Popular: BubarknReuniKadrun212\n",
      "Top 5 recommended popular hashtags: ['BubarknReuniKadrun212,BubarknReuniKadrun212'\n",
      " 'BubarknReuniKadrun212,BubarknReuniKadrun212,BubarknReuniKadrun212,BubarknReuniKadrun212'\n",
      " 'bubarkanMUI,bubarkanMUI,bubarkanMUI' 'bubarkanMUI' 'bubrkanMUI']\n",
      "\n",
      "Popular: saudarateroris\n",
      "Top 5 recommended popular hashtags: ['PutihkanJakarta212' 'LawanTerorTerhadapIslam'\n",
      " 'DUDUNGDUNGU,DUDUNGTOLOL,REZIMPKISIAPSIAPHANCUR' 'dukungMUI,dukungMUI'\n",
      " 'PKITakutIslamBersatu,PKITakutIslamBersatu']\n",
      "\n",
      "Popular: PapuaIndonesia\n",
      "Top 5 recommended popular hashtags: ['PapuaIndonesia' 'PapuaIndonesia' 'PapuaIndonesia' 'OtsusSangatEfektif'\n",
      " 'PapuaIndonesia']\n",
      "\n",
      "Popular: MUISarangTeroris\n",
      "Top 5 recommended popular hashtags: ['MUISarangTeroris,MUISarangTeroris,MUISarangTeroris,MUISarangTeroris,MUISarangTeroris,MUISarangTeroris,MUISarangTeroris,MUISarangTeroris'\n",
      " 'MUISarangTeroris,MUISarangTeroris,MUISarangTeroris,MUISarangTeroris,MUISarangTeroris,MUISarangTeroris'\n",
      " 'dukungMUI'\n",
      " 'MUISarangTeroris,MUISarangTeroris,MUISarangTeroris,MUISarangTeroris,MUISarangTeroris,MUISarangTeroris,MUISarangTeroris,MUISarangTeroris'\n",
      " 'bubarkanMUI,bubarkanMUI,bubarkanMUI,bubarkanMUI,bubarkanMUI,MUISarangTeroris,MUISarangTeroris,MUISarangTeroris,MUISarangTeroris,MUISarangTeroris,MUISarangTeroris,MUISarangTeroris,MUISarangTeroris,bubarkanMUI']\n",
      "\n",
      "Popular: KamiBersamaDensus88\n",
      "Top 5 recommended popular hashtags: ['KamiBersamaDensus88' 'KamiBersamaDensus88' 'KamiBersamaDensus88'\n",
      " 'BubarkanMUI,KitaBersamaDensus88' 'MUIDukungDensus88']\n",
      "\n",
      "Popular: dukungMUI\n",
      "Top 5 recommended popular hashtags: ['dukungMUI' 'BubarkanMUISarangTeroris' 'MUIbersamaDensus'\n",
      " 'dukungMUI,dukungMUI,dukungMUI,dukungMUI,dukungMUI,dukungMUI,dukungMUI,dukungMUI'\n",
      " 'dukungMUI,dukungMUI,dukungMUI,dukungMUI,dukungMUI,dukungMUI,dukungMUI,dukungMUI,dukungMUI']\n",
      "\n",
      "Popular: MUIbersamaDensus\n",
      "Top 5 recommended popular hashtags: ['LawanTeroris' 'ahmad,zain,an,najah,densus,terduga,teroris,mui'\n",
      " 'MUIbersamaDensus' 'NarasiNewsroom,JadiaPaham' 'MUIbersamaDensus']\n",
      "\n",
      "Popular: PDIPPengkhianatPancasila\n",
      "Top 5 recommended popular hashtags: ['PDIPPengkhianatPancasila,PDIPPengkhianatPancasila'\n",
      " 'PDIPPengkhianatPancasila,PDIPPengkhianatPancasila'\n",
      " 'PDIPPengkhianatPancasila,PDIPPengkhianatPancasila'\n",
      " 'PDIPPengkhianatPancasila,PDIPPengkhianatPancasila'\n",
      " 'PDIPPengkhianatPancasila']\n",
      "\n",
      "Popular: BaharBinSmith\n",
      "Top 5 recommended popular hashtags: ['BaharBinSmith' 'BaharBinSmith' 'BaharBinSmith' 'BaharBinSmith'\n",
      " 'BaharBinSmith']\n",
      "\n",
      "Popular: PolriCepatResponsifn\n"
     ]
    },
    {
     "ename": "IndexError",
     "evalue": "index 0 is out of bounds for axis 0 with size 0",
     "output_type": "error",
     "traceback": [
      "\u001b[1;31m---------------------------------------------------------------------------\u001b[0m",
      "\u001b[1;31mIndexError\u001b[0m                                Traceback (most recent call last)",
      "\u001b[1;32m<ipython-input-23-aa78242bf152>\u001b[0m in \u001b[0;36m<module>\u001b[1;34m\u001b[0m\n\u001b[0;32m      1\u001b[0m \u001b[1;32mfor\u001b[0m \u001b[0mpopular\u001b[0m \u001b[1;32min\u001b[0m \u001b[0mpopular_radicalism\u001b[0m\u001b[1;33m:\u001b[0m\u001b[1;33m\u001b[0m\u001b[1;33m\u001b[0m\u001b[0m\n\u001b[0;32m      2\u001b[0m     \u001b[0mprint\u001b[0m\u001b[1;33m(\u001b[0m\u001b[1;34m'Popular:'\u001b[0m\u001b[1;33m,\u001b[0m \u001b[0mpopular\u001b[0m\u001b[1;33m)\u001b[0m\u001b[1;33m\u001b[0m\u001b[1;33m\u001b[0m\u001b[0m\n\u001b[1;32m----> 3\u001b[1;33m     print('Top 5 recommended popular hashtags:', radicalism_recommender(radicalism_title=popular,\n\u001b[0m\u001b[0;32m      4\u001b[0m                                                                         radicalism=radicalism_list, doc_sims=doc_sim_df))\n\u001b[0;32m      5\u001b[0m     \u001b[0mprint\u001b[0m\u001b[1;33m(\u001b[0m\u001b[1;33m)\u001b[0m\u001b[1;33m\u001b[0m\u001b[1;33m\u001b[0m\u001b[0m\n",
      "\u001b[1;32m<ipython-input-21-e51faff20363>\u001b[0m in \u001b[0;36mradicalism_recommender\u001b[1;34m(radicalism_title, radicalism, doc_sims)\u001b[0m\n\u001b[0;32m      1\u001b[0m \u001b[1;32mdef\u001b[0m \u001b[0mradicalism_recommender\u001b[0m\u001b[1;33m(\u001b[0m\u001b[0mradicalism_title\u001b[0m\u001b[1;33m,\u001b[0m \u001b[0mradicalism\u001b[0m\u001b[1;33m=\u001b[0m\u001b[0mradicalism_list\u001b[0m\u001b[1;33m,\u001b[0m \u001b[0mdoc_sims\u001b[0m\u001b[1;33m=\u001b[0m\u001b[0mdoc_sim_df\u001b[0m\u001b[1;33m)\u001b[0m\u001b[1;33m:\u001b[0m\u001b[1;33m\u001b[0m\u001b[1;33m\u001b[0m\u001b[0m\n\u001b[0;32m      2\u001b[0m     \u001b[1;31m# find movie id\u001b[0m\u001b[1;33m\u001b[0m\u001b[1;33m\u001b[0m\u001b[1;33m\u001b[0m\u001b[0m\n\u001b[1;32m----> 3\u001b[1;33m     \u001b[0mradicalism_idx\u001b[0m \u001b[1;33m=\u001b[0m \u001b[0mnp\u001b[0m\u001b[1;33m.\u001b[0m\u001b[0mwhere\u001b[0m\u001b[1;33m(\u001b[0m\u001b[0mradicalism\u001b[0m \u001b[1;33m==\u001b[0m \u001b[0mradicalism_title\u001b[0m\u001b[1;33m)\u001b[0m\u001b[1;33m[\u001b[0m\u001b[1;36m0\u001b[0m\u001b[1;33m]\u001b[0m\u001b[1;33m[\u001b[0m\u001b[1;36m0\u001b[0m\u001b[1;33m]\u001b[0m\u001b[1;33m\u001b[0m\u001b[1;33m\u001b[0m\u001b[0m\n\u001b[0m\u001b[0;32m      4\u001b[0m     \u001b[1;31m# get movie similarities\u001b[0m\u001b[1;33m\u001b[0m\u001b[1;33m\u001b[0m\u001b[1;33m\u001b[0m\u001b[0m\n\u001b[0;32m      5\u001b[0m     \u001b[0mradicalism_similarities\u001b[0m \u001b[1;33m=\u001b[0m \u001b[0mdoc_sims\u001b[0m\u001b[1;33m.\u001b[0m\u001b[0miloc\u001b[0m\u001b[1;33m[\u001b[0m\u001b[0mradicalism_idx\u001b[0m\u001b[1;33m]\u001b[0m\u001b[1;33m.\u001b[0m\u001b[0mvalues\u001b[0m\u001b[1;33m\u001b[0m\u001b[1;33m\u001b[0m\u001b[0m\n",
      "\u001b[1;31mIndexError\u001b[0m: index 0 is out of bounds for axis 0 with size 0"
     ]
    }
   ],
   "source": [
    "for popular in popular_radicalism:\n",
    "    print('Popular:', popular)\n",
    "    print('Top 5 recommended popular hashtags:', radicalism_recommender(radicalism_title=popular,\n",
    "                                                                        radicalism=radicalism_list, doc_sims=doc_sim_df))\n",
    "    print()"
   ]
  },
  {
   "cell_type": "code",
   "execution_count": 24,
   "id": "fb49d8f8-af68-4394-aa41-8c54286280ac",
   "metadata": {},
   "outputs": [],
   "source": [
    "tokenized_docs = [doc.split() for doc in norm_corpus]\n",
    "ft_model = Word2Vec(tokenized_docs, size=300, window=30, min_count=2, workers=4, sg=1, iter=50)"
   ]
  },
  {
   "cell_type": "code",
   "execution_count": 25,
   "id": "73a3b2f7-d95f-429b-ac9c-3776d7aecf75",
   "metadata": {},
   "outputs": [],
   "source": [
    "def averaged_word2vec_vectorizer(corpus, model, num_features):\n",
    "    vocabulary = set(model.wv.index2word)\n",
    "    \n",
    "    def average_word_vectors(words, model, vocabulary, num_features):\n",
    "        feature_vector = np.zeros((num_features,), dtype=\"float64\")\n",
    "        nwords = 0.\n",
    "        \n",
    "        for word in words:\n",
    "            if word in vocabulary: \n",
    "                nwords = nwords + 1.\n",
    "                feature_vector = np.add(feature_vector, model.wv[word])\n",
    "        if nwords:\n",
    "            feature_vector = np.divide(feature_vector, nwords)\n",
    "\n",
    "        return feature_vector\n",
    "\n",
    "    features = [average_word_vectors(tokenized_sentence, model, vocabulary, num_features)\n",
    "                    for tokenized_sentence in corpus]\n",
    "    return np.array(features)"
   ]
  },
  {
   "cell_type": "code",
   "execution_count": 26,
   "id": "ca1df731-c14b-4963-952b-f14a68bb5cae",
   "metadata": {},
   "outputs": [
    {
     "data": {
      "text/plain": [
       "(15143, 300)"
      ]
     },
     "execution_count": 26,
     "metadata": {},
     "output_type": "execute_result"
    }
   ],
   "source": [
    "doc_vecs_ft = averaged_word2vec_vectorizer(tokenized_docs, ft_model, 300)\n",
    "doc_vecs_ft.shape"
   ]
  },
  {
   "cell_type": "code",
   "execution_count": 27,
   "id": "e5677a50-5b4c-4863-9970-26dcb9fd684b",
   "metadata": {},
   "outputs": [
    {
     "data": {
      "text/html": [
       "<div>\n",
       "<style scoped>\n",
       "    .dataframe tbody tr th:only-of-type {\n",
       "        vertical-align: middle;\n",
       "    }\n",
       "\n",
       "    .dataframe tbody tr th {\n",
       "        vertical-align: top;\n",
       "    }\n",
       "\n",
       "    .dataframe thead th {\n",
       "        text-align: right;\n",
       "    }\n",
       "</style>\n",
       "<table border=\"1\" class=\"dataframe\">\n",
       "  <thead>\n",
       "    <tr style=\"text-align: right;\">\n",
       "      <th></th>\n",
       "      <th>0</th>\n",
       "      <th>1</th>\n",
       "      <th>2</th>\n",
       "      <th>3</th>\n",
       "      <th>4</th>\n",
       "      <th>5</th>\n",
       "      <th>6</th>\n",
       "      <th>7</th>\n",
       "      <th>8</th>\n",
       "      <th>9</th>\n",
       "      <th>...</th>\n",
       "      <th>15133</th>\n",
       "      <th>15134</th>\n",
       "      <th>15135</th>\n",
       "      <th>15136</th>\n",
       "      <th>15137</th>\n",
       "      <th>15138</th>\n",
       "      <th>15139</th>\n",
       "      <th>15140</th>\n",
       "      <th>15141</th>\n",
       "      <th>15142</th>\n",
       "    </tr>\n",
       "  </thead>\n",
       "  <tbody>\n",
       "    <tr>\n",
       "      <th>0</th>\n",
       "      <td>1.000000</td>\n",
       "      <td>0.510565</td>\n",
       "      <td>0.513522</td>\n",
       "      <td>0.521302</td>\n",
       "      <td>0.463062</td>\n",
       "      <td>0.420186</td>\n",
       "      <td>0.515004</td>\n",
       "      <td>0.514470</td>\n",
       "      <td>0.505273</td>\n",
       "      <td>0.439425</td>\n",
       "      <td>...</td>\n",
       "      <td>0.379024</td>\n",
       "      <td>0.379024</td>\n",
       "      <td>0.403449</td>\n",
       "      <td>0.412883</td>\n",
       "      <td>0.344957</td>\n",
       "      <td>0.406204</td>\n",
       "      <td>0.399972</td>\n",
       "      <td>0.379831</td>\n",
       "      <td>0.370206</td>\n",
       "      <td>0.429738</td>\n",
       "    </tr>\n",
       "    <tr>\n",
       "      <th>1</th>\n",
       "      <td>0.510565</td>\n",
       "      <td>1.000000</td>\n",
       "      <td>0.531805</td>\n",
       "      <td>0.501041</td>\n",
       "      <td>0.454366</td>\n",
       "      <td>0.498840</td>\n",
       "      <td>0.380937</td>\n",
       "      <td>0.497782</td>\n",
       "      <td>0.465095</td>\n",
       "      <td>0.340330</td>\n",
       "      <td>...</td>\n",
       "      <td>0.348945</td>\n",
       "      <td>0.348945</td>\n",
       "      <td>0.386767</td>\n",
       "      <td>0.419551</td>\n",
       "      <td>0.357917</td>\n",
       "      <td>0.395573</td>\n",
       "      <td>0.353880</td>\n",
       "      <td>0.373029</td>\n",
       "      <td>0.339162</td>\n",
       "      <td>0.393232</td>\n",
       "    </tr>\n",
       "    <tr>\n",
       "      <th>2</th>\n",
       "      <td>0.513522</td>\n",
       "      <td>0.531805</td>\n",
       "      <td>1.000000</td>\n",
       "      <td>0.529939</td>\n",
       "      <td>0.491390</td>\n",
       "      <td>0.565410</td>\n",
       "      <td>0.399645</td>\n",
       "      <td>0.543882</td>\n",
       "      <td>0.477734</td>\n",
       "      <td>0.439706</td>\n",
       "      <td>...</td>\n",
       "      <td>0.331772</td>\n",
       "      <td>0.331772</td>\n",
       "      <td>0.362094</td>\n",
       "      <td>0.370034</td>\n",
       "      <td>0.294349</td>\n",
       "      <td>0.362402</td>\n",
       "      <td>0.388469</td>\n",
       "      <td>0.356942</td>\n",
       "      <td>0.321490</td>\n",
       "      <td>0.370761</td>\n",
       "    </tr>\n",
       "    <tr>\n",
       "      <th>3</th>\n",
       "      <td>0.521302</td>\n",
       "      <td>0.501041</td>\n",
       "      <td>0.529939</td>\n",
       "      <td>1.000000</td>\n",
       "      <td>0.390852</td>\n",
       "      <td>0.534989</td>\n",
       "      <td>0.408520</td>\n",
       "      <td>0.536358</td>\n",
       "      <td>0.573078</td>\n",
       "      <td>0.420425</td>\n",
       "      <td>...</td>\n",
       "      <td>0.365166</td>\n",
       "      <td>0.365166</td>\n",
       "      <td>0.383348</td>\n",
       "      <td>0.431278</td>\n",
       "      <td>0.345561</td>\n",
       "      <td>0.403606</td>\n",
       "      <td>0.312795</td>\n",
       "      <td>0.351425</td>\n",
       "      <td>0.357758</td>\n",
       "      <td>0.350568</td>\n",
       "    </tr>\n",
       "    <tr>\n",
       "      <th>4</th>\n",
       "      <td>0.463062</td>\n",
       "      <td>0.454366</td>\n",
       "      <td>0.491390</td>\n",
       "      <td>0.390852</td>\n",
       "      <td>1.000000</td>\n",
       "      <td>0.415732</td>\n",
       "      <td>0.423602</td>\n",
       "      <td>0.559832</td>\n",
       "      <td>0.439846</td>\n",
       "      <td>0.431201</td>\n",
       "      <td>...</td>\n",
       "      <td>0.428865</td>\n",
       "      <td>0.428865</td>\n",
       "      <td>0.478804</td>\n",
       "      <td>0.477472</td>\n",
       "      <td>0.420486</td>\n",
       "      <td>0.456838</td>\n",
       "      <td>0.455463</td>\n",
       "      <td>0.449302</td>\n",
       "      <td>0.422534</td>\n",
       "      <td>0.414952</td>\n",
       "    </tr>\n",
       "  </tbody>\n",
       "</table>\n",
       "<p>5 rows × 15143 columns</p>\n",
       "</div>"
      ],
      "text/plain": [
       "      0         1         2         3         4         5         6      \\\n",
       "0  1.000000  0.510565  0.513522  0.521302  0.463062  0.420186  0.515004   \n",
       "1  0.510565  1.000000  0.531805  0.501041  0.454366  0.498840  0.380937   \n",
       "2  0.513522  0.531805  1.000000  0.529939  0.491390  0.565410  0.399645   \n",
       "3  0.521302  0.501041  0.529939  1.000000  0.390852  0.534989  0.408520   \n",
       "4  0.463062  0.454366  0.491390  0.390852  1.000000  0.415732  0.423602   \n",
       "\n",
       "      7         8         9      ...     15133     15134     15135     15136  \\\n",
       "0  0.514470  0.505273  0.439425  ...  0.379024  0.379024  0.403449  0.412883   \n",
       "1  0.497782  0.465095  0.340330  ...  0.348945  0.348945  0.386767  0.419551   \n",
       "2  0.543882  0.477734  0.439706  ...  0.331772  0.331772  0.362094  0.370034   \n",
       "3  0.536358  0.573078  0.420425  ...  0.365166  0.365166  0.383348  0.431278   \n",
       "4  0.559832  0.439846  0.431201  ...  0.428865  0.428865  0.478804  0.477472   \n",
       "\n",
       "      15137     15138     15139     15140     15141     15142  \n",
       "0  0.344957  0.406204  0.399972  0.379831  0.370206  0.429738  \n",
       "1  0.357917  0.395573  0.353880  0.373029  0.339162  0.393232  \n",
       "2  0.294349  0.362402  0.388469  0.356942  0.321490  0.370761  \n",
       "3  0.345561  0.403606  0.312795  0.351425  0.357758  0.350568  \n",
       "4  0.420486  0.456838  0.455463  0.449302  0.422534  0.414952  \n",
       "\n",
       "[5 rows x 15143 columns]"
      ]
     },
     "execution_count": 27,
     "metadata": {},
     "output_type": "execute_result"
    }
   ],
   "source": [
    "doc_sim = cosine_similarity(doc_vecs_ft)\n",
    "doc_sim_df = pd.DataFrame(doc_sim)\n",
    "doc_sim_df.head()"
   ]
  },
  {
   "cell_type": "code",
   "execution_count": 28,
   "id": "3018e48f-261a-4872-bff8-9ba2685e0839",
   "metadata": {},
   "outputs": [
    {
     "name": "stdout",
     "output_type": "stream",
     "text": [
      "Popular: Reuni212\n",
      "Top 5 recommended popular hashtags: ['Reuni212' 'Reuni212' 'Reuni212' 'Reuni212' 'Reuni212']\n",
      "\n",
      "Popular: AksiSuperDamai212\n",
      "Top 5 recommended popular hashtags: ['AksiSuperDamai212' 'AksiSuperDamai212'\n",
      " 'cocotmudiam,matamubuta,cocotmurusak,matamumlotot' 'AksiSuperDamai212'\n",
      " 'AksiSuperDamai212']\n",
      "\n",
      "Popular: bubarkanMUI\n",
      "Top 5 recommended popular hashtags: ['bubarkanMUI' 'bubarkanMUI' 'AnwarAbbas' 'bubarkanMUI'\n",
      " 'bubarkanMUI,BubarkanMUISarangTeroris']\n",
      "\n",
      "Popular: BubarknReuniKadrun212\n",
      "Top 5 recommended popular hashtags: ['BubarknReuniKadrun212,BubarknReuniKadrun212,BubarknReuniKadrun212,BubarknReuniKadrun212'\n",
      " 'BubarknReuniKadrun212,BubarknReuniKadrun212' 'bubarkanMUI,MUIcumaLSM'\n",
      " 'bubarkanMUI' 'bubarkanMUI,BubarkanMUIsegera,MUISarangTeroris,MUIcumaLSM']\n",
      "\n",
      "Popular: saudarateroris\n",
      "Top 5 recommended popular hashtags: ['LawanTerorTerhadapIslam' 'JumatBerkah'\n",
      " 'DUDUNGDUNGU,DUDUNGTOLOL,REZIMPKISIAPSIAPHANCUR'\n",
      " 'MakzulkanJokowiPembenciIslam,MakzulkanJokowiPembenciIslam'\n",
      " 'PKITakutIslamBersatu,PKITakutIslamBersatu']\n",
      "\n",
      "Popular: PapuaIndonesia\n",
      "Top 5 recommended popular hashtags: ['PapuaIndonesia' 'PapuaIndonesia' 'PapuaIndonesia' 'PapuaIndonesia'\n",
      " 'PapuaIndonesia']\n",
      "\n",
      "Popular: MUISarangTeroris\n",
      "Top 5 recommended popular hashtags: ['MUI' 'MUIbersamaDensus' 'Jokowi' 'MUIdukungDensus88' 'MUIdukungDensus88']\n",
      "\n",
      "Popular: KamiBersamaDensus88\n",
      "Top 5 recommended popular hashtags: ['DukungTNIPolri' 'KamiBersamaDensus88' 'JagaOtsusPapua,PapuaIndonesia'\n",
      " 'JagaOtsusPapua,PapuaIndonesia' 'JagaOtsusPapua,PapuaIndonesia']\n",
      "\n",
      "Popular: dukungMUI\n",
      "Top 5 recommended popular hashtags: ['dukungMUI' 'OtakAsamUrat' 'BubarkanMUISarangTeroris' 'dukungMUI'\n",
      " 'salamwaras']\n",
      "\n",
      "Popular: MUIbersamaDensus\n",
      "Top 5 recommended popular hashtags: ['LawanTeroris' 'MUIbersamaDensus' 'MUIbersamaDensus' 'MUIbersamaDensus'\n",
      " 'MUIbersamaDensus']\n",
      "\n",
      "Popular: PDIPPengkhianatPancasila\n",
      "Top 5 recommended popular hashtags: ['PDIPPengkhianatPancasila'\n",
      " 'PDIPPengkhianatPancasila,PDIPPengkhianatPancasila' 'DukungMUI,DukungMUI'\n",
      " 'dukungMUI,kamibersamaMUI' 'tetapdukungMUI']\n",
      "\n",
      "Popular: BaharBinSmith\n",
      "Top 5 recommended popular hashtags: ['BaharBinSmith' 'BaharBinSmith' 'BaharBinSmith' 'BaharBinSmith'\n",
      " 'BaharBinSmith']\n",
      "\n",
      "Popular: PolriCepatResponsifn\n"
     ]
    },
    {
     "ename": "IndexError",
     "evalue": "index 0 is out of bounds for axis 0 with size 0",
     "output_type": "error",
     "traceback": [
      "\u001b[1;31m---------------------------------------------------------------------------\u001b[0m",
      "\u001b[1;31mIndexError\u001b[0m                                Traceback (most recent call last)",
      "\u001b[1;32m<ipython-input-28-2ecc6d4cf78d>\u001b[0m in \u001b[0;36m<module>\u001b[1;34m\u001b[0m\n\u001b[0;32m      1\u001b[0m \u001b[1;32mfor\u001b[0m \u001b[0mpopular\u001b[0m \u001b[1;32min\u001b[0m \u001b[0mpopular_radicalism\u001b[0m\u001b[1;33m:\u001b[0m\u001b[1;33m\u001b[0m\u001b[1;33m\u001b[0m\u001b[0m\n\u001b[0;32m      2\u001b[0m     \u001b[0mprint\u001b[0m\u001b[1;33m(\u001b[0m\u001b[1;34m'Popular:'\u001b[0m\u001b[1;33m,\u001b[0m \u001b[0mpopular\u001b[0m\u001b[1;33m)\u001b[0m\u001b[1;33m\u001b[0m\u001b[1;33m\u001b[0m\u001b[0m\n\u001b[1;32m----> 3\u001b[1;33m     print('Top 5 recommended popular hashtags:', radicalism_recommender(radicalism_title=popular,\n\u001b[0m\u001b[0;32m      4\u001b[0m                                                                         \u001b[0mradicalism\u001b[0m\u001b[1;33m=\u001b[0m\u001b[0mradicalism_list\u001b[0m\u001b[1;33m,\u001b[0m\u001b[1;33m\u001b[0m\u001b[1;33m\u001b[0m\u001b[0m\n\u001b[0;32m      5\u001b[0m                                                                         doc_sims=doc_sim_df))\n",
      "\u001b[1;32m<ipython-input-21-e51faff20363>\u001b[0m in \u001b[0;36mradicalism_recommender\u001b[1;34m(radicalism_title, radicalism, doc_sims)\u001b[0m\n\u001b[0;32m      1\u001b[0m \u001b[1;32mdef\u001b[0m \u001b[0mradicalism_recommender\u001b[0m\u001b[1;33m(\u001b[0m\u001b[0mradicalism_title\u001b[0m\u001b[1;33m,\u001b[0m \u001b[0mradicalism\u001b[0m\u001b[1;33m=\u001b[0m\u001b[0mradicalism_list\u001b[0m\u001b[1;33m,\u001b[0m \u001b[0mdoc_sims\u001b[0m\u001b[1;33m=\u001b[0m\u001b[0mdoc_sim_df\u001b[0m\u001b[1;33m)\u001b[0m\u001b[1;33m:\u001b[0m\u001b[1;33m\u001b[0m\u001b[1;33m\u001b[0m\u001b[0m\n\u001b[0;32m      2\u001b[0m     \u001b[1;31m# find movie id\u001b[0m\u001b[1;33m\u001b[0m\u001b[1;33m\u001b[0m\u001b[1;33m\u001b[0m\u001b[0m\n\u001b[1;32m----> 3\u001b[1;33m     \u001b[0mradicalism_idx\u001b[0m \u001b[1;33m=\u001b[0m \u001b[0mnp\u001b[0m\u001b[1;33m.\u001b[0m\u001b[0mwhere\u001b[0m\u001b[1;33m(\u001b[0m\u001b[0mradicalism\u001b[0m \u001b[1;33m==\u001b[0m \u001b[0mradicalism_title\u001b[0m\u001b[1;33m)\u001b[0m\u001b[1;33m[\u001b[0m\u001b[1;36m0\u001b[0m\u001b[1;33m]\u001b[0m\u001b[1;33m[\u001b[0m\u001b[1;36m0\u001b[0m\u001b[1;33m]\u001b[0m\u001b[1;33m\u001b[0m\u001b[1;33m\u001b[0m\u001b[0m\n\u001b[0m\u001b[0;32m      4\u001b[0m     \u001b[1;31m# get movie similarities\u001b[0m\u001b[1;33m\u001b[0m\u001b[1;33m\u001b[0m\u001b[1;33m\u001b[0m\u001b[0m\n\u001b[0;32m      5\u001b[0m     \u001b[0mradicalism_similarities\u001b[0m \u001b[1;33m=\u001b[0m \u001b[0mdoc_sims\u001b[0m\u001b[1;33m.\u001b[0m\u001b[0miloc\u001b[0m\u001b[1;33m[\u001b[0m\u001b[0mradicalism_idx\u001b[0m\u001b[1;33m]\u001b[0m\u001b[1;33m.\u001b[0m\u001b[0mvalues\u001b[0m\u001b[1;33m\u001b[0m\u001b[1;33m\u001b[0m\u001b[0m\n",
      "\u001b[1;31mIndexError\u001b[0m: index 0 is out of bounds for axis 0 with size 0"
     ]
    }
   ],
   "source": [
    "for popular in popular_radicalism:\n",
    "    print('Popular:', popular)\n",
    "    print('Top 5 recommended popular hashtags:', radicalism_recommender(radicalism_title=popular,\n",
    "                                                                        radicalism=radicalism_list,\n",
    "                                                                        doc_sims=doc_sim_df))\n",
    "    print()"
   ]
  },
  {
   "cell_type": "code",
   "execution_count": 30,
   "id": "85768c30-376b-447d-b1cd-24619aba2b65",
   "metadata": {},
   "outputs": [],
   "source": [
    "import tensorflow.compat.v1 as tf"
   ]
  },
  {
   "cell_type": "markdown",
   "id": "8bec4f6e-31ce-4f2e-baef-ba161d9c76eb",
   "metadata": {},
   "source": [
    "<h2>Here we will be leveraging the pre-trained ELMo model as a feature extractor and extract document level 1024-sized embeddings</h2>"
   ]
  },
  {
   "cell_type": "code",
   "execution_count": 34,
   "id": "0b7eb242-edb9-4cec-b1d0-6c9e97000786",
   "metadata": {},
   "outputs": [],
   "source": [
    "elmo = hub.Module(\"https://tfhub.dev/google/elmo/2\", trainable=False)"
   ]
  },
  {
   "cell_type": "code",
   "execution_count": 35,
   "id": "221ad1ce-2534-42c7-9e9d-03fbc1b9883d",
   "metadata": {},
   "outputs": [
    {
     "data": {
      "text/plain": [
       "'Kalau dia niat dirinya mau jadi teroris, pastinya lebih aman bersembunyi. Ngebom tiap hari. Nembaki aparat dari kegelapan. Ngapain teroris rekaman di youtube tiap hari? Repot-repot jadi pengurus MUI segala. Bantu dana teroris? Emang seberani itu? pakai akal! #dukungMUI dukungMUI'"
      ]
     },
     "execution_count": 35,
     "metadata": {},
     "output_type": "execute_result"
    }
   ],
   "source": [
    "sample_desc = df.iloc[0]['text']\n",
    "sample_desc"
   ]
  },
  {
   "cell_type": "code",
   "execution_count": 38,
   "id": "00e44bb9-b9f5-4de1-871d-36fad3b05ae3",
   "metadata": {},
   "outputs": [
    {
     "name": "stdout",
     "output_type": "stream",
     "text": [
      "INFO:tensorflow:Saver not created because there are no variables in the graph to restore\n"
     ]
    },
    {
     "name": "stderr",
     "output_type": "stream",
     "text": [
      "INFO:tensorflow:Saver not created because there are no variables in the graph to restore\n"
     ]
    },
    {
     "data": {
      "text/plain": [
       "TensorShape([1, 40, 1024])"
      ]
     },
     "execution_count": 38,
     "metadata": {},
     "output_type": "execute_result"
    }
   ],
   "source": [
    "embeddings = elmo([sample_desc], signature=\"default\", as_dict=True)[\"elmo\"]\n",
    "embeddings.shape"
   ]
  },
  {
   "cell_type": "code",
   "execution_count": 57,
   "id": "471c9e36-b5ca-4978-9555-18ee08e214e8",
   "metadata": {},
   "outputs": [
    {
     "data": {
      "text/plain": [
       "(2, 40, 1024)"
      ]
     },
     "execution_count": 57,
     "metadata": {},
     "output_type": "execute_result"
    }
   ],
   "source": [
    "with tf.Session() as session:\n",
    "    session.run([tf.global_variables_initializer(), tf.tables_initializer()])\n",
    "    message_embeddings = session.run(embeddings)\n",
    "    \n",
    "message_embeddings.shape"
   ]
  },
  {
   "cell_type": "code",
   "execution_count": 59,
   "id": "0fdad13f-879e-4977-9ba3-891c05ddf1a2",
   "metadata": {},
   "outputs": [
    {
     "name": "stdout",
     "output_type": "stream",
     "text": [
      "INFO:tensorflow:Saver not created because there are no variables in the graph to restore\n"
     ]
    },
    {
     "name": "stderr",
     "output_type": "stream",
     "text": [
      "INFO:tensorflow:Saver not created because there are no variables in the graph to restore\n"
     ]
    },
    {
     "name": "stdout",
     "output_type": "stream",
     "text": [
      "INFO:tensorflow:Graph was finalized.\n"
     ]
    },
    {
     "name": "stderr",
     "output_type": "stream",
     "text": [
      "INFO:tensorflow:Graph was finalized.\n"
     ]
    },
    {
     "name": "stdout",
     "output_type": "stream",
     "text": [
      "INFO:tensorflow:Running local_init_op.\n"
     ]
    },
    {
     "name": "stderr",
     "output_type": "stream",
     "text": [
      "INFO:tensorflow:Running local_init_op.\n"
     ]
    },
    {
     "name": "stdout",
     "output_type": "stream",
     "text": [
      "INFO:tensorflow:Done running local_init_op.\n"
     ]
    },
    {
     "name": "stderr",
     "output_type": "stream",
     "text": [
      "INFO:tensorflow:Done running local_init_op.\n"
     ]
    }
   ],
   "source": [
    "def embed_elmo2(module):\n",
    "    with tf.Graph().as_default():\n",
    "        sentences = tf.placeholder(tf.string)\n",
    "        embed = hub.Module(module)\n",
    "        embeddings = embed(sentences)\n",
    "        session = tf.train.MonitoredSession()\n",
    "    return lambda x: session.run(embeddings, {sentences: x})\n",
    "\n",
    "embed_fn = embed_elmo2('https://tfhub.dev/google/elmo/2')"
   ]
  },
  {
   "cell_type": "code",
   "execution_count": 61,
   "id": "bb801e54-94d9-4cdf-b60e-c6489a60ac32",
   "metadata": {},
   "outputs": [
    {
     "data": {
      "text/plain": [
       "(1, 1024)"
      ]
     },
     "execution_count": 61,
     "metadata": {},
     "output_type": "execute_result"
    }
   ],
   "source": [
    "embed_fn([\"dukung MUI\"]).shape"
   ]
  },
  {
   "cell_type": "code",
   "execution_count": 62,
   "id": "cfb13448-3734-4062-a7be-cdba8932b179",
   "metadata": {},
   "outputs": [
    {
     "name": "stdout",
     "output_type": "stream",
     "text": [
      "INFO:tensorflow:Saver not created because there are no variables in the graph to restore\n"
     ]
    },
    {
     "name": "stderr",
     "output_type": "stream",
     "text": [
      "INFO:tensorflow:Saver not created because there are no variables in the graph to restore\n"
     ]
    }
   ],
   "source": [
    "with tf.Session() as sess:\n",
    "    embeddings = elmo([sample_desc, 'hkekerasa'], signature=\"default\", as_dict=True)[\"elmo\"]\n",
    "    sess.run(tf.global_variables_initializer())\n",
    "    sess.run(tf.tables_initializer())\n",
    "    a = (sess.run(tf.reduce_mean(embeddings,1)))"
   ]
  },
  {
   "cell_type": "code",
   "execution_count": 63,
   "id": "601d6c18-b390-4f03-8b5e-486612906a09",
   "metadata": {},
   "outputs": [],
   "source": [
    "def get_elmo_embeddings(docs, batch_size=32):\n",
    "  elmo_embeddings = []\n",
    "  i = 0\n",
    "  total_docs = len(docs)\n",
    "  with tf.Session() as sess:\n",
    "    sess.run(tf.global_variables_initializer())\n",
    "    sess.run(tf.tables_initializer())\n",
    "    while i < total_docs:\n",
    "      i_new = i + batch_size\n",
    "      if i_new < len(docs):\n",
    "        embeddings = elmo(docs[i:i_new], signature=\"default\", as_dict=True)[\"elmo\"]\n",
    "      else:\n",
    "        embeddings = elmo(docs[i:], signature=\"default\", as_dict=True)[\"elmo\"]\n",
    "      i = i_new\n",
    "      elmo_embeddings.append(sess.run(tf.reduce_mean(embeddings,1)))\n",
    "    return np.concatenate(elmo_embeddings, axis=0)"
   ]
  },
  {
   "cell_type": "code",
   "execution_count": 65,
   "id": "948769a3-f3bd-4857-af79-8bbf79fb7fa7",
   "metadata": {},
   "outputs": [
    {
     "name": "stdout",
     "output_type": "stream",
     "text": [
      "INFO:tensorflow:Saver not created because there are no variables in the graph to restore\n"
     ]
    },
    {
     "name": "stderr",
     "output_type": "stream",
     "text": [
      "INFO:tensorflow:Saver not created because there are no variables in the graph to restore\n"
     ]
    },
    {
     "name": "stdout",
     "output_type": "stream",
     "text": [
      "INFO:tensorflow:Saver not created because there are no variables in the graph to restore\n"
     ]
    },
    {
     "name": "stderr",
     "output_type": "stream",
     "text": [
      "INFO:tensorflow:Saver not created because there are no variables in the graph to restore\n"
     ]
    },
    {
     "name": "stdout",
     "output_type": "stream",
     "text": [
      "INFO:tensorflow:Saver not created because there are no variables in the graph to restore\n"
     ]
    },
    {
     "name": "stderr",
     "output_type": "stream",
     "text": [
      "INFO:tensorflow:Saver not created because there are no variables in the graph to restore\n"
     ]
    },
    {
     "name": "stdout",
     "output_type": "stream",
     "text": [
      "INFO:tensorflow:Saver not created because there are no variables in the graph to restore\n"
     ]
    },
    {
     "name": "stderr",
     "output_type": "stream",
     "text": [
      "INFO:tensorflow:Saver not created because there are no variables in the graph to restore\n"
     ]
    },
    {
     "name": "stdout",
     "output_type": "stream",
     "text": [
      "INFO:tensorflow:Saver not created because there are no variables in the graph to restore\n"
     ]
    },
    {
     "name": "stderr",
     "output_type": "stream",
     "text": [
      "INFO:tensorflow:Saver not created because there are no variables in the graph to restore\n"
     ]
    },
    {
     "name": "stdout",
     "output_type": "stream",
     "text": [
      "INFO:tensorflow:Saver not created because there are no variables in the graph to restore\n"
     ]
    },
    {
     "name": "stderr",
     "output_type": "stream",
     "text": [
      "INFO:tensorflow:Saver not created because there are no variables in the graph to restore\n"
     ]
    },
    {
     "name": "stdout",
     "output_type": "stream",
     "text": [
      "INFO:tensorflow:Saver not created because there are no variables in the graph to restore\n"
     ]
    },
    {
     "name": "stderr",
     "output_type": "stream",
     "text": [
      "INFO:tensorflow:Saver not created because there are no variables in the graph to restore\n"
     ]
    },
    {
     "name": "stdout",
     "output_type": "stream",
     "text": [
      "INFO:tensorflow:Saver not created because there are no variables in the graph to restore\n"
     ]
    },
    {
     "name": "stderr",
     "output_type": "stream",
     "text": [
      "INFO:tensorflow:Saver not created because there are no variables in the graph to restore\n"
     ]
    },
    {
     "name": "stdout",
     "output_type": "stream",
     "text": [
      "INFO:tensorflow:Saver not created because there are no variables in the graph to restore\n"
     ]
    },
    {
     "name": "stderr",
     "output_type": "stream",
     "text": [
      "INFO:tensorflow:Saver not created because there are no variables in the graph to restore\n"
     ]
    },
    {
     "name": "stdout",
     "output_type": "stream",
     "text": [
      "INFO:tensorflow:Saver not created because there are no variables in the graph to restore\n"
     ]
    },
    {
     "name": "stderr",
     "output_type": "stream",
     "text": [
      "INFO:tensorflow:Saver not created because there are no variables in the graph to restore\n"
     ]
    },
    {
     "name": "stdout",
     "output_type": "stream",
     "text": [
      "INFO:tensorflow:Saver not created because there are no variables in the graph to restore\n"
     ]
    },
    {
     "name": "stderr",
     "output_type": "stream",
     "text": [
      "INFO:tensorflow:Saver not created because there are no variables in the graph to restore\n"
     ]
    },
    {
     "name": "stdout",
     "output_type": "stream",
     "text": [
      "INFO:tensorflow:Saver not created because there are no variables in the graph to restore\n"
     ]
    },
    {
     "name": "stderr",
     "output_type": "stream",
     "text": [
      "INFO:tensorflow:Saver not created because there are no variables in the graph to restore\n"
     ]
    },
    {
     "name": "stdout",
     "output_type": "stream",
     "text": [
      "INFO:tensorflow:Saver not created because there are no variables in the graph to restore\n"
     ]
    },
    {
     "name": "stderr",
     "output_type": "stream",
     "text": [
      "INFO:tensorflow:Saver not created because there are no variables in the graph to restore\n"
     ]
    },
    {
     "name": "stdout",
     "output_type": "stream",
     "text": [
      "INFO:tensorflow:Saver not created because there are no variables in the graph to restore\n"
     ]
    },
    {
     "name": "stderr",
     "output_type": "stream",
     "text": [
      "INFO:tensorflow:Saver not created because there are no variables in the graph to restore\n"
     ]
    },
    {
     "name": "stdout",
     "output_type": "stream",
     "text": [
      "INFO:tensorflow:Saver not created because there are no variables in the graph to restore\n"
     ]
    },
    {
     "name": "stderr",
     "output_type": "stream",
     "text": [
      "INFO:tensorflow:Saver not created because there are no variables in the graph to restore\n"
     ]
    },
    {
     "name": "stdout",
     "output_type": "stream",
     "text": [
      "INFO:tensorflow:Saver not created because there are no variables in the graph to restore\n"
     ]
    },
    {
     "name": "stderr",
     "output_type": "stream",
     "text": [
      "INFO:tensorflow:Saver not created because there are no variables in the graph to restore\n"
     ]
    },
    {
     "name": "stdout",
     "output_type": "stream",
     "text": [
      "INFO:tensorflow:Saver not created because there are no variables in the graph to restore\n"
     ]
    },
    {
     "name": "stderr",
     "output_type": "stream",
     "text": [
      "INFO:tensorflow:Saver not created because there are no variables in the graph to restore\n"
     ]
    },
    {
     "name": "stdout",
     "output_type": "stream",
     "text": [
      "INFO:tensorflow:Saver not created because there are no variables in the graph to restore\n"
     ]
    },
    {
     "name": "stderr",
     "output_type": "stream",
     "text": [
      "INFO:tensorflow:Saver not created because there are no variables in the graph to restore\n"
     ]
    },
    {
     "name": "stdout",
     "output_type": "stream",
     "text": [
      "INFO:tensorflow:Saver not created because there are no variables in the graph to restore\n"
     ]
    },
    {
     "name": "stderr",
     "output_type": "stream",
     "text": [
      "INFO:tensorflow:Saver not created because there are no variables in the graph to restore\n"
     ]
    },
    {
     "name": "stdout",
     "output_type": "stream",
     "text": [
      "INFO:tensorflow:Saver not created because there are no variables in the graph to restore\n"
     ]
    },
    {
     "name": "stderr",
     "output_type": "stream",
     "text": [
      "INFO:tensorflow:Saver not created because there are no variables in the graph to restore\n"
     ]
    },
    {
     "name": "stdout",
     "output_type": "stream",
     "text": [
      "INFO:tensorflow:Saver not created because there are no variables in the graph to restore\n"
     ]
    },
    {
     "name": "stderr",
     "output_type": "stream",
     "text": [
      "INFO:tensorflow:Saver not created because there are no variables in the graph to restore\n"
     ]
    },
    {
     "name": "stdout",
     "output_type": "stream",
     "text": [
      "INFO:tensorflow:Saver not created because there are no variables in the graph to restore\n"
     ]
    },
    {
     "name": "stderr",
     "output_type": "stream",
     "text": [
      "INFO:tensorflow:Saver not created because there are no variables in the graph to restore\n"
     ]
    },
    {
     "name": "stdout",
     "output_type": "stream",
     "text": [
      "INFO:tensorflow:Saver not created because there are no variables in the graph to restore\n"
     ]
    },
    {
     "name": "stderr",
     "output_type": "stream",
     "text": [
      "INFO:tensorflow:Saver not created because there are no variables in the graph to restore\n"
     ]
    },
    {
     "name": "stdout",
     "output_type": "stream",
     "text": [
      "INFO:tensorflow:Saver not created because there are no variables in the graph to restore\n"
     ]
    },
    {
     "name": "stderr",
     "output_type": "stream",
     "text": [
      "INFO:tensorflow:Saver not created because there are no variables in the graph to restore\n"
     ]
    },
    {
     "name": "stdout",
     "output_type": "stream",
     "text": [
      "INFO:tensorflow:Saver not created because there are no variables in the graph to restore\n"
     ]
    },
    {
     "name": "stderr",
     "output_type": "stream",
     "text": [
      "INFO:tensorflow:Saver not created because there are no variables in the graph to restore\n"
     ]
    },
    {
     "name": "stdout",
     "output_type": "stream",
     "text": [
      "INFO:tensorflow:Saver not created because there are no variables in the graph to restore\n"
     ]
    },
    {
     "name": "stderr",
     "output_type": "stream",
     "text": [
      "INFO:tensorflow:Saver not created because there are no variables in the graph to restore\n"
     ]
    },
    {
     "name": "stdout",
     "output_type": "stream",
     "text": [
      "INFO:tensorflow:Saver not created because there are no variables in the graph to restore\n"
     ]
    },
    {
     "name": "stderr",
     "output_type": "stream",
     "text": [
      "INFO:tensorflow:Saver not created because there are no variables in the graph to restore\n"
     ]
    },
    {
     "name": "stdout",
     "output_type": "stream",
     "text": [
      "INFO:tensorflow:Saver not created because there are no variables in the graph to restore\n"
     ]
    },
    {
     "name": "stderr",
     "output_type": "stream",
     "text": [
      "INFO:tensorflow:Saver not created because there are no variables in the graph to restore\n"
     ]
    },
    {
     "name": "stdout",
     "output_type": "stream",
     "text": [
      "INFO:tensorflow:Saver not created because there are no variables in the graph to restore\n"
     ]
    },
    {
     "name": "stderr",
     "output_type": "stream",
     "text": [
      "INFO:tensorflow:Saver not created because there are no variables in the graph to restore\n"
     ]
    },
    {
     "name": "stdout",
     "output_type": "stream",
     "text": [
      "INFO:tensorflow:Saver not created because there are no variables in the graph to restore\n"
     ]
    },
    {
     "name": "stderr",
     "output_type": "stream",
     "text": [
      "INFO:tensorflow:Saver not created because there are no variables in the graph to restore\n"
     ]
    },
    {
     "name": "stdout",
     "output_type": "stream",
     "text": [
      "INFO:tensorflow:Saver not created because there are no variables in the graph to restore\n"
     ]
    },
    {
     "name": "stderr",
     "output_type": "stream",
     "text": [
      "INFO:tensorflow:Saver not created because there are no variables in the graph to restore\n"
     ]
    },
    {
     "name": "stdout",
     "output_type": "stream",
     "text": [
      "INFO:tensorflow:Saver not created because there are no variables in the graph to restore\n"
     ]
    },
    {
     "name": "stderr",
     "output_type": "stream",
     "text": [
      "INFO:tensorflow:Saver not created because there are no variables in the graph to restore\n"
     ]
    },
    {
     "name": "stdout",
     "output_type": "stream",
     "text": [
      "INFO:tensorflow:Saver not created because there are no variables in the graph to restore\n"
     ]
    },
    {
     "name": "stderr",
     "output_type": "stream",
     "text": [
      "INFO:tensorflow:Saver not created because there are no variables in the graph to restore\n"
     ]
    },
    {
     "name": "stdout",
     "output_type": "stream",
     "text": [
      "INFO:tensorflow:Saver not created because there are no variables in the graph to restore\n"
     ]
    },
    {
     "name": "stderr",
     "output_type": "stream",
     "text": [
      "INFO:tensorflow:Saver not created because there are no variables in the graph to restore\n"
     ]
    },
    {
     "name": "stdout",
     "output_type": "stream",
     "text": [
      "INFO:tensorflow:Saver not created because there are no variables in the graph to restore\n"
     ]
    },
    {
     "name": "stderr",
     "output_type": "stream",
     "text": [
      "INFO:tensorflow:Saver not created because there are no variables in the graph to restore\n"
     ]
    },
    {
     "name": "stdout",
     "output_type": "stream",
     "text": [
      "INFO:tensorflow:Saver not created because there are no variables in the graph to restore\n"
     ]
    },
    {
     "name": "stderr",
     "output_type": "stream",
     "text": [
      "INFO:tensorflow:Saver not created because there are no variables in the graph to restore\n"
     ]
    },
    {
     "name": "stdout",
     "output_type": "stream",
     "text": [
      "INFO:tensorflow:Saver not created because there are no variables in the graph to restore\n"
     ]
    },
    {
     "name": "stderr",
     "output_type": "stream",
     "text": [
      "INFO:tensorflow:Saver not created because there are no variables in the graph to restore\n"
     ]
    },
    {
     "name": "stdout",
     "output_type": "stream",
     "text": [
      "INFO:tensorflow:Saver not created because there are no variables in the graph to restore\n"
     ]
    },
    {
     "name": "stderr",
     "output_type": "stream",
     "text": [
      "INFO:tensorflow:Saver not created because there are no variables in the graph to restore\n"
     ]
    },
    {
     "name": "stdout",
     "output_type": "stream",
     "text": [
      "INFO:tensorflow:Saver not created because there are no variables in the graph to restore\n"
     ]
    },
    {
     "name": "stderr",
     "output_type": "stream",
     "text": [
      "INFO:tensorflow:Saver not created because there are no variables in the graph to restore\n"
     ]
    },
    {
     "name": "stdout",
     "output_type": "stream",
     "text": [
      "INFO:tensorflow:Saver not created because there are no variables in the graph to restore\n"
     ]
    },
    {
     "name": "stderr",
     "output_type": "stream",
     "text": [
      "INFO:tensorflow:Saver not created because there are no variables in the graph to restore\n"
     ]
    },
    {
     "name": "stdout",
     "output_type": "stream",
     "text": [
      "INFO:tensorflow:Saver not created because there are no variables in the graph to restore\n"
     ]
    },
    {
     "name": "stderr",
     "output_type": "stream",
     "text": [
      "INFO:tensorflow:Saver not created because there are no variables in the graph to restore\n"
     ]
    },
    {
     "name": "stdout",
     "output_type": "stream",
     "text": [
      "INFO:tensorflow:Saver not created because there are no variables in the graph to restore\n"
     ]
    },
    {
     "name": "stderr",
     "output_type": "stream",
     "text": [
      "INFO:tensorflow:Saver not created because there are no variables in the graph to restore\n"
     ]
    },
    {
     "name": "stdout",
     "output_type": "stream",
     "text": [
      "INFO:tensorflow:Saver not created because there are no variables in the graph to restore\n"
     ]
    },
    {
     "name": "stderr",
     "output_type": "stream",
     "text": [
      "INFO:tensorflow:Saver not created because there are no variables in the graph to restore\n"
     ]
    },
    {
     "name": "stdout",
     "output_type": "stream",
     "text": [
      "INFO:tensorflow:Saver not created because there are no variables in the graph to restore\n"
     ]
    },
    {
     "name": "stderr",
     "output_type": "stream",
     "text": [
      "INFO:tensorflow:Saver not created because there are no variables in the graph to restore\n"
     ]
    },
    {
     "name": "stdout",
     "output_type": "stream",
     "text": [
      "INFO:tensorflow:Saver not created because there are no variables in the graph to restore\n"
     ]
    },
    {
     "name": "stderr",
     "output_type": "stream",
     "text": [
      "INFO:tensorflow:Saver not created because there are no variables in the graph to restore\n"
     ]
    },
    {
     "name": "stdout",
     "output_type": "stream",
     "text": [
      "INFO:tensorflow:Saver not created because there are no variables in the graph to restore\n"
     ]
    },
    {
     "name": "stderr",
     "output_type": "stream",
     "text": [
      "INFO:tensorflow:Saver not created because there are no variables in the graph to restore\n"
     ]
    },
    {
     "name": "stdout",
     "output_type": "stream",
     "text": [
      "INFO:tensorflow:Saver not created because there are no variables in the graph to restore\n"
     ]
    },
    {
     "name": "stderr",
     "output_type": "stream",
     "text": [
      "INFO:tensorflow:Saver not created because there are no variables in the graph to restore\n"
     ]
    },
    {
     "name": "stdout",
     "output_type": "stream",
     "text": [
      "INFO:tensorflow:Saver not created because there are no variables in the graph to restore\n"
     ]
    },
    {
     "name": "stderr",
     "output_type": "stream",
     "text": [
      "INFO:tensorflow:Saver not created because there are no variables in the graph to restore\n"
     ]
    },
    {
     "name": "stdout",
     "output_type": "stream",
     "text": [
      "INFO:tensorflow:Saver not created because there are no variables in the graph to restore\n"
     ]
    },
    {
     "name": "stderr",
     "output_type": "stream",
     "text": [
      "INFO:tensorflow:Saver not created because there are no variables in the graph to restore\n"
     ]
    },
    {
     "name": "stdout",
     "output_type": "stream",
     "text": [
      "INFO:tensorflow:Saver not created because there are no variables in the graph to restore\n"
     ]
    },
    {
     "name": "stderr",
     "output_type": "stream",
     "text": [
      "INFO:tensorflow:Saver not created because there are no variables in the graph to restore\n"
     ]
    },
    {
     "name": "stdout",
     "output_type": "stream",
     "text": [
      "INFO:tensorflow:Saver not created because there are no variables in the graph to restore\n"
     ]
    },
    {
     "name": "stderr",
     "output_type": "stream",
     "text": [
      "INFO:tensorflow:Saver not created because there are no variables in the graph to restore\n"
     ]
    },
    {
     "name": "stdout",
     "output_type": "stream",
     "text": [
      "INFO:tensorflow:Saver not created because there are no variables in the graph to restore\n"
     ]
    },
    {
     "name": "stderr",
     "output_type": "stream",
     "text": [
      "INFO:tensorflow:Saver not created because there are no variables in the graph to restore\n"
     ]
    },
    {
     "name": "stdout",
     "output_type": "stream",
     "text": [
      "INFO:tensorflow:Saver not created because there are no variables in the graph to restore\n"
     ]
    },
    {
     "name": "stderr",
     "output_type": "stream",
     "text": [
      "INFO:tensorflow:Saver not created because there are no variables in the graph to restore\n"
     ]
    },
    {
     "name": "stdout",
     "output_type": "stream",
     "text": [
      "INFO:tensorflow:Saver not created because there are no variables in the graph to restore\n"
     ]
    },
    {
     "name": "stderr",
     "output_type": "stream",
     "text": [
      "INFO:tensorflow:Saver not created because there are no variables in the graph to restore\n"
     ]
    },
    {
     "name": "stdout",
     "output_type": "stream",
     "text": [
      "INFO:tensorflow:Saver not created because there are no variables in the graph to restore\n"
     ]
    },
    {
     "name": "stderr",
     "output_type": "stream",
     "text": [
      "INFO:tensorflow:Saver not created because there are no variables in the graph to restore\n"
     ]
    },
    {
     "name": "stdout",
     "output_type": "stream",
     "text": [
      "INFO:tensorflow:Saver not created because there are no variables in the graph to restore\n"
     ]
    },
    {
     "name": "stderr",
     "output_type": "stream",
     "text": [
      "INFO:tensorflow:Saver not created because there are no variables in the graph to restore\n"
     ]
    },
    {
     "name": "stdout",
     "output_type": "stream",
     "text": [
      "INFO:tensorflow:Saver not created because there are no variables in the graph to restore\n"
     ]
    },
    {
     "name": "stderr",
     "output_type": "stream",
     "text": [
      "INFO:tensorflow:Saver not created because there are no variables in the graph to restore\n"
     ]
    },
    {
     "name": "stdout",
     "output_type": "stream",
     "text": [
      "INFO:tensorflow:Saver not created because there are no variables in the graph to restore\n"
     ]
    },
    {
     "name": "stderr",
     "output_type": "stream",
     "text": [
      "INFO:tensorflow:Saver not created because there are no variables in the graph to restore\n"
     ]
    },
    {
     "name": "stdout",
     "output_type": "stream",
     "text": [
      "INFO:tensorflow:Saver not created because there are no variables in the graph to restore\n"
     ]
    },
    {
     "name": "stderr",
     "output_type": "stream",
     "text": [
      "INFO:tensorflow:Saver not created because there are no variables in the graph to restore\n"
     ]
    },
    {
     "name": "stdout",
     "output_type": "stream",
     "text": [
      "INFO:tensorflow:Saver not created because there are no variables in the graph to restore\n"
     ]
    },
    {
     "name": "stderr",
     "output_type": "stream",
     "text": [
      "INFO:tensorflow:Saver not created because there are no variables in the graph to restore\n"
     ]
    },
    {
     "name": "stdout",
     "output_type": "stream",
     "text": [
      "INFO:tensorflow:Saver not created because there are no variables in the graph to restore\n"
     ]
    },
    {
     "name": "stderr",
     "output_type": "stream",
     "text": [
      "INFO:tensorflow:Saver not created because there are no variables in the graph to restore\n"
     ]
    },
    {
     "name": "stdout",
     "output_type": "stream",
     "text": [
      "INFO:tensorflow:Saver not created because there are no variables in the graph to restore\n"
     ]
    },
    {
     "name": "stderr",
     "output_type": "stream",
     "text": [
      "INFO:tensorflow:Saver not created because there are no variables in the graph to restore\n"
     ]
    },
    {
     "name": "stdout",
     "output_type": "stream",
     "text": [
      "INFO:tensorflow:Saver not created because there are no variables in the graph to restore\n"
     ]
    },
    {
     "name": "stderr",
     "output_type": "stream",
     "text": [
      "INFO:tensorflow:Saver not created because there are no variables in the graph to restore\n"
     ]
    },
    {
     "name": "stdout",
     "output_type": "stream",
     "text": [
      "INFO:tensorflow:Saver not created because there are no variables in the graph to restore\n"
     ]
    },
    {
     "name": "stderr",
     "output_type": "stream",
     "text": [
      "INFO:tensorflow:Saver not created because there are no variables in the graph to restore\n"
     ]
    },
    {
     "name": "stdout",
     "output_type": "stream",
     "text": [
      "INFO:tensorflow:Saver not created because there are no variables in the graph to restore\n"
     ]
    },
    {
     "name": "stderr",
     "output_type": "stream",
     "text": [
      "INFO:tensorflow:Saver not created because there are no variables in the graph to restore\n"
     ]
    },
    {
     "name": "stdout",
     "output_type": "stream",
     "text": [
      "INFO:tensorflow:Saver not created because there are no variables in the graph to restore\n"
     ]
    },
    {
     "name": "stderr",
     "output_type": "stream",
     "text": [
      "INFO:tensorflow:Saver not created because there are no variables in the graph to restore\n"
     ]
    },
    {
     "name": "stdout",
     "output_type": "stream",
     "text": [
      "INFO:tensorflow:Saver not created because there are no variables in the graph to restore\n"
     ]
    },
    {
     "name": "stderr",
     "output_type": "stream",
     "text": [
      "INFO:tensorflow:Saver not created because there are no variables in the graph to restore\n"
     ]
    },
    {
     "name": "stdout",
     "output_type": "stream",
     "text": [
      "INFO:tensorflow:Saver not created because there are no variables in the graph to restore\n"
     ]
    },
    {
     "name": "stderr",
     "output_type": "stream",
     "text": [
      "INFO:tensorflow:Saver not created because there are no variables in the graph to restore\n"
     ]
    },
    {
     "name": "stdout",
     "output_type": "stream",
     "text": [
      "INFO:tensorflow:Saver not created because there are no variables in the graph to restore\n"
     ]
    },
    {
     "name": "stderr",
     "output_type": "stream",
     "text": [
      "INFO:tensorflow:Saver not created because there are no variables in the graph to restore\n"
     ]
    },
    {
     "name": "stdout",
     "output_type": "stream",
     "text": [
      "INFO:tensorflow:Saver not created because there are no variables in the graph to restore\n"
     ]
    },
    {
     "name": "stderr",
     "output_type": "stream",
     "text": [
      "INFO:tensorflow:Saver not created because there are no variables in the graph to restore\n"
     ]
    },
    {
     "name": "stdout",
     "output_type": "stream",
     "text": [
      "INFO:tensorflow:Saver not created because there are no variables in the graph to restore\n"
     ]
    },
    {
     "name": "stderr",
     "output_type": "stream",
     "text": [
      "INFO:tensorflow:Saver not created because there are no variables in the graph to restore\n"
     ]
    },
    {
     "name": "stdout",
     "output_type": "stream",
     "text": [
      "INFO:tensorflow:Saver not created because there are no variables in the graph to restore\n"
     ]
    },
    {
     "name": "stderr",
     "output_type": "stream",
     "text": [
      "INFO:tensorflow:Saver not created because there are no variables in the graph to restore\n"
     ]
    },
    {
     "name": "stdout",
     "output_type": "stream",
     "text": [
      "INFO:tensorflow:Saver not created because there are no variables in the graph to restore\n"
     ]
    },
    {
     "name": "stderr",
     "output_type": "stream",
     "text": [
      "INFO:tensorflow:Saver not created because there are no variables in the graph to restore\n"
     ]
    },
    {
     "name": "stdout",
     "output_type": "stream",
     "text": [
      "INFO:tensorflow:Saver not created because there are no variables in the graph to restore\n"
     ]
    },
    {
     "name": "stderr",
     "output_type": "stream",
     "text": [
      "INFO:tensorflow:Saver not created because there are no variables in the graph to restore\n"
     ]
    },
    {
     "name": "stdout",
     "output_type": "stream",
     "text": [
      "INFO:tensorflow:Saver not created because there are no variables in the graph to restore\n"
     ]
    },
    {
     "name": "stderr",
     "output_type": "stream",
     "text": [
      "INFO:tensorflow:Saver not created because there are no variables in the graph to restore\n"
     ]
    },
    {
     "name": "stdout",
     "output_type": "stream",
     "text": [
      "INFO:tensorflow:Saver not created because there are no variables in the graph to restore\n"
     ]
    },
    {
     "name": "stderr",
     "output_type": "stream",
     "text": [
      "INFO:tensorflow:Saver not created because there are no variables in the graph to restore\n"
     ]
    },
    {
     "name": "stdout",
     "output_type": "stream",
     "text": [
      "INFO:tensorflow:Saver not created because there are no variables in the graph to restore\n"
     ]
    },
    {
     "name": "stderr",
     "output_type": "stream",
     "text": [
      "INFO:tensorflow:Saver not created because there are no variables in the graph to restore\n"
     ]
    },
    {
     "name": "stdout",
     "output_type": "stream",
     "text": [
      "INFO:tensorflow:Saver not created because there are no variables in the graph to restore\n"
     ]
    },
    {
     "name": "stderr",
     "output_type": "stream",
     "text": [
      "INFO:tensorflow:Saver not created because there are no variables in the graph to restore\n"
     ]
    },
    {
     "name": "stdout",
     "output_type": "stream",
     "text": [
      "INFO:tensorflow:Saver not created because there are no variables in the graph to restore\n"
     ]
    },
    {
     "name": "stderr",
     "output_type": "stream",
     "text": [
      "INFO:tensorflow:Saver not created because there are no variables in the graph to restore\n"
     ]
    },
    {
     "name": "stdout",
     "output_type": "stream",
     "text": [
      "INFO:tensorflow:Saver not created because there are no variables in the graph to restore\n"
     ]
    },
    {
     "name": "stderr",
     "output_type": "stream",
     "text": [
      "INFO:tensorflow:Saver not created because there are no variables in the graph to restore\n"
     ]
    },
    {
     "name": "stdout",
     "output_type": "stream",
     "text": [
      "INFO:tensorflow:Saver not created because there are no variables in the graph to restore\n"
     ]
    },
    {
     "name": "stderr",
     "output_type": "stream",
     "text": [
      "INFO:tensorflow:Saver not created because there are no variables in the graph to restore\n"
     ]
    },
    {
     "name": "stdout",
     "output_type": "stream",
     "text": [
      "INFO:tensorflow:Saver not created because there are no variables in the graph to restore\n"
     ]
    },
    {
     "name": "stderr",
     "output_type": "stream",
     "text": [
      "INFO:tensorflow:Saver not created because there are no variables in the graph to restore\n"
     ]
    },
    {
     "name": "stdout",
     "output_type": "stream",
     "text": [
      "INFO:tensorflow:Saver not created because there are no variables in the graph to restore\n"
     ]
    },
    {
     "name": "stderr",
     "output_type": "stream",
     "text": [
      "INFO:tensorflow:Saver not created because there are no variables in the graph to restore\n"
     ]
    },
    {
     "name": "stdout",
     "output_type": "stream",
     "text": [
      "INFO:tensorflow:Saver not created because there are no variables in the graph to restore\n"
     ]
    },
    {
     "name": "stderr",
     "output_type": "stream",
     "text": [
      "INFO:tensorflow:Saver not created because there are no variables in the graph to restore\n"
     ]
    },
    {
     "name": "stdout",
     "output_type": "stream",
     "text": [
      "INFO:tensorflow:Saver not created because there are no variables in the graph to restore\n"
     ]
    },
    {
     "name": "stderr",
     "output_type": "stream",
     "text": [
      "INFO:tensorflow:Saver not created because there are no variables in the graph to restore\n"
     ]
    },
    {
     "name": "stdout",
     "output_type": "stream",
     "text": [
      "INFO:tensorflow:Saver not created because there are no variables in the graph to restore\n"
     ]
    },
    {
     "name": "stderr",
     "output_type": "stream",
     "text": [
      "INFO:tensorflow:Saver not created because there are no variables in the graph to restore\n"
     ]
    },
    {
     "name": "stdout",
     "output_type": "stream",
     "text": [
      "INFO:tensorflow:Saver not created because there are no variables in the graph to restore\n"
     ]
    },
    {
     "name": "stderr",
     "output_type": "stream",
     "text": [
      "INFO:tensorflow:Saver not created because there are no variables in the graph to restore\n"
     ]
    },
    {
     "name": "stdout",
     "output_type": "stream",
     "text": [
      "INFO:tensorflow:Saver not created because there are no variables in the graph to restore\n"
     ]
    },
    {
     "name": "stderr",
     "output_type": "stream",
     "text": [
      "INFO:tensorflow:Saver not created because there are no variables in the graph to restore\n"
     ]
    },
    {
     "name": "stdout",
     "output_type": "stream",
     "text": [
      "INFO:tensorflow:Saver not created because there are no variables in the graph to restore\n"
     ]
    },
    {
     "name": "stderr",
     "output_type": "stream",
     "text": [
      "INFO:tensorflow:Saver not created because there are no variables in the graph to restore\n"
     ]
    },
    {
     "name": "stdout",
     "output_type": "stream",
     "text": [
      "INFO:tensorflow:Saver not created because there are no variables in the graph to restore\n"
     ]
    },
    {
     "name": "stderr",
     "output_type": "stream",
     "text": [
      "INFO:tensorflow:Saver not created because there are no variables in the graph to restore\n"
     ]
    },
    {
     "name": "stdout",
     "output_type": "stream",
     "text": [
      "INFO:tensorflow:Saver not created because there are no variables in the graph to restore\n"
     ]
    },
    {
     "name": "stderr",
     "output_type": "stream",
     "text": [
      "INFO:tensorflow:Saver not created because there are no variables in the graph to restore\n"
     ]
    },
    {
     "name": "stdout",
     "output_type": "stream",
     "text": [
      "INFO:tensorflow:Saver not created because there are no variables in the graph to restore\n"
     ]
    },
    {
     "name": "stderr",
     "output_type": "stream",
     "text": [
      "INFO:tensorflow:Saver not created because there are no variables in the graph to restore\n"
     ]
    },
    {
     "name": "stdout",
     "output_type": "stream",
     "text": [
      "INFO:tensorflow:Saver not created because there are no variables in the graph to restore\n"
     ]
    },
    {
     "name": "stderr",
     "output_type": "stream",
     "text": [
      "INFO:tensorflow:Saver not created because there are no variables in the graph to restore\n"
     ]
    },
    {
     "name": "stdout",
     "output_type": "stream",
     "text": [
      "INFO:tensorflow:Saver not created because there are no variables in the graph to restore\n"
     ]
    },
    {
     "name": "stderr",
     "output_type": "stream",
     "text": [
      "INFO:tensorflow:Saver not created because there are no variables in the graph to restore\n"
     ]
    },
    {
     "name": "stdout",
     "output_type": "stream",
     "text": [
      "INFO:tensorflow:Saver not created because there are no variables in the graph to restore\n"
     ]
    },
    {
     "name": "stderr",
     "output_type": "stream",
     "text": [
      "INFO:tensorflow:Saver not created because there are no variables in the graph to restore\n"
     ]
    },
    {
     "name": "stdout",
     "output_type": "stream",
     "text": [
      "INFO:tensorflow:Saver not created because there are no variables in the graph to restore\n"
     ]
    },
    {
     "name": "stderr",
     "output_type": "stream",
     "text": [
      "INFO:tensorflow:Saver not created because there are no variables in the graph to restore\n"
     ]
    },
    {
     "name": "stdout",
     "output_type": "stream",
     "text": [
      "INFO:tensorflow:Saver not created because there are no variables in the graph to restore\n"
     ]
    },
    {
     "name": "stderr",
     "output_type": "stream",
     "text": [
      "INFO:tensorflow:Saver not created because there are no variables in the graph to restore\n"
     ]
    },
    {
     "name": "stdout",
     "output_type": "stream",
     "text": [
      "INFO:tensorflow:Saver not created because there are no variables in the graph to restore\n"
     ]
    },
    {
     "name": "stderr",
     "output_type": "stream",
     "text": [
      "INFO:tensorflow:Saver not created because there are no variables in the graph to restore\n"
     ]
    },
    {
     "name": "stdout",
     "output_type": "stream",
     "text": [
      "INFO:tensorflow:Saver not created because there are no variables in the graph to restore\n"
     ]
    },
    {
     "name": "stderr",
     "output_type": "stream",
     "text": [
      "INFO:tensorflow:Saver not created because there are no variables in the graph to restore\n"
     ]
    },
    {
     "name": "stdout",
     "output_type": "stream",
     "text": [
      "INFO:tensorflow:Saver not created because there are no variables in the graph to restore\n"
     ]
    },
    {
     "name": "stderr",
     "output_type": "stream",
     "text": [
      "INFO:tensorflow:Saver not created because there are no variables in the graph to restore\n"
     ]
    },
    {
     "name": "stdout",
     "output_type": "stream",
     "text": [
      "INFO:tensorflow:Saver not created because there are no variables in the graph to restore\n"
     ]
    },
    {
     "name": "stderr",
     "output_type": "stream",
     "text": [
      "INFO:tensorflow:Saver not created because there are no variables in the graph to restore\n"
     ]
    },
    {
     "name": "stdout",
     "output_type": "stream",
     "text": [
      "INFO:tensorflow:Saver not created because there are no variables in the graph to restore\n"
     ]
    },
    {
     "name": "stderr",
     "output_type": "stream",
     "text": [
      "INFO:tensorflow:Saver not created because there are no variables in the graph to restore\n"
     ]
    },
    {
     "name": "stdout",
     "output_type": "stream",
     "text": [
      "INFO:tensorflow:Saver not created because there are no variables in the graph to restore\n"
     ]
    },
    {
     "name": "stderr",
     "output_type": "stream",
     "text": [
      "INFO:tensorflow:Saver not created because there are no variables in the graph to restore\n"
     ]
    },
    {
     "name": "stdout",
     "output_type": "stream",
     "text": [
      "INFO:tensorflow:Saver not created because there are no variables in the graph to restore\n"
     ]
    },
    {
     "name": "stderr",
     "output_type": "stream",
     "text": [
      "INFO:tensorflow:Saver not created because there are no variables in the graph to restore\n"
     ]
    },
    {
     "name": "stdout",
     "output_type": "stream",
     "text": [
      "INFO:tensorflow:Saver not created because there are no variables in the graph to restore\n"
     ]
    },
    {
     "name": "stderr",
     "output_type": "stream",
     "text": [
      "INFO:tensorflow:Saver not created because there are no variables in the graph to restore\n"
     ]
    },
    {
     "name": "stdout",
     "output_type": "stream",
     "text": [
      "INFO:tensorflow:Saver not created because there are no variables in the graph to restore\n"
     ]
    },
    {
     "name": "stderr",
     "output_type": "stream",
     "text": [
      "INFO:tensorflow:Saver not created because there are no variables in the graph to restore\n"
     ]
    },
    {
     "name": "stdout",
     "output_type": "stream",
     "text": [
      "INFO:tensorflow:Saver not created because there are no variables in the graph to restore\n"
     ]
    },
    {
     "name": "stderr",
     "output_type": "stream",
     "text": [
      "INFO:tensorflow:Saver not created because there are no variables in the graph to restore\n"
     ]
    },
    {
     "name": "stdout",
     "output_type": "stream",
     "text": [
      "INFO:tensorflow:Saver not created because there are no variables in the graph to restore\n"
     ]
    },
    {
     "name": "stderr",
     "output_type": "stream",
     "text": [
      "INFO:tensorflow:Saver not created because there are no variables in the graph to restore\n"
     ]
    },
    {
     "name": "stdout",
     "output_type": "stream",
     "text": [
      "INFO:tensorflow:Saver not created because there are no variables in the graph to restore\n"
     ]
    },
    {
     "name": "stderr",
     "output_type": "stream",
     "text": [
      "INFO:tensorflow:Saver not created because there are no variables in the graph to restore\n"
     ]
    },
    {
     "name": "stdout",
     "output_type": "stream",
     "text": [
      "INFO:tensorflow:Saver not created because there are no variables in the graph to restore\n"
     ]
    },
    {
     "name": "stderr",
     "output_type": "stream",
     "text": [
      "INFO:tensorflow:Saver not created because there are no variables in the graph to restore\n"
     ]
    },
    {
     "name": "stdout",
     "output_type": "stream",
     "text": [
      "INFO:tensorflow:Saver not created because there are no variables in the graph to restore\n"
     ]
    },
    {
     "name": "stderr",
     "output_type": "stream",
     "text": [
      "INFO:tensorflow:Saver not created because there are no variables in the graph to restore\n"
     ]
    },
    {
     "name": "stdout",
     "output_type": "stream",
     "text": [
      "INFO:tensorflow:Saver not created because there are no variables in the graph to restore\n"
     ]
    },
    {
     "name": "stderr",
     "output_type": "stream",
     "text": [
      "INFO:tensorflow:Saver not created because there are no variables in the graph to restore\n"
     ]
    },
    {
     "name": "stdout",
     "output_type": "stream",
     "text": [
      "INFO:tensorflow:Saver not created because there are no variables in the graph to restore\n"
     ]
    },
    {
     "name": "stderr",
     "output_type": "stream",
     "text": [
      "INFO:tensorflow:Saver not created because there are no variables in the graph to restore\n"
     ]
    },
    {
     "name": "stdout",
     "output_type": "stream",
     "text": [
      "INFO:tensorflow:Saver not created because there are no variables in the graph to restore\n"
     ]
    },
    {
     "name": "stderr",
     "output_type": "stream",
     "text": [
      "INFO:tensorflow:Saver not created because there are no variables in the graph to restore\n"
     ]
    },
    {
     "name": "stdout",
     "output_type": "stream",
     "text": [
      "INFO:tensorflow:Saver not created because there are no variables in the graph to restore\n"
     ]
    },
    {
     "name": "stderr",
     "output_type": "stream",
     "text": [
      "INFO:tensorflow:Saver not created because there are no variables in the graph to restore\n"
     ]
    },
    {
     "name": "stdout",
     "output_type": "stream",
     "text": [
      "INFO:tensorflow:Saver not created because there are no variables in the graph to restore\n"
     ]
    },
    {
     "name": "stderr",
     "output_type": "stream",
     "text": [
      "INFO:tensorflow:Saver not created because there are no variables in the graph to restore\n"
     ]
    },
    {
     "name": "stdout",
     "output_type": "stream",
     "text": [
      "INFO:tensorflow:Saver not created because there are no variables in the graph to restore\n"
     ]
    },
    {
     "name": "stderr",
     "output_type": "stream",
     "text": [
      "INFO:tensorflow:Saver not created because there are no variables in the graph to restore\n"
     ]
    },
    {
     "name": "stdout",
     "output_type": "stream",
     "text": [
      "INFO:tensorflow:Saver not created because there are no variables in the graph to restore\n"
     ]
    },
    {
     "name": "stderr",
     "output_type": "stream",
     "text": [
      "INFO:tensorflow:Saver not created because there are no variables in the graph to restore\n"
     ]
    },
    {
     "name": "stdout",
     "output_type": "stream",
     "text": [
      "INFO:tensorflow:Saver not created because there are no variables in the graph to restore\n"
     ]
    },
    {
     "name": "stderr",
     "output_type": "stream",
     "text": [
      "INFO:tensorflow:Saver not created because there are no variables in the graph to restore\n"
     ]
    },
    {
     "name": "stdout",
     "output_type": "stream",
     "text": [
      "INFO:tensorflow:Saver not created because there are no variables in the graph to restore\n"
     ]
    },
    {
     "name": "stderr",
     "output_type": "stream",
     "text": [
      "INFO:tensorflow:Saver not created because there are no variables in the graph to restore\n"
     ]
    },
    {
     "name": "stdout",
     "output_type": "stream",
     "text": [
      "INFO:tensorflow:Graph was finalized.\n"
     ]
    },
    {
     "name": "stderr",
     "output_type": "stream",
     "text": [
      "INFO:tensorflow:Graph was finalized.\n"
     ]
    },
    {
     "name": "stdout",
     "output_type": "stream",
     "text": [
      "INFO:tensorflow:Running local_init_op.\n"
     ]
    },
    {
     "name": "stderr",
     "output_type": "stream",
     "text": [
      "INFO:tensorflow:Running local_init_op.\n"
     ]
    },
    {
     "name": "stdout",
     "output_type": "stream",
     "text": [
      "INFO:tensorflow:Done running local_init_op.\n"
     ]
    },
    {
     "name": "stderr",
     "output_type": "stream",
     "text": [
      "INFO:tensorflow:Done running local_init_op.\n"
     ]
    }
   ],
   "source": [
    "elmo_embeddings = get_elmo_embeddings(norm_corpus, batch_size=128)\n",
    "elmo_embeddings.shape\n",
    "def embed_elmo(module):\n",
    "    with tf.Graph().as_default():\n",
    "        sentences = tf.placeholder(tf.string)\n",
    "        embed = hub.Module(module)\n",
    "        embeddings = embed(sentences)\n",
    "        session = tf.train.MonitoredSession()\n",
    "    return lambda x: session.run(embeddings, {sentences: x})\n",
    "\n",
    "embed_fn = embed_elmo('https://tfhub.dev/google/elmo/2')"
   ]
  },
  {
   "cell_type": "code",
   "execution_count": 66,
   "id": "26ccd92f-926b-449d-b769-6e909e96d662",
   "metadata": {},
   "outputs": [
    {
     "data": {
      "text/html": [
       "<div>\n",
       "<style scoped>\n",
       "    .dataframe tbody tr th:only-of-type {\n",
       "        vertical-align: middle;\n",
       "    }\n",
       "\n",
       "    .dataframe tbody tr th {\n",
       "        vertical-align: top;\n",
       "    }\n",
       "\n",
       "    .dataframe thead th {\n",
       "        text-align: right;\n",
       "    }\n",
       "</style>\n",
       "<table border=\"1\" class=\"dataframe\">\n",
       "  <thead>\n",
       "    <tr style=\"text-align: right;\">\n",
       "      <th></th>\n",
       "      <th>0</th>\n",
       "      <th>1</th>\n",
       "      <th>2</th>\n",
       "      <th>3</th>\n",
       "      <th>4</th>\n",
       "      <th>5</th>\n",
       "      <th>6</th>\n",
       "      <th>7</th>\n",
       "      <th>8</th>\n",
       "      <th>9</th>\n",
       "      <th>...</th>\n",
       "      <th>15133</th>\n",
       "      <th>15134</th>\n",
       "      <th>15135</th>\n",
       "      <th>15136</th>\n",
       "      <th>15137</th>\n",
       "      <th>15138</th>\n",
       "      <th>15139</th>\n",
       "      <th>15140</th>\n",
       "      <th>15141</th>\n",
       "      <th>15142</th>\n",
       "    </tr>\n",
       "  </thead>\n",
       "  <tbody>\n",
       "    <tr>\n",
       "      <th>0</th>\n",
       "      <td>1.000000</td>\n",
       "      <td>0.961720</td>\n",
       "      <td>0.943541</td>\n",
       "      <td>0.933078</td>\n",
       "      <td>0.953548</td>\n",
       "      <td>0.958907</td>\n",
       "      <td>0.939035</td>\n",
       "      <td>0.945982</td>\n",
       "      <td>0.900532</td>\n",
       "      <td>0.957294</td>\n",
       "      <td>...</td>\n",
       "      <td>0.922879</td>\n",
       "      <td>0.922879</td>\n",
       "      <td>0.923121</td>\n",
       "      <td>0.944530</td>\n",
       "      <td>0.911388</td>\n",
       "      <td>0.933320</td>\n",
       "      <td>0.948500</td>\n",
       "      <td>0.947416</td>\n",
       "      <td>0.912527</td>\n",
       "      <td>0.889984</td>\n",
       "    </tr>\n",
       "    <tr>\n",
       "      <th>1</th>\n",
       "      <td>0.961720</td>\n",
       "      <td>1.000000</td>\n",
       "      <td>0.944772</td>\n",
       "      <td>0.920742</td>\n",
       "      <td>0.955266</td>\n",
       "      <td>0.945610</td>\n",
       "      <td>0.919379</td>\n",
       "      <td>0.943446</td>\n",
       "      <td>0.873450</td>\n",
       "      <td>0.947267</td>\n",
       "      <td>...</td>\n",
       "      <td>0.910074</td>\n",
       "      <td>0.910074</td>\n",
       "      <td>0.919126</td>\n",
       "      <td>0.938618</td>\n",
       "      <td>0.896037</td>\n",
       "      <td>0.944116</td>\n",
       "      <td>0.952642</td>\n",
       "      <td>0.945134</td>\n",
       "      <td>0.906723</td>\n",
       "      <td>0.876394</td>\n",
       "    </tr>\n",
       "    <tr>\n",
       "      <th>2</th>\n",
       "      <td>0.943541</td>\n",
       "      <td>0.944772</td>\n",
       "      <td>1.000000</td>\n",
       "      <td>0.903765</td>\n",
       "      <td>0.955877</td>\n",
       "      <td>0.897310</td>\n",
       "      <td>0.917158</td>\n",
       "      <td>0.904144</td>\n",
       "      <td>0.837909</td>\n",
       "      <td>0.937569</td>\n",
       "      <td>...</td>\n",
       "      <td>0.869820</td>\n",
       "      <td>0.869820</td>\n",
       "      <td>0.893641</td>\n",
       "      <td>0.934557</td>\n",
       "      <td>0.877264</td>\n",
       "      <td>0.940209</td>\n",
       "      <td>0.942057</td>\n",
       "      <td>0.944814</td>\n",
       "      <td>0.883898</td>\n",
       "      <td>0.843734</td>\n",
       "    </tr>\n",
       "    <tr>\n",
       "      <th>3</th>\n",
       "      <td>0.933078</td>\n",
       "      <td>0.920742</td>\n",
       "      <td>0.903765</td>\n",
       "      <td>1.000000</td>\n",
       "      <td>0.896265</td>\n",
       "      <td>0.932743</td>\n",
       "      <td>0.913085</td>\n",
       "      <td>0.919512</td>\n",
       "      <td>0.930887</td>\n",
       "      <td>0.921783</td>\n",
       "      <td>...</td>\n",
       "      <td>0.912286</td>\n",
       "      <td>0.912286</td>\n",
       "      <td>0.916232</td>\n",
       "      <td>0.902967</td>\n",
       "      <td>0.910470</td>\n",
       "      <td>0.890749</td>\n",
       "      <td>0.896446</td>\n",
       "      <td>0.898097</td>\n",
       "      <td>0.923278</td>\n",
       "      <td>0.914271</td>\n",
       "    </tr>\n",
       "    <tr>\n",
       "      <th>4</th>\n",
       "      <td>0.953548</td>\n",
       "      <td>0.955266</td>\n",
       "      <td>0.955877</td>\n",
       "      <td>0.896265</td>\n",
       "      <td>1.000000</td>\n",
       "      <td>0.917211</td>\n",
       "      <td>0.926372</td>\n",
       "      <td>0.929664</td>\n",
       "      <td>0.845408</td>\n",
       "      <td>0.945165</td>\n",
       "      <td>...</td>\n",
       "      <td>0.887628</td>\n",
       "      <td>0.887628</td>\n",
       "      <td>0.904870</td>\n",
       "      <td>0.938565</td>\n",
       "      <td>0.890505</td>\n",
       "      <td>0.952542</td>\n",
       "      <td>0.966495</td>\n",
       "      <td>0.959322</td>\n",
       "      <td>0.891918</td>\n",
       "      <td>0.846833</td>\n",
       "    </tr>\n",
       "  </tbody>\n",
       "</table>\n",
       "<p>5 rows × 15143 columns</p>\n",
       "</div>"
      ],
      "text/plain": [
       "      0         1         2         3         4         5         6      \\\n",
       "0  1.000000  0.961720  0.943541  0.933078  0.953548  0.958907  0.939035   \n",
       "1  0.961720  1.000000  0.944772  0.920742  0.955266  0.945610  0.919379   \n",
       "2  0.943541  0.944772  1.000000  0.903765  0.955877  0.897310  0.917158   \n",
       "3  0.933078  0.920742  0.903765  1.000000  0.896265  0.932743  0.913085   \n",
       "4  0.953548  0.955266  0.955877  0.896265  1.000000  0.917211  0.926372   \n",
       "\n",
       "      7         8         9      ...     15133     15134     15135     15136  \\\n",
       "0  0.945982  0.900532  0.957294  ...  0.922879  0.922879  0.923121  0.944530   \n",
       "1  0.943446  0.873450  0.947267  ...  0.910074  0.910074  0.919126  0.938618   \n",
       "2  0.904144  0.837909  0.937569  ...  0.869820  0.869820  0.893641  0.934557   \n",
       "3  0.919512  0.930887  0.921783  ...  0.912286  0.912286  0.916232  0.902967   \n",
       "4  0.929664  0.845408  0.945165  ...  0.887628  0.887628  0.904870  0.938565   \n",
       "\n",
       "      15137     15138     15139     15140     15141     15142  \n",
       "0  0.911388  0.933320  0.948500  0.947416  0.912527  0.889984  \n",
       "1  0.896037  0.944116  0.952642  0.945134  0.906723  0.876394  \n",
       "2  0.877264  0.940209  0.942057  0.944814  0.883898  0.843734  \n",
       "3  0.910470  0.890749  0.896446  0.898097  0.923278  0.914271  \n",
       "4  0.890505  0.952542  0.966495  0.959322  0.891918  0.846833  \n",
       "\n",
       "[5 rows x 15143 columns]"
      ]
     },
     "execution_count": 66,
     "metadata": {},
     "output_type": "execute_result"
    }
   ],
   "source": [
    "doc_sim = cosine_similarity(elmo_embeddings)\n",
    "doc_sim_df = pd.DataFrame(doc_sim)\n",
    "doc_sim_df.head()"
   ]
  },
  {
   "cell_type": "code",
   "execution_count": 67,
   "id": "a4bf6e34-4772-4aa1-a0fb-6c2cfc19965c",
   "metadata": {},
   "outputs": [
    {
     "name": "stdout",
     "output_type": "stream",
     "text": [
      "Popular: Reuni212\n",
      "Top 5 recommended popular hashtags: ['Papua,WestPapua,PapuaIndonesia,papuaviral,OPM,KKB_KelompokTeroris,KST,separatis,teroris'\n",
      " 'dukungMUI,dukungMUI,pedeipehbubarkan'\n",
      " 'BravoDensus88,TolakReuniKadrun212,LanjutkanVaksinasi'\n",
      " 'PolriCepatResponsif' 'seriusNanya']\n",
      "\n",
      "Popular: AksiSuperDamai212\n",
      "Top 5 recommended popular hashtags: ['AksiSuperDamai212' 'AksiSuperDamai212' 'KKBGangguPembangunanPapua'\n",
      " 'dukungMUI,StopWacanaBubarkanMUI' 'CakImin,TerorisKKB,TNI']\n",
      "\n",
      "Popular: bubarkanMUI\n",
      "Top 5 recommended popular hashtags: ['DUKUNGDENSUS88,BUBARKANMUI' 'bubarkanMUI' 'PapuaIndonesia,jkrb'\n",
      " 'bubarkanMUI' 'bubarkanMUI,BubarkanMUISarangTeroris']\n",
      "\n",
      "Popular: BubarknReuniKadrun212\n",
      "Top 5 recommended popular hashtags: ['teroris' 'radikal,teroris,isis' 'Tangkap' 'GerakanAksiBelaUlama'\n",
      " 'MUIdukungDensus88']\n",
      "\n",
      "Popular: saudarateroris\n",
      "Top 5 recommended popular hashtags: ['agama_preman' 'KoranTempo' 'MakzulkanJokowiPembenciIslam' 'ProxyChina'\n",
      " 'SaminaWaathonaIBHRS']\n",
      "\n",
      "Popular: PapuaIndonesia\n",
      "Top 5 recommended popular hashtags: ['PapuaIndonesia' 'PapuaIndonesia' 'PapuaIndonesia' 'PapuaIndonesia'\n",
      " 'PapuaIndonesia']\n",
      "\n",
      "Popular: MUISarangTeroris\n",
      "Top 5 recommended popular hashtags: ['MUISarangTeroris' 'bubarkanMUI,MUISarangTeroris' 'MUISarangTeroris'\n",
      " 'MUISarangTeroris' 'PrajuritJugaManusia']\n",
      "\n",
      "Popular: KamiBersamaDensus88\n",
      "Top 5 recommended popular hashtags: ['PapuaIndonesia' 'SalamGaruda,PancasilaAseek' 'PapuaIndonesia'\n",
      " 'PapuaIndonesia' 'papua,jokowi,mabestni']\n",
      "\n",
      "Popular: dukungMUI\n",
      "Top 5 recommended popular hashtags: ['dukungMUI' 'dukungMUI,dukungMUI' 'dukungMUI' 'dukungMUI,dukungMUI'\n",
      " 'BubarkanMUISarangTeroris']\n",
      "\n",
      "Popular: MUIbersamaDensus\n",
      "Top 5 recommended popular hashtags: ['MUIdukungDensus88' 'DukungMUI,kamibersamaMUI' 'MUIbersamaDensus'\n",
      " 'AniesDipusaranTokohTeroris' 'AniesDipusaranTokohTeroris']\n",
      "\n",
      "Popular: PDIPPengkhianatPancasila\n",
      "Top 5 recommended popular hashtags: ['PDIPPengkhianatPancasila,PDIPPengkhianatPancasila' 'dukungMUI,dukungMUI'\n",
      " 'SalamGaruda,PancasilaAseek' 'mikir,dukungMUI' 'bukanmaen']\n",
      "\n",
      "Popular: BaharBinSmith\n",
      "Top 5 recommended popular hashtags: ['BaharBinSmith' 'BaharBinSmith' 'BaharBinSmith' 'BaharBinSmith'\n",
      " 'BaharBinSmith']\n",
      "\n",
      "Popular: PolriCepatResponsifn\n"
     ]
    },
    {
     "ename": "IndexError",
     "evalue": "index 0 is out of bounds for axis 0 with size 0",
     "output_type": "error",
     "traceback": [
      "\u001b[1;31m---------------------------------------------------------------------------\u001b[0m",
      "\u001b[1;31mIndexError\u001b[0m                                Traceback (most recent call last)",
      "\u001b[1;32m<ipython-input-67-2ecc6d4cf78d>\u001b[0m in \u001b[0;36m<module>\u001b[1;34m\u001b[0m\n\u001b[0;32m      1\u001b[0m \u001b[1;32mfor\u001b[0m \u001b[0mpopular\u001b[0m \u001b[1;32min\u001b[0m \u001b[0mpopular_radicalism\u001b[0m\u001b[1;33m:\u001b[0m\u001b[1;33m\u001b[0m\u001b[1;33m\u001b[0m\u001b[0m\n\u001b[0;32m      2\u001b[0m     \u001b[0mprint\u001b[0m\u001b[1;33m(\u001b[0m\u001b[1;34m'Popular:'\u001b[0m\u001b[1;33m,\u001b[0m \u001b[0mpopular\u001b[0m\u001b[1;33m)\u001b[0m\u001b[1;33m\u001b[0m\u001b[1;33m\u001b[0m\u001b[0m\n\u001b[1;32m----> 3\u001b[1;33m     print('Top 5 recommended popular hashtags:', radicalism_recommender(radicalism_title=popular,\n\u001b[0m\u001b[0;32m      4\u001b[0m                                                                         \u001b[0mradicalism\u001b[0m\u001b[1;33m=\u001b[0m\u001b[0mradicalism_list\u001b[0m\u001b[1;33m,\u001b[0m\u001b[1;33m\u001b[0m\u001b[1;33m\u001b[0m\u001b[0m\n\u001b[0;32m      5\u001b[0m                                                                         doc_sims=doc_sim_df))\n",
      "\u001b[1;32m<ipython-input-21-e51faff20363>\u001b[0m in \u001b[0;36mradicalism_recommender\u001b[1;34m(radicalism_title, radicalism, doc_sims)\u001b[0m\n\u001b[0;32m      1\u001b[0m \u001b[1;32mdef\u001b[0m \u001b[0mradicalism_recommender\u001b[0m\u001b[1;33m(\u001b[0m\u001b[0mradicalism_title\u001b[0m\u001b[1;33m,\u001b[0m \u001b[0mradicalism\u001b[0m\u001b[1;33m=\u001b[0m\u001b[0mradicalism_list\u001b[0m\u001b[1;33m,\u001b[0m \u001b[0mdoc_sims\u001b[0m\u001b[1;33m=\u001b[0m\u001b[0mdoc_sim_df\u001b[0m\u001b[1;33m)\u001b[0m\u001b[1;33m:\u001b[0m\u001b[1;33m\u001b[0m\u001b[1;33m\u001b[0m\u001b[0m\n\u001b[0;32m      2\u001b[0m     \u001b[1;31m# find movie id\u001b[0m\u001b[1;33m\u001b[0m\u001b[1;33m\u001b[0m\u001b[1;33m\u001b[0m\u001b[0m\n\u001b[1;32m----> 3\u001b[1;33m     \u001b[0mradicalism_idx\u001b[0m \u001b[1;33m=\u001b[0m \u001b[0mnp\u001b[0m\u001b[1;33m.\u001b[0m\u001b[0mwhere\u001b[0m\u001b[1;33m(\u001b[0m\u001b[0mradicalism\u001b[0m \u001b[1;33m==\u001b[0m \u001b[0mradicalism_title\u001b[0m\u001b[1;33m)\u001b[0m\u001b[1;33m[\u001b[0m\u001b[1;36m0\u001b[0m\u001b[1;33m]\u001b[0m\u001b[1;33m[\u001b[0m\u001b[1;36m0\u001b[0m\u001b[1;33m]\u001b[0m\u001b[1;33m\u001b[0m\u001b[1;33m\u001b[0m\u001b[0m\n\u001b[0m\u001b[0;32m      4\u001b[0m     \u001b[1;31m# get movie similarities\u001b[0m\u001b[1;33m\u001b[0m\u001b[1;33m\u001b[0m\u001b[1;33m\u001b[0m\u001b[0m\n\u001b[0;32m      5\u001b[0m     \u001b[0mradicalism_similarities\u001b[0m \u001b[1;33m=\u001b[0m \u001b[0mdoc_sims\u001b[0m\u001b[1;33m.\u001b[0m\u001b[0miloc\u001b[0m\u001b[1;33m[\u001b[0m\u001b[0mradicalism_idx\u001b[0m\u001b[1;33m]\u001b[0m\u001b[1;33m.\u001b[0m\u001b[0mvalues\u001b[0m\u001b[1;33m\u001b[0m\u001b[1;33m\u001b[0m\u001b[0m\n",
      "\u001b[1;31mIndexError\u001b[0m: index 0 is out of bounds for axis 0 with size 0"
     ]
    }
   ],
   "source": [
    "for popular in popular_radicalism:\n",
    "    print('Popular:', popular)\n",
    "    print('Top 5 recommended popular hashtags:', radicalism_recommender(radicalism_title=popular,\n",
    "                                                                        radicalism=radicalism_list,\n",
    "                                                                        doc_sims=doc_sim_df))\n",
    "    print()"
   ]
  },
  {
   "cell_type": "code",
   "execution_count": 81,
   "id": "de807a9d-73a9-42ca-b265-31d0df7c6441",
   "metadata": {},
   "outputs": [
    {
     "name": "stdout",
     "output_type": "stream",
     "text": [
      "2021-12-08 05:33:06.806906\n"
     ]
    }
   ],
   "source": [
    "x = datetime.datetime.now()\n",
    "print(x)"
   ]
  },
  {
   "cell_type": "markdown",
   "id": "a7800efc-9c03-449d-9601-3e5d3cf410d5",
   "metadata": {},
   "source": [
    "<h2>Here I deliberately did not set the index so that there are still a few errors even though some of the output has been shown. Actually I want to repeat again and set the index, but it takes a long time to calculate the similarity of the \"text\" column.</h2>"
   ]
  },
  {
   "cell_type": "code",
   "execution_count": null,
   "id": "cc3a7768-0fa3-4c87-90f8-1376d62a308c",
   "metadata": {},
   "outputs": [],
   "source": []
  }
 ],
 "metadata": {
  "kernelspec": {
   "display_name": "Python 3",
   "language": "python",
   "name": "python3"
  },
  "language_info": {
   "codemirror_mode": {
    "name": "ipython",
    "version": 3
   },
   "file_extension": ".py",
   "mimetype": "text/x-python",
   "name": "python",
   "nbconvert_exporter": "python",
   "pygments_lexer": "ipython3",
   "version": "3.8.10"
  }
 },
 "nbformat": 4,
 "nbformat_minor": 5
}
